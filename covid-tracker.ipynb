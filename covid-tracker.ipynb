{
 "cells": [
  {
   "cell_type": "markdown",
   "metadata": {},
   "source": [
    "# COVID19 -  INDIA TRACKER"
   ]
  },
  {
   "cell_type": "markdown",
   "metadata": {},
   "source": [
    "It contains some graphs and maps that will give you the latest updates about the pandemic - **CORONA VIRUS**\n",
    "\n",
    "\n",
    "\n",
    "\n",
    "   **Open as a desktop-site for a better view !**\n",
    "                                   \n",
    "                                   \n",
    "\n",
    "<h1>Developed By:</h1>\n",
    "    \n",
    "    \n",
    "   <font color=\"Blue\">Anujay Suyal</font>\n",
    "    \n",
    "    \n",
    "   <font color=\"Blue\">Vaishali Pant</font>\n",
    " "
   ]
  },
  {
   "cell_type": "code",
   "execution_count": 4,
   "metadata": {},
   "outputs": [],
   "source": [
    "\n",
    "import pandas as pd\n",
    "import matplotlib.pyplot as plt\n",
    "from matplotlib import style\n",
    "style.use('ggplot')\n",
    "%matplotlib inline\n",
    "import seaborn as sb\n",
    "import plotly\n",
    "import plotly.express as px\n",
    "import plotly.graph_objects as go \n",
    "plt.rcParams['figure.figsize']=17,8\n",
    "import cufflinks as cf \n",
    "import plotly.offline as pyo\n",
    "from plotly.offline import init_notebook_mode,plot,iplot\n",
    "\n",
    "import folium #to use maps\n",
    "\n"
   ]
  },
  {
   "cell_type": "code",
   "execution_count": 5,
   "metadata": {},
   "outputs": [
    {
     "data": {
      "text/html": [
       "        <script type=\"text/javascript\">\n",
       "        window.PlotlyConfig = {MathJaxConfig: 'local'};\n",
       "        if (window.MathJax) {MathJax.Hub.Config({SVG: {font: \"STIX-Web\"}});}\n",
       "        if (typeof require !== 'undefined') {\n",
       "        require.undef(\"plotly\");\n",
       "        requirejs.config({\n",
       "            paths: {\n",
       "                'plotly': ['https://cdn.plot.ly/plotly-latest.min']\n",
       "            }\n",
       "        });\n",
       "        require(['plotly'], function(Plotly) {\n",
       "            window._Plotly = Plotly;\n",
       "        });\n",
       "        }\n",
       "        </script>\n",
       "        "
      ]
     },
     "metadata": {},
     "output_type": "display_data"
    },
    {
     "data": {
      "text/html": [
       "        <script type=\"text/javascript\">\n",
       "        window.PlotlyConfig = {MathJaxConfig: 'local'};\n",
       "        if (window.MathJax) {MathJax.Hub.Config({SVG: {font: \"STIX-Web\"}});}\n",
       "        if (typeof require !== 'undefined') {\n",
       "        require.undef(\"plotly\");\n",
       "        requirejs.config({\n",
       "            paths: {\n",
       "                'plotly': ['https://cdn.plot.ly/plotly-latest.min']\n",
       "            }\n",
       "        });\n",
       "        require(['plotly'], function(Plotly) {\n",
       "            window._Plotly = Plotly;\n",
       "        });\n",
       "        }\n",
       "        </script>\n",
       "        "
      ]
     },
     "metadata": {},
     "output_type": "display_data"
    }
   ],
   "source": [
    "pyo.init_notebook_mode(connected=True)\n",
    "cf.go_offline()"
   ]
  },
  {
   "cell_type": "code",
   "execution_count": 6,
   "metadata": {},
   "outputs": [],
   "source": [
    "df=pd.read_csv(\"https://api.covid19india.org/csv/latest/state_wise.csv\")\n"
   ]
  },
  {
   "cell_type": "code",
   "execution_count": 7,
   "metadata": {},
   "outputs": [],
   "source": [
    "##df"
   ]
  },
  {
   "cell_type": "code",
   "execution_count": 8,
   "metadata": {},
   "outputs": [],
   "source": [
    "df.drop(['Last_Updated_Time','Delta_Confirmed','State_Notes','Delta_Deaths','Delta_Recovered'],axis=1,inplace=True)\n"
   ]
  },
  {
   "cell_type": "code",
   "execution_count": 9,
   "metadata": {},
   "outputs": [],
   "source": [
    "##df"
   ]
  },
  {
   "cell_type": "markdown",
   "metadata": {},
   "source": [
    "# CURRENT SITUATION OF COVID-19 IN INDIA :"
   ]
  },
  {
   "cell_type": "code",
   "execution_count": 10,
   "metadata": {},
   "outputs": [],
   "source": [
    "##import datetime\n",
    "##now=datetime.datetime.now()\n",
    "##print(\"Current Date and Time :\") \n",
    "##print(now.strftime(\"%d-%m-%Y   %H:%M:%S\"))"
   ]
  },
  {
   "cell_type": "code",
   "execution_count": 11,
   "metadata": {},
   "outputs": [
    {
     "data": {
      "text/html": [
       "<style  type=\"text/css\" >\n",
       "    #T_0a5a7a80_91ab_11ea_9bbd_308d99678c9drow0_col1 {\n",
       "            background-color:  #67000d;\n",
       "            color:  #f1f1f1;\n",
       "        }    #T_0a5a7a80_91ab_11ea_9bbd_308d99678c9drow0_col2 {\n",
       "            background-color:  #67000d;\n",
       "            color:  #f1f1f1;\n",
       "        }    #T_0a5a7a80_91ab_11ea_9bbd_308d99678c9drow0_col3 {\n",
       "            background-color:  #67000d;\n",
       "            color:  #f1f1f1;\n",
       "        }    #T_0a5a7a80_91ab_11ea_9bbd_308d99678c9drow0_col4 {\n",
       "            background-color:  #67000d;\n",
       "            color:  #f1f1f1;\n",
       "        }    #T_0a5a7a80_91ab_11ea_9bbd_308d99678c9drow1_col1 {\n",
       "            background-color:  #fca588;\n",
       "            color:  #000000;\n",
       "        }    #T_0a5a7a80_91ab_11ea_9bbd_308d99678c9drow1_col2 {\n",
       "            background-color:  #fdccb8;\n",
       "            color:  #000000;\n",
       "        }    #T_0a5a7a80_91ab_11ea_9bbd_308d99678c9drow1_col3 {\n",
       "            background-color:  #fc9474;\n",
       "            color:  #000000;\n",
       "        }    #T_0a5a7a80_91ab_11ea_9bbd_308d99678c9drow1_col4 {\n",
       "            background-color:  #fc9373;\n",
       "            color:  #000000;\n",
       "        }    #T_0a5a7a80_91ab_11ea_9bbd_308d99678c9drow2_col1 {\n",
       "            background-color:  #fee1d3;\n",
       "            color:  #000000;\n",
       "        }    #T_0a5a7a80_91ab_11ea_9bbd_308d99678c9drow2_col2 {\n",
       "            background-color:  #fee4d8;\n",
       "            color:  #000000;\n",
       "        }    #T_0a5a7a80_91ab_11ea_9bbd_308d99678c9drow2_col3 {\n",
       "            background-color:  #fcc3ab;\n",
       "            color:  #000000;\n",
       "        }    #T_0a5a7a80_91ab_11ea_9bbd_308d99678c9drow2_col4 {\n",
       "            background-color:  #fee0d2;\n",
       "            color:  #000000;\n",
       "        }    #T_0a5a7a80_91ab_11ea_9bbd_308d99678c9drow3_col1 {\n",
       "            background-color:  #fee5d8;\n",
       "            color:  #000000;\n",
       "        }    #T_0a5a7a80_91ab_11ea_9bbd_308d99678c9drow3_col2 {\n",
       "            background-color:  #fee7db;\n",
       "            color:  #000000;\n",
       "        }    #T_0a5a7a80_91ab_11ea_9bbd_308d99678c9drow3_col3 {\n",
       "            background-color:  #fff2eb;\n",
       "            color:  #000000;\n",
       "        }    #T_0a5a7a80_91ab_11ea_9bbd_308d99678c9drow3_col4 {\n",
       "            background-color:  #fee3d6;\n",
       "            color:  #000000;\n",
       "        }    #T_0a5a7a80_91ab_11ea_9bbd_308d99678c9drow4_col1 {\n",
       "            background-color:  #fee3d7;\n",
       "            color:  #000000;\n",
       "        }    #T_0a5a7a80_91ab_11ea_9bbd_308d99678c9drow4_col2 {\n",
       "            background-color:  #fee3d6;\n",
       "            color:  #000000;\n",
       "        }    #T_0a5a7a80_91ab_11ea_9bbd_308d99678c9drow4_col3 {\n",
       "            background-color:  #fff0e8;\n",
       "            color:  #000000;\n",
       "        }    #T_0a5a7a80_91ab_11ea_9bbd_308d99678c9drow4_col4 {\n",
       "            background-color:  #fee3d7;\n",
       "            color:  #000000;\n",
       "        }    #T_0a5a7a80_91ab_11ea_9bbd_308d99678c9drow5_col1 {\n",
       "            background-color:  #ffebe2;\n",
       "            color:  #000000;\n",
       "        }    #T_0a5a7a80_91ab_11ea_9bbd_308d99678c9drow5_col2 {\n",
       "            background-color:  #fee3d6;\n",
       "            color:  #000000;\n",
       "        }    #T_0a5a7a80_91ab_11ea_9bbd_308d99678c9drow5_col3 {\n",
       "            background-color:  #ffece4;\n",
       "            color:  #000000;\n",
       "        }    #T_0a5a7a80_91ab_11ea_9bbd_308d99678c9drow5_col4 {\n",
       "            background-color:  #ffefe8;\n",
       "            color:  #000000;\n",
       "        }    #T_0a5a7a80_91ab_11ea_9bbd_308d99678c9drow6_col1 {\n",
       "            background-color:  #ffece3;\n",
       "            color:  #000000;\n",
       "        }    #T_0a5a7a80_91ab_11ea_9bbd_308d99678c9drow6_col2 {\n",
       "            background-color:  #fee8de;\n",
       "            color:  #000000;\n",
       "        }    #T_0a5a7a80_91ab_11ea_9bbd_308d99678c9drow6_col3 {\n",
       "            background-color:  #fee5d8;\n",
       "            color:  #000000;\n",
       "        }    #T_0a5a7a80_91ab_11ea_9bbd_308d99678c9drow6_col4 {\n",
       "            background-color:  #ffeee6;\n",
       "            color:  #000000;\n",
       "        }    #T_0a5a7a80_91ab_11ea_9bbd_308d99678c9drow7_col1 {\n",
       "            background-color:  #ffece4;\n",
       "            color:  #000000;\n",
       "        }    #T_0a5a7a80_91ab_11ea_9bbd_308d99678c9drow7_col2 {\n",
       "            background-color:  #fee8de;\n",
       "            color:  #000000;\n",
       "        }    #T_0a5a7a80_91ab_11ea_9bbd_308d99678c9drow7_col3 {\n",
       "            background-color:  #fff0e8;\n",
       "            color:  #000000;\n",
       "        }    #T_0a5a7a80_91ab_11ea_9bbd_308d99678c9drow7_col4 {\n",
       "            background-color:  #ffeee6;\n",
       "            color:  #000000;\n",
       "        }    #T_0a5a7a80_91ab_11ea_9bbd_308d99678c9drow8_col1 {\n",
       "            background-color:  #fff0e8;\n",
       "            color:  #000000;\n",
       "        }    #T_0a5a7a80_91ab_11ea_9bbd_308d99678c9drow8_col2 {\n",
       "            background-color:  #ffede5;\n",
       "            color:  #000000;\n",
       "        }    #T_0a5a7a80_91ab_11ea_9bbd_308d99678c9drow8_col3 {\n",
       "            background-color:  #fff2eb;\n",
       "            color:  #000000;\n",
       "        }    #T_0a5a7a80_91ab_11ea_9bbd_308d99678c9drow8_col4 {\n",
       "            background-color:  #fff1ea;\n",
       "            color:  #000000;\n",
       "        }    #T_0a5a7a80_91ab_11ea_9bbd_308d99678c9drow9_col1 {\n",
       "            background-color:  #fff0e9;\n",
       "            color:  #000000;\n",
       "        }    #T_0a5a7a80_91ab_11ea_9bbd_308d99678c9drow9_col2 {\n",
       "            background-color:  #fff4ee;\n",
       "            color:  #000000;\n",
       "        }    #T_0a5a7a80_91ab_11ea_9bbd_308d99678c9drow9_col3 {\n",
       "            background-color:  #fff3ed;\n",
       "            color:  #000000;\n",
       "        }    #T_0a5a7a80_91ab_11ea_9bbd_308d99678c9drow9_col4 {\n",
       "            background-color:  #ffefe8;\n",
       "            color:  #000000;\n",
       "        }    #T_0a5a7a80_91ab_11ea_9bbd_308d99678c9drow10_col1 {\n",
       "            background-color:  #fff0e9;\n",
       "            color:  #000000;\n",
       "        }    #T_0a5a7a80_91ab_11ea_9bbd_308d99678c9drow10_col2 {\n",
       "            background-color:  #fff2ec;\n",
       "            color:  #000000;\n",
       "        }    #T_0a5a7a80_91ab_11ea_9bbd_308d99678c9drow10_col3 {\n",
       "            background-color:  #fee8dd;\n",
       "            color:  #000000;\n",
       "        }    #T_0a5a7a80_91ab_11ea_9bbd_308d99678c9drow10_col4 {\n",
       "            background-color:  #fff0e9;\n",
       "            color:  #000000;\n",
       "        }    #T_0a5a7a80_91ab_11ea_9bbd_308d99678c9drow11_col1 {\n",
       "            background-color:  #fff2ec;\n",
       "            color:  #000000;\n",
       "        }    #T_0a5a7a80_91ab_11ea_9bbd_308d99678c9drow11_col2 {\n",
       "            background-color:  #ffeee7;\n",
       "            color:  #000000;\n",
       "        }    #T_0a5a7a80_91ab_11ea_9bbd_308d99678c9drow11_col3 {\n",
       "            background-color:  #fff3ed;\n",
       "            color:  #000000;\n",
       "        }    #T_0a5a7a80_91ab_11ea_9bbd_308d99678c9drow11_col4 {\n",
       "            background-color:  #fff4ee;\n",
       "            color:  #000000;\n",
       "        }    #T_0a5a7a80_91ab_11ea_9bbd_308d99678c9drow12_col1 {\n",
       "            background-color:  #fff3ed;\n",
       "            color:  #000000;\n",
       "        }    #T_0a5a7a80_91ab_11ea_9bbd_308d99678c9drow12_col2 {\n",
       "            background-color:  #fff2eb;\n",
       "            color:  #000000;\n",
       "        }    #T_0a5a7a80_91ab_11ea_9bbd_308d99678c9drow12_col3 {\n",
       "            background-color:  #fff4ef;\n",
       "            color:  #000000;\n",
       "        }    #T_0a5a7a80_91ab_11ea_9bbd_308d99678c9drow12_col4 {\n",
       "            background-color:  #fff4ee;\n",
       "            color:  #000000;\n",
       "        }    #T_0a5a7a80_91ab_11ea_9bbd_308d99678c9drow13_col1 {\n",
       "            background-color:  #fff3ed;\n",
       "            color:  #000000;\n",
       "        }    #T_0a5a7a80_91ab_11ea_9bbd_308d99678c9drow13_col2 {\n",
       "            background-color:  #fff2eb;\n",
       "            color:  #000000;\n",
       "        }    #T_0a5a7a80_91ab_11ea_9bbd_308d99678c9drow13_col3 {\n",
       "            background-color:  #fff3ed;\n",
       "            color:  #000000;\n",
       "        }    #T_0a5a7a80_91ab_11ea_9bbd_308d99678c9drow13_col4 {\n",
       "            background-color:  #fff4ee;\n",
       "            color:  #000000;\n",
       "        }    #T_0a5a7a80_91ab_11ea_9bbd_308d99678c9drow14_col1 {\n",
       "            background-color:  #fff4ee;\n",
       "            color:  #000000;\n",
       "        }    #T_0a5a7a80_91ab_11ea_9bbd_308d99678c9drow14_col2 {\n",
       "            background-color:  #fff3ed;\n",
       "            color:  #000000;\n",
       "        }    #T_0a5a7a80_91ab_11ea_9bbd_308d99678c9drow14_col3 {\n",
       "            background-color:  #fff4ef;\n",
       "            color:  #000000;\n",
       "        }    #T_0a5a7a80_91ab_11ea_9bbd_308d99678c9drow14_col4 {\n",
       "            background-color:  #fff4ee;\n",
       "            color:  #000000;\n",
       "        }    #T_0a5a7a80_91ab_11ea_9bbd_308d99678c9drow15_col1 {\n",
       "            background-color:  #fff4ee;\n",
       "            color:  #000000;\n",
       "        }    #T_0a5a7a80_91ab_11ea_9bbd_308d99678c9drow15_col2 {\n",
       "            background-color:  #fff3ed;\n",
       "            color:  #000000;\n",
       "        }    #T_0a5a7a80_91ab_11ea_9bbd_308d99678c9drow15_col3 {\n",
       "            background-color:  #fff5f0;\n",
       "            color:  #000000;\n",
       "        }    #T_0a5a7a80_91ab_11ea_9bbd_308d99678c9drow15_col4 {\n",
       "            background-color:  #fff4ef;\n",
       "            color:  #000000;\n",
       "        }    #T_0a5a7a80_91ab_11ea_9bbd_308d99678c9drow16_col1 {\n",
       "            background-color:  #fff4ee;\n",
       "            color:  #000000;\n",
       "        }    #T_0a5a7a80_91ab_11ea_9bbd_308d99678c9drow16_col2 {\n",
       "            background-color:  #fff1ea;\n",
       "            color:  #000000;\n",
       "        }    #T_0a5a7a80_91ab_11ea_9bbd_308d99678c9drow16_col3 {\n",
       "            background-color:  #fff5f0;\n",
       "            color:  #000000;\n",
       "        }    #T_0a5a7a80_91ab_11ea_9bbd_308d99678c9drow16_col4 {\n",
       "            background-color:  #fff5f0;\n",
       "            color:  #000000;\n",
       "        }    #T_0a5a7a80_91ab_11ea_9bbd_308d99678c9drow17_col1 {\n",
       "            background-color:  #fff4ef;\n",
       "            color:  #000000;\n",
       "        }    #T_0a5a7a80_91ab_11ea_9bbd_308d99678c9drow17_col2 {\n",
       "            background-color:  #fff5f0;\n",
       "            color:  #000000;\n",
       "        }    #T_0a5a7a80_91ab_11ea_9bbd_308d99678c9drow17_col3 {\n",
       "            background-color:  #fff5f0;\n",
       "            color:  #000000;\n",
       "        }    #T_0a5a7a80_91ab_11ea_9bbd_308d99678c9drow17_col4 {\n",
       "            background-color:  #fff4ef;\n",
       "            color:  #000000;\n",
       "        }    #T_0a5a7a80_91ab_11ea_9bbd_308d99678c9drow18_col1 {\n",
       "            background-color:  #fff5f0;\n",
       "            color:  #000000;\n",
       "        }    #T_0a5a7a80_91ab_11ea_9bbd_308d99678c9drow18_col2 {\n",
       "            background-color:  #fff5f0;\n",
       "            color:  #000000;\n",
       "        }    #T_0a5a7a80_91ab_11ea_9bbd_308d99678c9drow18_col3 {\n",
       "            background-color:  #fff5f0;\n",
       "            color:  #000000;\n",
       "        }    #T_0a5a7a80_91ab_11ea_9bbd_308d99678c9drow18_col4 {\n",
       "            background-color:  #fff5f0;\n",
       "            color:  #000000;\n",
       "        }    #T_0a5a7a80_91ab_11ea_9bbd_308d99678c9drow19_col1 {\n",
       "            background-color:  #fff5f0;\n",
       "            color:  #000000;\n",
       "        }    #T_0a5a7a80_91ab_11ea_9bbd_308d99678c9drow19_col2 {\n",
       "            background-color:  #fff5f0;\n",
       "            color:  #000000;\n",
       "        }    #T_0a5a7a80_91ab_11ea_9bbd_308d99678c9drow19_col3 {\n",
       "            background-color:  #fff5f0;\n",
       "            color:  #000000;\n",
       "        }    #T_0a5a7a80_91ab_11ea_9bbd_308d99678c9drow19_col4 {\n",
       "            background-color:  #fff5f0;\n",
       "            color:  #000000;\n",
       "        }    #T_0a5a7a80_91ab_11ea_9bbd_308d99678c9drow20_col1 {\n",
       "            background-color:  #fff5f0;\n",
       "            color:  #000000;\n",
       "        }    #T_0a5a7a80_91ab_11ea_9bbd_308d99678c9drow20_col2 {\n",
       "            background-color:  #fff5f0;\n",
       "            color:  #000000;\n",
       "        }    #T_0a5a7a80_91ab_11ea_9bbd_308d99678c9drow20_col3 {\n",
       "            background-color:  #fff5f0;\n",
       "            color:  #000000;\n",
       "        }    #T_0a5a7a80_91ab_11ea_9bbd_308d99678c9drow20_col4 {\n",
       "            background-color:  #fff5f0;\n",
       "            color:  #000000;\n",
       "        }    #T_0a5a7a80_91ab_11ea_9bbd_308d99678c9drow21_col1 {\n",
       "            background-color:  #fff5f0;\n",
       "            color:  #000000;\n",
       "        }    #T_0a5a7a80_91ab_11ea_9bbd_308d99678c9drow21_col2 {\n",
       "            background-color:  #fff5f0;\n",
       "            color:  #000000;\n",
       "        }    #T_0a5a7a80_91ab_11ea_9bbd_308d99678c9drow21_col3 {\n",
       "            background-color:  #fff5f0;\n",
       "            color:  #000000;\n",
       "        }    #T_0a5a7a80_91ab_11ea_9bbd_308d99678c9drow21_col4 {\n",
       "            background-color:  #fff5f0;\n",
       "            color:  #000000;\n",
       "        }    #T_0a5a7a80_91ab_11ea_9bbd_308d99678c9drow22_col1 {\n",
       "            background-color:  #fff5f0;\n",
       "            color:  #000000;\n",
       "        }    #T_0a5a7a80_91ab_11ea_9bbd_308d99678c9drow22_col2 {\n",
       "            background-color:  #fff5f0;\n",
       "            color:  #000000;\n",
       "        }    #T_0a5a7a80_91ab_11ea_9bbd_308d99678c9drow22_col3 {\n",
       "            background-color:  #fff5f0;\n",
       "            color:  #000000;\n",
       "        }    #T_0a5a7a80_91ab_11ea_9bbd_308d99678c9drow22_col4 {\n",
       "            background-color:  #fff5f0;\n",
       "            color:  #000000;\n",
       "        }    #T_0a5a7a80_91ab_11ea_9bbd_308d99678c9drow23_col1 {\n",
       "            background-color:  #fff5f0;\n",
       "            color:  #000000;\n",
       "        }    #T_0a5a7a80_91ab_11ea_9bbd_308d99678c9drow23_col2 {\n",
       "            background-color:  #fff5f0;\n",
       "            color:  #000000;\n",
       "        }    #T_0a5a7a80_91ab_11ea_9bbd_308d99678c9drow23_col3 {\n",
       "            background-color:  #fff5f0;\n",
       "            color:  #000000;\n",
       "        }    #T_0a5a7a80_91ab_11ea_9bbd_308d99678c9drow23_col4 {\n",
       "            background-color:  #fff5f0;\n",
       "            color:  #000000;\n",
       "        }    #T_0a5a7a80_91ab_11ea_9bbd_308d99678c9drow24_col1 {\n",
       "            background-color:  #fff5f0;\n",
       "            color:  #000000;\n",
       "        }    #T_0a5a7a80_91ab_11ea_9bbd_308d99678c9drow24_col2 {\n",
       "            background-color:  #fff5f0;\n",
       "            color:  #000000;\n",
       "        }    #T_0a5a7a80_91ab_11ea_9bbd_308d99678c9drow24_col3 {\n",
       "            background-color:  #fff5f0;\n",
       "            color:  #000000;\n",
       "        }    #T_0a5a7a80_91ab_11ea_9bbd_308d99678c9drow24_col4 {\n",
       "            background-color:  #fff5f0;\n",
       "            color:  #000000;\n",
       "        }    #T_0a5a7a80_91ab_11ea_9bbd_308d99678c9drow25_col1 {\n",
       "            background-color:  #fff5f0;\n",
       "            color:  #000000;\n",
       "        }    #T_0a5a7a80_91ab_11ea_9bbd_308d99678c9drow25_col2 {\n",
       "            background-color:  #fff5f0;\n",
       "            color:  #000000;\n",
       "        }    #T_0a5a7a80_91ab_11ea_9bbd_308d99678c9drow25_col3 {\n",
       "            background-color:  #fff5f0;\n",
       "            color:  #000000;\n",
       "        }    #T_0a5a7a80_91ab_11ea_9bbd_308d99678c9drow25_col4 {\n",
       "            background-color:  #fff5f0;\n",
       "            color:  #000000;\n",
       "        }    #T_0a5a7a80_91ab_11ea_9bbd_308d99678c9drow26_col1 {\n",
       "            background-color:  #fff5f0;\n",
       "            color:  #000000;\n",
       "        }    #T_0a5a7a80_91ab_11ea_9bbd_308d99678c9drow26_col2 {\n",
       "            background-color:  #fff5f0;\n",
       "            color:  #000000;\n",
       "        }    #T_0a5a7a80_91ab_11ea_9bbd_308d99678c9drow26_col3 {\n",
       "            background-color:  #fff5f0;\n",
       "            color:  #000000;\n",
       "        }    #T_0a5a7a80_91ab_11ea_9bbd_308d99678c9drow26_col4 {\n",
       "            background-color:  #fff5f0;\n",
       "            color:  #000000;\n",
       "        }    #T_0a5a7a80_91ab_11ea_9bbd_308d99678c9drow27_col1 {\n",
       "            background-color:  #fff5f0;\n",
       "            color:  #000000;\n",
       "        }    #T_0a5a7a80_91ab_11ea_9bbd_308d99678c9drow27_col2 {\n",
       "            background-color:  #fff5f0;\n",
       "            color:  #000000;\n",
       "        }    #T_0a5a7a80_91ab_11ea_9bbd_308d99678c9drow27_col3 {\n",
       "            background-color:  #fff5f0;\n",
       "            color:  #000000;\n",
       "        }    #T_0a5a7a80_91ab_11ea_9bbd_308d99678c9drow27_col4 {\n",
       "            background-color:  #fff5f0;\n",
       "            color:  #000000;\n",
       "        }    #T_0a5a7a80_91ab_11ea_9bbd_308d99678c9drow28_col1 {\n",
       "            background-color:  #fff5f0;\n",
       "            color:  #000000;\n",
       "        }    #T_0a5a7a80_91ab_11ea_9bbd_308d99678c9drow28_col2 {\n",
       "            background-color:  #fff5f0;\n",
       "            color:  #000000;\n",
       "        }    #T_0a5a7a80_91ab_11ea_9bbd_308d99678c9drow28_col3 {\n",
       "            background-color:  #fff5f0;\n",
       "            color:  #000000;\n",
       "        }    #T_0a5a7a80_91ab_11ea_9bbd_308d99678c9drow28_col4 {\n",
       "            background-color:  #fff5f0;\n",
       "            color:  #000000;\n",
       "        }    #T_0a5a7a80_91ab_11ea_9bbd_308d99678c9drow29_col1 {\n",
       "            background-color:  #fff5f0;\n",
       "            color:  #000000;\n",
       "        }    #T_0a5a7a80_91ab_11ea_9bbd_308d99678c9drow29_col2 {\n",
       "            background-color:  #fff5f0;\n",
       "            color:  #000000;\n",
       "        }    #T_0a5a7a80_91ab_11ea_9bbd_308d99678c9drow29_col3 {\n",
       "            background-color:  #fff5f0;\n",
       "            color:  #000000;\n",
       "        }    #T_0a5a7a80_91ab_11ea_9bbd_308d99678c9drow29_col4 {\n",
       "            background-color:  #fff5f0;\n",
       "            color:  #000000;\n",
       "        }    #T_0a5a7a80_91ab_11ea_9bbd_308d99678c9drow30_col1 {\n",
       "            background-color:  #fff5f0;\n",
       "            color:  #000000;\n",
       "        }    #T_0a5a7a80_91ab_11ea_9bbd_308d99678c9drow30_col2 {\n",
       "            background-color:  #fff5f0;\n",
       "            color:  #000000;\n",
       "        }    #T_0a5a7a80_91ab_11ea_9bbd_308d99678c9drow30_col3 {\n",
       "            background-color:  #fff5f0;\n",
       "            color:  #000000;\n",
       "        }    #T_0a5a7a80_91ab_11ea_9bbd_308d99678c9drow30_col4 {\n",
       "            background-color:  #fff5f0;\n",
       "            color:  #000000;\n",
       "        }    #T_0a5a7a80_91ab_11ea_9bbd_308d99678c9drow31_col1 {\n",
       "            background-color:  #fff5f0;\n",
       "            color:  #000000;\n",
       "        }    #T_0a5a7a80_91ab_11ea_9bbd_308d99678c9drow31_col2 {\n",
       "            background-color:  #fff5f0;\n",
       "            color:  #000000;\n",
       "        }    #T_0a5a7a80_91ab_11ea_9bbd_308d99678c9drow31_col3 {\n",
       "            background-color:  #fff5f0;\n",
       "            color:  #000000;\n",
       "        }    #T_0a5a7a80_91ab_11ea_9bbd_308d99678c9drow31_col4 {\n",
       "            background-color:  #fff5f0;\n",
       "            color:  #000000;\n",
       "        }    #T_0a5a7a80_91ab_11ea_9bbd_308d99678c9drow32_col1 {\n",
       "            background-color:  #fff5f0;\n",
       "            color:  #000000;\n",
       "        }    #T_0a5a7a80_91ab_11ea_9bbd_308d99678c9drow32_col2 {\n",
       "            background-color:  #fff5f0;\n",
       "            color:  #000000;\n",
       "        }    #T_0a5a7a80_91ab_11ea_9bbd_308d99678c9drow32_col3 {\n",
       "            background-color:  #fff5f0;\n",
       "            color:  #000000;\n",
       "        }    #T_0a5a7a80_91ab_11ea_9bbd_308d99678c9drow32_col4 {\n",
       "            background-color:  #fff5f0;\n",
       "            color:  #000000;\n",
       "        }    #T_0a5a7a80_91ab_11ea_9bbd_308d99678c9drow33_col1 {\n",
       "            background-color:  #fff5f0;\n",
       "            color:  #000000;\n",
       "        }    #T_0a5a7a80_91ab_11ea_9bbd_308d99678c9drow33_col2 {\n",
       "            background-color:  #fff5f0;\n",
       "            color:  #000000;\n",
       "        }    #T_0a5a7a80_91ab_11ea_9bbd_308d99678c9drow33_col3 {\n",
       "            background-color:  #fff5f0;\n",
       "            color:  #000000;\n",
       "        }    #T_0a5a7a80_91ab_11ea_9bbd_308d99678c9drow33_col4 {\n",
       "            background-color:  #fff5f0;\n",
       "            color:  #000000;\n",
       "        }    #T_0a5a7a80_91ab_11ea_9bbd_308d99678c9drow34_col1 {\n",
       "            background-color:  #fff5f0;\n",
       "            color:  #000000;\n",
       "        }    #T_0a5a7a80_91ab_11ea_9bbd_308d99678c9drow34_col2 {\n",
       "            background-color:  #fff5f0;\n",
       "            color:  #000000;\n",
       "        }    #T_0a5a7a80_91ab_11ea_9bbd_308d99678c9drow34_col3 {\n",
       "            background-color:  #fff5f0;\n",
       "            color:  #000000;\n",
       "        }    #T_0a5a7a80_91ab_11ea_9bbd_308d99678c9drow34_col4 {\n",
       "            background-color:  #fff5f0;\n",
       "            color:  #000000;\n",
       "        }    #T_0a5a7a80_91ab_11ea_9bbd_308d99678c9drow35_col1 {\n",
       "            background-color:  #fff5f0;\n",
       "            color:  #000000;\n",
       "        }    #T_0a5a7a80_91ab_11ea_9bbd_308d99678c9drow35_col2 {\n",
       "            background-color:  #fff5f0;\n",
       "            color:  #000000;\n",
       "        }    #T_0a5a7a80_91ab_11ea_9bbd_308d99678c9drow35_col3 {\n",
       "            background-color:  #fff5f0;\n",
       "            color:  #000000;\n",
       "        }    #T_0a5a7a80_91ab_11ea_9bbd_308d99678c9drow35_col4 {\n",
       "            background-color:  #fff5f0;\n",
       "            color:  #000000;\n",
       "        }    #T_0a5a7a80_91ab_11ea_9bbd_308d99678c9drow36_col1 {\n",
       "            background-color:  #fff5f0;\n",
       "            color:  #000000;\n",
       "        }    #T_0a5a7a80_91ab_11ea_9bbd_308d99678c9drow36_col2 {\n",
       "            background-color:  #fff5f0;\n",
       "            color:  #000000;\n",
       "        }    #T_0a5a7a80_91ab_11ea_9bbd_308d99678c9drow36_col3 {\n",
       "            background-color:  #fff5f0;\n",
       "            color:  #000000;\n",
       "        }    #T_0a5a7a80_91ab_11ea_9bbd_308d99678c9drow36_col4 {\n",
       "            background-color:  #fff5f0;\n",
       "            color:  #000000;\n",
       "        }    #T_0a5a7a80_91ab_11ea_9bbd_308d99678c9drow37_col1 {\n",
       "            background-color:  #fff5f0;\n",
       "            color:  #000000;\n",
       "        }    #T_0a5a7a80_91ab_11ea_9bbd_308d99678c9drow37_col2 {\n",
       "            background-color:  #fff5f0;\n",
       "            color:  #000000;\n",
       "        }    #T_0a5a7a80_91ab_11ea_9bbd_308d99678c9drow37_col3 {\n",
       "            background-color:  #fff5f0;\n",
       "            color:  #000000;\n",
       "        }    #T_0a5a7a80_91ab_11ea_9bbd_308d99678c9drow37_col4 {\n",
       "            background-color:  #fff5f0;\n",
       "            color:  #000000;\n",
       "        }</style><table id=\"T_0a5a7a80_91ab_11ea_9bbd_308d99678c9d\" ><thead>    <tr>        <th class=\"blank level0\" ></th>        <th class=\"col_heading level0 col0\" >State</th>        <th class=\"col_heading level0 col1\" >Confirmed</th>        <th class=\"col_heading level0 col2\" >Recovered</th>        <th class=\"col_heading level0 col3\" >Deaths</th>        <th class=\"col_heading level0 col4\" >Active</th>        <th class=\"col_heading level0 col5\" >State_code</th>    </tr></thead><tbody>\n",
       "                <tr>\n",
       "                        <th id=\"T_0a5a7a80_91ab_11ea_9bbd_308d99678c9dlevel0_row0\" class=\"row_heading level0 row0\" >0</th>\n",
       "                        <td id=\"T_0a5a7a80_91ab_11ea_9bbd_308d99678c9drow0_col0\" class=\"data row0 col0\" >Total</td>\n",
       "                        <td id=\"T_0a5a7a80_91ab_11ea_9bbd_308d99678c9drow0_col1\" class=\"data row0 col1\" >59713</td>\n",
       "                        <td id=\"T_0a5a7a80_91ab_11ea_9bbd_308d99678c9drow0_col2\" class=\"data row0 col2\" >17887</td>\n",
       "                        <td id=\"T_0a5a7a80_91ab_11ea_9bbd_308d99678c9drow0_col3\" class=\"data row0 col3\" >1985</td>\n",
       "                        <td id=\"T_0a5a7a80_91ab_11ea_9bbd_308d99678c9drow0_col4\" class=\"data row0 col4\" >39837</td>\n",
       "                        <td id=\"T_0a5a7a80_91ab_11ea_9bbd_308d99678c9drow0_col5\" class=\"data row0 col5\" >TT</td>\n",
       "            </tr>\n",
       "            <tr>\n",
       "                        <th id=\"T_0a5a7a80_91ab_11ea_9bbd_308d99678c9dlevel0_row1\" class=\"row_heading level0 row1\" >1</th>\n",
       "                        <td id=\"T_0a5a7a80_91ab_11ea_9bbd_308d99678c9drow1_col0\" class=\"data row1 col0\" >Maharashtra</td>\n",
       "                        <td id=\"T_0a5a7a80_91ab_11ea_9bbd_308d99678c9drow1_col1\" class=\"data row1 col1\" >19063</td>\n",
       "                        <td id=\"T_0a5a7a80_91ab_11ea_9bbd_308d99678c9drow1_col2\" class=\"data row1 col2\" >3470</td>\n",
       "                        <td id=\"T_0a5a7a80_91ab_11ea_9bbd_308d99678c9drow1_col3\" class=\"data row1 col3\" >731</td>\n",
       "                        <td id=\"T_0a5a7a80_91ab_11ea_9bbd_308d99678c9drow1_col4\" class=\"data row1 col4\" >14862</td>\n",
       "                        <td id=\"T_0a5a7a80_91ab_11ea_9bbd_308d99678c9drow1_col5\" class=\"data row1 col5\" >MH</td>\n",
       "            </tr>\n",
       "            <tr>\n",
       "                        <th id=\"T_0a5a7a80_91ab_11ea_9bbd_308d99678c9dlevel0_row2\" class=\"row_heading level0 row2\" >2</th>\n",
       "                        <td id=\"T_0a5a7a80_91ab_11ea_9bbd_308d99678c9drow2_col0\" class=\"data row2 col0\" >Gujarat</td>\n",
       "                        <td id=\"T_0a5a7a80_91ab_11ea_9bbd_308d99678c9drow2_col1\" class=\"data row2 col1\" >7403</td>\n",
       "                        <td id=\"T_0a5a7a80_91ab_11ea_9bbd_308d99678c9drow2_col2\" class=\"data row2 col2\" >1872</td>\n",
       "                        <td id=\"T_0a5a7a80_91ab_11ea_9bbd_308d99678c9drow2_col3\" class=\"data row2 col3\" >449</td>\n",
       "                        <td id=\"T_0a5a7a80_91ab_11ea_9bbd_308d99678c9drow2_col4\" class=\"data row2 col4\" >5082</td>\n",
       "                        <td id=\"T_0a5a7a80_91ab_11ea_9bbd_308d99678c9drow2_col5\" class=\"data row2 col5\" >GJ</td>\n",
       "            </tr>\n",
       "            <tr>\n",
       "                        <th id=\"T_0a5a7a80_91ab_11ea_9bbd_308d99678c9dlevel0_row3\" class=\"row_heading level0 row3\" >3</th>\n",
       "                        <td id=\"T_0a5a7a80_91ab_11ea_9bbd_308d99678c9drow3_col0\" class=\"data row3 col0\" >Tamil Nadu</td>\n",
       "                        <td id=\"T_0a5a7a80_91ab_11ea_9bbd_308d99678c9drow3_col1\" class=\"data row3 col1\" >6009</td>\n",
       "                        <td id=\"T_0a5a7a80_91ab_11ea_9bbd_308d99678c9drow3_col2\" class=\"data row3 col2\" >1605</td>\n",
       "                        <td id=\"T_0a5a7a80_91ab_11ea_9bbd_308d99678c9drow3_col3\" class=\"data row3 col3\" >40</td>\n",
       "                        <td id=\"T_0a5a7a80_91ab_11ea_9bbd_308d99678c9drow3_col4\" class=\"data row3 col4\" >4364</td>\n",
       "                        <td id=\"T_0a5a7a80_91ab_11ea_9bbd_308d99678c9drow3_col5\" class=\"data row3 col5\" >TN</td>\n",
       "            </tr>\n",
       "            <tr>\n",
       "                        <th id=\"T_0a5a7a80_91ab_11ea_9bbd_308d99678c9dlevel0_row4\" class=\"row_heading level0 row4\" >4</th>\n",
       "                        <td id=\"T_0a5a7a80_91ab_11ea_9bbd_308d99678c9drow4_col0\" class=\"data row4 col0\" >Delhi</td>\n",
       "                        <td id=\"T_0a5a7a80_91ab_11ea_9bbd_308d99678c9drow4_col1\" class=\"data row4 col1\" >6318</td>\n",
       "                        <td id=\"T_0a5a7a80_91ab_11ea_9bbd_308d99678c9drow4_col2\" class=\"data row4 col2\" >2020</td>\n",
       "                        <td id=\"T_0a5a7a80_91ab_11ea_9bbd_308d99678c9drow4_col3\" class=\"data row4 col3\" >68</td>\n",
       "                        <td id=\"T_0a5a7a80_91ab_11ea_9bbd_308d99678c9drow4_col4\" class=\"data row4 col4\" >4230</td>\n",
       "                        <td id=\"T_0a5a7a80_91ab_11ea_9bbd_308d99678c9drow4_col5\" class=\"data row4 col5\" >DL</td>\n",
       "            </tr>\n",
       "            <tr>\n",
       "                        <th id=\"T_0a5a7a80_91ab_11ea_9bbd_308d99678c9dlevel0_row5\" class=\"row_heading level0 row5\" >5</th>\n",
       "                        <td id=\"T_0a5a7a80_91ab_11ea_9bbd_308d99678c9drow5_col0\" class=\"data row5 col0\" >Rajasthan</td>\n",
       "                        <td id=\"T_0a5a7a80_91ab_11ea_9bbd_308d99678c9drow5_col1\" class=\"data row5 col1\" >3579</td>\n",
       "                        <td id=\"T_0a5a7a80_91ab_11ea_9bbd_308d99678c9drow5_col2\" class=\"data row5 col2\" >2011</td>\n",
       "                        <td id=\"T_0a5a7a80_91ab_11ea_9bbd_308d99678c9drow5_col3\" class=\"data row5 col3\" >103</td>\n",
       "                        <td id=\"T_0a5a7a80_91ab_11ea_9bbd_308d99678c9drow5_col4\" class=\"data row5 col4\" >1465</td>\n",
       "                        <td id=\"T_0a5a7a80_91ab_11ea_9bbd_308d99678c9drow5_col5\" class=\"data row5 col5\" >RJ</td>\n",
       "            </tr>\n",
       "            <tr>\n",
       "                        <th id=\"T_0a5a7a80_91ab_11ea_9bbd_308d99678c9dlevel0_row6\" class=\"row_heading level0 row6\" >6</th>\n",
       "                        <td id=\"T_0a5a7a80_91ab_11ea_9bbd_308d99678c9drow6_col0\" class=\"data row6 col0\" >Madhya Pradesh</td>\n",
       "                        <td id=\"T_0a5a7a80_91ab_11ea_9bbd_308d99678c9drow6_col1\" class=\"data row6 col1\" >3341</td>\n",
       "                        <td id=\"T_0a5a7a80_91ab_11ea_9bbd_308d99678c9drow6_col2\" class=\"data row6 col2\" >1349</td>\n",
       "                        <td id=\"T_0a5a7a80_91ab_11ea_9bbd_308d99678c9drow6_col3\" class=\"data row6 col3\" >200</td>\n",
       "                        <td id=\"T_0a5a7a80_91ab_11ea_9bbd_308d99678c9drow6_col4\" class=\"data row6 col4\" >1792</td>\n",
       "                        <td id=\"T_0a5a7a80_91ab_11ea_9bbd_308d99678c9drow6_col5\" class=\"data row6 col5\" >MP</td>\n",
       "            </tr>\n",
       "            <tr>\n",
       "                        <th id=\"T_0a5a7a80_91ab_11ea_9bbd_308d99678c9dlevel0_row7\" class=\"row_heading level0 row7\" >7</th>\n",
       "                        <td id=\"T_0a5a7a80_91ab_11ea_9bbd_308d99678c9drow7_col0\" class=\"data row7 col0\" >Uttar Pradesh</td>\n",
       "                        <td id=\"T_0a5a7a80_91ab_11ea_9bbd_308d99678c9drow7_col1\" class=\"data row7 col1\" >3214</td>\n",
       "                        <td id=\"T_0a5a7a80_91ab_11ea_9bbd_308d99678c9drow7_col2\" class=\"data row7 col2\" >1387</td>\n",
       "                        <td id=\"T_0a5a7a80_91ab_11ea_9bbd_308d99678c9drow7_col3\" class=\"data row7 col3\" >66</td>\n",
       "                        <td id=\"T_0a5a7a80_91ab_11ea_9bbd_308d99678c9drow7_col4\" class=\"data row7 col4\" >1761</td>\n",
       "                        <td id=\"T_0a5a7a80_91ab_11ea_9bbd_308d99678c9drow7_col5\" class=\"data row7 col5\" >UP</td>\n",
       "            </tr>\n",
       "            <tr>\n",
       "                        <th id=\"T_0a5a7a80_91ab_11ea_9bbd_308d99678c9dlevel0_row8\" class=\"row_heading level0 row8\" >8</th>\n",
       "                        <td id=\"T_0a5a7a80_91ab_11ea_9bbd_308d99678c9drow8_col0\" class=\"data row8 col0\" >Andhra Pradesh</td>\n",
       "                        <td id=\"T_0a5a7a80_91ab_11ea_9bbd_308d99678c9drow8_col1\" class=\"data row8 col1\" >1887</td>\n",
       "                        <td id=\"T_0a5a7a80_91ab_11ea_9bbd_308d99678c9drow8_col2\" class=\"data row8 col2\" >842</td>\n",
       "                        <td id=\"T_0a5a7a80_91ab_11ea_9bbd_308d99678c9drow8_col3\" class=\"data row8 col3\" >41</td>\n",
       "                        <td id=\"T_0a5a7a80_91ab_11ea_9bbd_308d99678c9drow8_col4\" class=\"data row8 col4\" >1004</td>\n",
       "                        <td id=\"T_0a5a7a80_91ab_11ea_9bbd_308d99678c9drow8_col5\" class=\"data row8 col5\" >AP</td>\n",
       "            </tr>\n",
       "            <tr>\n",
       "                        <th id=\"T_0a5a7a80_91ab_11ea_9bbd_308d99678c9dlevel0_row9\" class=\"row_heading level0 row9\" >9</th>\n",
       "                        <td id=\"T_0a5a7a80_91ab_11ea_9bbd_308d99678c9drow9_col0\" class=\"data row9 col0\" >Punjab</td>\n",
       "                        <td id=\"T_0a5a7a80_91ab_11ea_9bbd_308d99678c9drow9_col1\" class=\"data row9 col1\" >1731</td>\n",
       "                        <td id=\"T_0a5a7a80_91ab_11ea_9bbd_308d99678c9drow9_col2\" class=\"data row9 col2\" >152</td>\n",
       "                        <td id=\"T_0a5a7a80_91ab_11ea_9bbd_308d99678c9drow9_col3\" class=\"data row9 col3\" >29</td>\n",
       "                        <td id=\"T_0a5a7a80_91ab_11ea_9bbd_308d99678c9drow9_col4\" class=\"data row9 col4\" >1550</td>\n",
       "                        <td id=\"T_0a5a7a80_91ab_11ea_9bbd_308d99678c9drow9_col5\" class=\"data row9 col5\" >PB</td>\n",
       "            </tr>\n",
       "            <tr>\n",
       "                        <th id=\"T_0a5a7a80_91ab_11ea_9bbd_308d99678c9dlevel0_row10\" class=\"row_heading level0 row10\" >10</th>\n",
       "                        <td id=\"T_0a5a7a80_91ab_11ea_9bbd_308d99678c9drow10_col0\" class=\"data row10 col0\" >West Bengal</td>\n",
       "                        <td id=\"T_0a5a7a80_91ab_11ea_9bbd_308d99678c9drow10_col1\" class=\"data row10 col1\" >1678</td>\n",
       "                        <td id=\"T_0a5a7a80_91ab_11ea_9bbd_308d99678c9drow10_col2\" class=\"data row10 col2\" >323</td>\n",
       "                        <td id=\"T_0a5a7a80_91ab_11ea_9bbd_308d99678c9drow10_col3\" class=\"data row10 col3\" >160</td>\n",
       "                        <td id=\"T_0a5a7a80_91ab_11ea_9bbd_308d99678c9drow10_col4\" class=\"data row10 col4\" >1195</td>\n",
       "                        <td id=\"T_0a5a7a80_91ab_11ea_9bbd_308d99678c9drow10_col5\" class=\"data row10 col5\" >WB</td>\n",
       "            </tr>\n",
       "            <tr>\n",
       "                        <th id=\"T_0a5a7a80_91ab_11ea_9bbd_308d99678c9dlevel0_row11\" class=\"row_heading level0 row11\" >11</th>\n",
       "                        <td id=\"T_0a5a7a80_91ab_11ea_9bbd_308d99678c9drow11_col0\" class=\"data row11 col0\" >Telangana</td>\n",
       "                        <td id=\"T_0a5a7a80_91ab_11ea_9bbd_308d99678c9drow11_col1\" class=\"data row11 col1\" >1132</td>\n",
       "                        <td id=\"T_0a5a7a80_91ab_11ea_9bbd_308d99678c9drow11_col2\" class=\"data row11 col2\" >727</td>\n",
       "                        <td id=\"T_0a5a7a80_91ab_11ea_9bbd_308d99678c9drow11_col3\" class=\"data row11 col3\" >29</td>\n",
       "                        <td id=\"T_0a5a7a80_91ab_11ea_9bbd_308d99678c9drow11_col4\" class=\"data row11 col4\" >376</td>\n",
       "                        <td id=\"T_0a5a7a80_91ab_11ea_9bbd_308d99678c9drow11_col5\" class=\"data row11 col5\" >TG</td>\n",
       "            </tr>\n",
       "            <tr>\n",
       "                        <th id=\"T_0a5a7a80_91ab_11ea_9bbd_308d99678c9dlevel0_row12\" class=\"row_heading level0 row12\" >12</th>\n",
       "                        <td id=\"T_0a5a7a80_91ab_11ea_9bbd_308d99678c9drow12_col0\" class=\"data row12 col0\" >Jammu and Kashmir</td>\n",
       "                        <td id=\"T_0a5a7a80_91ab_11ea_9bbd_308d99678c9drow12_col1\" class=\"data row12 col1\" >823</td>\n",
       "                        <td id=\"T_0a5a7a80_91ab_11ea_9bbd_308d99678c9drow12_col2\" class=\"data row12 col2\" >364</td>\n",
       "                        <td id=\"T_0a5a7a80_91ab_11ea_9bbd_308d99678c9drow12_col3\" class=\"data row12 col3\" >9</td>\n",
       "                        <td id=\"T_0a5a7a80_91ab_11ea_9bbd_308d99678c9drow12_col4\" class=\"data row12 col4\" >450</td>\n",
       "                        <td id=\"T_0a5a7a80_91ab_11ea_9bbd_308d99678c9drow12_col5\" class=\"data row12 col5\" >JK</td>\n",
       "            </tr>\n",
       "            <tr>\n",
       "                        <th id=\"T_0a5a7a80_91ab_11ea_9bbd_308d99678c9dlevel0_row13\" class=\"row_heading level0 row13\" >13</th>\n",
       "                        <td id=\"T_0a5a7a80_91ab_11ea_9bbd_308d99678c9drow13_col0\" class=\"data row13 col0\" >Karnataka</td>\n",
       "                        <td id=\"T_0a5a7a80_91ab_11ea_9bbd_308d99678c9drow13_col1\" class=\"data row13 col1\" >753</td>\n",
       "                        <td id=\"T_0a5a7a80_91ab_11ea_9bbd_308d99678c9drow13_col2\" class=\"data row13 col2\" >376</td>\n",
       "                        <td id=\"T_0a5a7a80_91ab_11ea_9bbd_308d99678c9drow13_col3\" class=\"data row13 col3\" >30</td>\n",
       "                        <td id=\"T_0a5a7a80_91ab_11ea_9bbd_308d99678c9drow13_col4\" class=\"data row13 col4\" >346</td>\n",
       "                        <td id=\"T_0a5a7a80_91ab_11ea_9bbd_308d99678c9drow13_col5\" class=\"data row13 col5\" >KA</td>\n",
       "            </tr>\n",
       "            <tr>\n",
       "                        <th id=\"T_0a5a7a80_91ab_11ea_9bbd_308d99678c9dlevel0_row14\" class=\"row_heading level0 row14\" >14</th>\n",
       "                        <td id=\"T_0a5a7a80_91ab_11ea_9bbd_308d99678c9drow14_col0\" class=\"data row14 col0\" >Haryana</td>\n",
       "                        <td id=\"T_0a5a7a80_91ab_11ea_9bbd_308d99678c9drow14_col1\" class=\"data row14 col1\" >647</td>\n",
       "                        <td id=\"T_0a5a7a80_91ab_11ea_9bbd_308d99678c9drow14_col2\" class=\"data row14 col2\" >279</td>\n",
       "                        <td id=\"T_0a5a7a80_91ab_11ea_9bbd_308d99678c9drow14_col3\" class=\"data row14 col3\" >8</td>\n",
       "                        <td id=\"T_0a5a7a80_91ab_11ea_9bbd_308d99678c9drow14_col4\" class=\"data row14 col4\" >360</td>\n",
       "                        <td id=\"T_0a5a7a80_91ab_11ea_9bbd_308d99678c9drow14_col5\" class=\"data row14 col5\" >HR</td>\n",
       "            </tr>\n",
       "            <tr>\n",
       "                        <th id=\"T_0a5a7a80_91ab_11ea_9bbd_308d99678c9dlevel0_row15\" class=\"row_heading level0 row15\" >15</th>\n",
       "                        <td id=\"T_0a5a7a80_91ab_11ea_9bbd_308d99678c9drow15_col0\" class=\"data row15 col0\" >Bihar</td>\n",
       "                        <td id=\"T_0a5a7a80_91ab_11ea_9bbd_308d99678c9drow15_col1\" class=\"data row15 col1\" >579</td>\n",
       "                        <td id=\"T_0a5a7a80_91ab_11ea_9bbd_308d99678c9drow15_col2\" class=\"data row15 col2\" >267</td>\n",
       "                        <td id=\"T_0a5a7a80_91ab_11ea_9bbd_308d99678c9drow15_col3\" class=\"data row15 col3\" >5</td>\n",
       "                        <td id=\"T_0a5a7a80_91ab_11ea_9bbd_308d99678c9drow15_col4\" class=\"data row15 col4\" >307</td>\n",
       "                        <td id=\"T_0a5a7a80_91ab_11ea_9bbd_308d99678c9drow15_col5\" class=\"data row15 col5\" >BR</td>\n",
       "            </tr>\n",
       "            <tr>\n",
       "                        <th id=\"T_0a5a7a80_91ab_11ea_9bbd_308d99678c9dlevel0_row16\" class=\"row_heading level0 row16\" >16</th>\n",
       "                        <td id=\"T_0a5a7a80_91ab_11ea_9bbd_308d99678c9drow16_col0\" class=\"data row16 col0\" >Kerala</td>\n",
       "                        <td id=\"T_0a5a7a80_91ab_11ea_9bbd_308d99678c9drow16_col1\" class=\"data row16 col1\" >504</td>\n",
       "                        <td id=\"T_0a5a7a80_91ab_11ea_9bbd_308d99678c9drow16_col2\" class=\"data row16 col2\" >484</td>\n",
       "                        <td id=\"T_0a5a7a80_91ab_11ea_9bbd_308d99678c9drow16_col3\" class=\"data row16 col3\" >4</td>\n",
       "                        <td id=\"T_0a5a7a80_91ab_11ea_9bbd_308d99678c9drow16_col4\" class=\"data row16 col4\" >16</td>\n",
       "                        <td id=\"T_0a5a7a80_91ab_11ea_9bbd_308d99678c9drow16_col5\" class=\"data row16 col5\" >KL</td>\n",
       "            </tr>\n",
       "            <tr>\n",
       "                        <th id=\"T_0a5a7a80_91ab_11ea_9bbd_308d99678c9dlevel0_row17\" class=\"row_heading level0 row17\" >17</th>\n",
       "                        <td id=\"T_0a5a7a80_91ab_11ea_9bbd_308d99678c9drow17_col0\" class=\"data row17 col0\" >Odisha</td>\n",
       "                        <td id=\"T_0a5a7a80_91ab_11ea_9bbd_308d99678c9drow17_col1\" class=\"data row17 col1\" >287</td>\n",
       "                        <td id=\"T_0a5a7a80_91ab_11ea_9bbd_308d99678c9drow17_col2\" class=\"data row17 col2\" >63</td>\n",
       "                        <td id=\"T_0a5a7a80_91ab_11ea_9bbd_308d99678c9drow17_col3\" class=\"data row17 col3\" >2</td>\n",
       "                        <td id=\"T_0a5a7a80_91ab_11ea_9bbd_308d99678c9drow17_col4\" class=\"data row17 col4\" >222</td>\n",
       "                        <td id=\"T_0a5a7a80_91ab_11ea_9bbd_308d99678c9drow17_col5\" class=\"data row17 col5\" >OR</td>\n",
       "            </tr>\n",
       "            <tr>\n",
       "                        <th id=\"T_0a5a7a80_91ab_11ea_9bbd_308d99678c9dlevel0_row18\" class=\"row_heading level0 row18\" >18</th>\n",
       "                        <td id=\"T_0a5a7a80_91ab_11ea_9bbd_308d99678c9drow18_col0\" class=\"data row18 col0\" >Chandigarh</td>\n",
       "                        <td id=\"T_0a5a7a80_91ab_11ea_9bbd_308d99678c9drow18_col1\" class=\"data row18 col1\" >146</td>\n",
       "                        <td id=\"T_0a5a7a80_91ab_11ea_9bbd_308d99678c9drow18_col2\" class=\"data row18 col2\" >21</td>\n",
       "                        <td id=\"T_0a5a7a80_91ab_11ea_9bbd_308d99678c9drow18_col3\" class=\"data row18 col3\" >1</td>\n",
       "                        <td id=\"T_0a5a7a80_91ab_11ea_9bbd_308d99678c9drow18_col4\" class=\"data row18 col4\" >124</td>\n",
       "                        <td id=\"T_0a5a7a80_91ab_11ea_9bbd_308d99678c9drow18_col5\" class=\"data row18 col5\" >CH</td>\n",
       "            </tr>\n",
       "            <tr>\n",
       "                        <th id=\"T_0a5a7a80_91ab_11ea_9bbd_308d99678c9dlevel0_row19\" class=\"row_heading level0 row19\" >19</th>\n",
       "                        <td id=\"T_0a5a7a80_91ab_11ea_9bbd_308d99678c9drow19_col0\" class=\"data row19 col0\" >Jharkhand</td>\n",
       "                        <td id=\"T_0a5a7a80_91ab_11ea_9bbd_308d99678c9drow19_col1\" class=\"data row19 col1\" >155</td>\n",
       "                        <td id=\"T_0a5a7a80_91ab_11ea_9bbd_308d99678c9drow19_col2\" class=\"data row19 col2\" >41</td>\n",
       "                        <td id=\"T_0a5a7a80_91ab_11ea_9bbd_308d99678c9drow19_col3\" class=\"data row19 col3\" >3</td>\n",
       "                        <td id=\"T_0a5a7a80_91ab_11ea_9bbd_308d99678c9drow19_col4\" class=\"data row19 col4\" >111</td>\n",
       "                        <td id=\"T_0a5a7a80_91ab_11ea_9bbd_308d99678c9drow19_col5\" class=\"data row19 col5\" >JH</td>\n",
       "            </tr>\n",
       "            <tr>\n",
       "                        <th id=\"T_0a5a7a80_91ab_11ea_9bbd_308d99678c9dlevel0_row20\" class=\"row_heading level0 row20\" >20</th>\n",
       "                        <td id=\"T_0a5a7a80_91ab_11ea_9bbd_308d99678c9drow20_col0\" class=\"data row20 col0\" >Tripura</td>\n",
       "                        <td id=\"T_0a5a7a80_91ab_11ea_9bbd_308d99678c9drow20_col1\" class=\"data row20 col1\" >118</td>\n",
       "                        <td id=\"T_0a5a7a80_91ab_11ea_9bbd_308d99678c9drow20_col2\" class=\"data row20 col2\" >2</td>\n",
       "                        <td id=\"T_0a5a7a80_91ab_11ea_9bbd_308d99678c9drow20_col3\" class=\"data row20 col3\" >0</td>\n",
       "                        <td id=\"T_0a5a7a80_91ab_11ea_9bbd_308d99678c9drow20_col4\" class=\"data row20 col4\" >116</td>\n",
       "                        <td id=\"T_0a5a7a80_91ab_11ea_9bbd_308d99678c9drow20_col5\" class=\"data row20 col5\" >TR</td>\n",
       "            </tr>\n",
       "            <tr>\n",
       "                        <th id=\"T_0a5a7a80_91ab_11ea_9bbd_308d99678c9dlevel0_row21\" class=\"row_heading level0 row21\" >21</th>\n",
       "                        <td id=\"T_0a5a7a80_91ab_11ea_9bbd_308d99678c9drow21_col0\" class=\"data row21 col0\" >Uttarakhand</td>\n",
       "                        <td id=\"T_0a5a7a80_91ab_11ea_9bbd_308d99678c9drow21_col1\" class=\"data row21 col1\" >63</td>\n",
       "                        <td id=\"T_0a5a7a80_91ab_11ea_9bbd_308d99678c9drow21_col2\" class=\"data row21 col2\" >45</td>\n",
       "                        <td id=\"T_0a5a7a80_91ab_11ea_9bbd_308d99678c9drow21_col3\" class=\"data row21 col3\" >1</td>\n",
       "                        <td id=\"T_0a5a7a80_91ab_11ea_9bbd_308d99678c9drow21_col4\" class=\"data row21 col4\" >17</td>\n",
       "                        <td id=\"T_0a5a7a80_91ab_11ea_9bbd_308d99678c9drow21_col5\" class=\"data row21 col5\" >UT</td>\n",
       "            </tr>\n",
       "            <tr>\n",
       "                        <th id=\"T_0a5a7a80_91ab_11ea_9bbd_308d99678c9dlevel0_row22\" class=\"row_heading level0 row22\" >22</th>\n",
       "                        <td id=\"T_0a5a7a80_91ab_11ea_9bbd_308d99678c9drow22_col0\" class=\"data row22 col0\" >Chhattisgarh</td>\n",
       "                        <td id=\"T_0a5a7a80_91ab_11ea_9bbd_308d99678c9drow22_col1\" class=\"data row22 col1\" >59</td>\n",
       "                        <td id=\"T_0a5a7a80_91ab_11ea_9bbd_308d99678c9drow22_col2\" class=\"data row22 col2\" >38</td>\n",
       "                        <td id=\"T_0a5a7a80_91ab_11ea_9bbd_308d99678c9drow22_col3\" class=\"data row22 col3\" >0</td>\n",
       "                        <td id=\"T_0a5a7a80_91ab_11ea_9bbd_308d99678c9drow22_col4\" class=\"data row22 col4\" >21</td>\n",
       "                        <td id=\"T_0a5a7a80_91ab_11ea_9bbd_308d99678c9drow22_col5\" class=\"data row22 col5\" >CT</td>\n",
       "            </tr>\n",
       "            <tr>\n",
       "                        <th id=\"T_0a5a7a80_91ab_11ea_9bbd_308d99678c9dlevel0_row23\" class=\"row_heading level0 row23\" >23</th>\n",
       "                        <td id=\"T_0a5a7a80_91ab_11ea_9bbd_308d99678c9drow23_col0\" class=\"data row23 col0\" >Assam</td>\n",
       "                        <td id=\"T_0a5a7a80_91ab_11ea_9bbd_308d99678c9drow23_col1\" class=\"data row23 col1\" >60</td>\n",
       "                        <td id=\"T_0a5a7a80_91ab_11ea_9bbd_308d99678c9drow23_col2\" class=\"data row23 col2\" >35</td>\n",
       "                        <td id=\"T_0a5a7a80_91ab_11ea_9bbd_308d99678c9drow23_col3\" class=\"data row23 col3\" >2</td>\n",
       "                        <td id=\"T_0a5a7a80_91ab_11ea_9bbd_308d99678c9drow23_col4\" class=\"data row23 col4\" >23</td>\n",
       "                        <td id=\"T_0a5a7a80_91ab_11ea_9bbd_308d99678c9drow23_col5\" class=\"data row23 col5\" >AS</td>\n",
       "            </tr>\n",
       "            <tr>\n",
       "                        <th id=\"T_0a5a7a80_91ab_11ea_9bbd_308d99678c9dlevel0_row24\" class=\"row_heading level0 row24\" >24</th>\n",
       "                        <td id=\"T_0a5a7a80_91ab_11ea_9bbd_308d99678c9drow24_col0\" class=\"data row24 col0\" >Himachal Pradesh</td>\n",
       "                        <td id=\"T_0a5a7a80_91ab_11ea_9bbd_308d99678c9drow24_col1\" class=\"data row24 col1\" >50</td>\n",
       "                        <td id=\"T_0a5a7a80_91ab_11ea_9bbd_308d99678c9drow24_col2\" class=\"data row24 col2\" >34</td>\n",
       "                        <td id=\"T_0a5a7a80_91ab_11ea_9bbd_308d99678c9drow24_col3\" class=\"data row24 col3\" >3</td>\n",
       "                        <td id=\"T_0a5a7a80_91ab_11ea_9bbd_308d99678c9drow24_col4\" class=\"data row24 col4\" >10</td>\n",
       "                        <td id=\"T_0a5a7a80_91ab_11ea_9bbd_308d99678c9drow24_col5\" class=\"data row24 col5\" >HP</td>\n",
       "            </tr>\n",
       "            <tr>\n",
       "                        <th id=\"T_0a5a7a80_91ab_11ea_9bbd_308d99678c9dlevel0_row25\" class=\"row_heading level0 row25\" >25</th>\n",
       "                        <td id=\"T_0a5a7a80_91ab_11ea_9bbd_308d99678c9drow25_col0\" class=\"data row25 col0\" >Ladakh</td>\n",
       "                        <td id=\"T_0a5a7a80_91ab_11ea_9bbd_308d99678c9drow25_col1\" class=\"data row25 col1\" >42</td>\n",
       "                        <td id=\"T_0a5a7a80_91ab_11ea_9bbd_308d99678c9drow25_col2\" class=\"data row25 col2\" >18</td>\n",
       "                        <td id=\"T_0a5a7a80_91ab_11ea_9bbd_308d99678c9drow25_col3\" class=\"data row25 col3\" >0</td>\n",
       "                        <td id=\"T_0a5a7a80_91ab_11ea_9bbd_308d99678c9drow25_col4\" class=\"data row25 col4\" >24</td>\n",
       "                        <td id=\"T_0a5a7a80_91ab_11ea_9bbd_308d99678c9drow25_col5\" class=\"data row25 col5\" >LA</td>\n",
       "            </tr>\n",
       "            <tr>\n",
       "                        <th id=\"T_0a5a7a80_91ab_11ea_9bbd_308d99678c9dlevel0_row26\" class=\"row_heading level0 row26\" >26</th>\n",
       "                        <td id=\"T_0a5a7a80_91ab_11ea_9bbd_308d99678c9drow26_col0\" class=\"data row26 col0\" >Andaman and Nicobar Islands</td>\n",
       "                        <td id=\"T_0a5a7a80_91ab_11ea_9bbd_308d99678c9drow26_col1\" class=\"data row26 col1\" >33</td>\n",
       "                        <td id=\"T_0a5a7a80_91ab_11ea_9bbd_308d99678c9drow26_col2\" class=\"data row26 col2\" >33</td>\n",
       "                        <td id=\"T_0a5a7a80_91ab_11ea_9bbd_308d99678c9drow26_col3\" class=\"data row26 col3\" >0</td>\n",
       "                        <td id=\"T_0a5a7a80_91ab_11ea_9bbd_308d99678c9drow26_col4\" class=\"data row26 col4\" >0</td>\n",
       "                        <td id=\"T_0a5a7a80_91ab_11ea_9bbd_308d99678c9drow26_col5\" class=\"data row26 col5\" >AN</td>\n",
       "            </tr>\n",
       "            <tr>\n",
       "                        <th id=\"T_0a5a7a80_91ab_11ea_9bbd_308d99678c9dlevel0_row27\" class=\"row_heading level0 row27\" >27</th>\n",
       "                        <td id=\"T_0a5a7a80_91ab_11ea_9bbd_308d99678c9drow27_col0\" class=\"data row27 col0\" >Meghalaya</td>\n",
       "                        <td id=\"T_0a5a7a80_91ab_11ea_9bbd_308d99678c9drow27_col1\" class=\"data row27 col1\" >12</td>\n",
       "                        <td id=\"T_0a5a7a80_91ab_11ea_9bbd_308d99678c9drow27_col2\" class=\"data row27 col2\" >10</td>\n",
       "                        <td id=\"T_0a5a7a80_91ab_11ea_9bbd_308d99678c9drow27_col3\" class=\"data row27 col3\" >1</td>\n",
       "                        <td id=\"T_0a5a7a80_91ab_11ea_9bbd_308d99678c9drow27_col4\" class=\"data row27 col4\" >1</td>\n",
       "                        <td id=\"T_0a5a7a80_91ab_11ea_9bbd_308d99678c9drow27_col5\" class=\"data row27 col5\" >ML</td>\n",
       "            </tr>\n",
       "            <tr>\n",
       "                        <th id=\"T_0a5a7a80_91ab_11ea_9bbd_308d99678c9dlevel0_row28\" class=\"row_heading level0 row28\" >28</th>\n",
       "                        <td id=\"T_0a5a7a80_91ab_11ea_9bbd_308d99678c9drow28_col0\" class=\"data row28 col0\" >Puducherry</td>\n",
       "                        <td id=\"T_0a5a7a80_91ab_11ea_9bbd_308d99678c9drow28_col1\" class=\"data row28 col1\" >15</td>\n",
       "                        <td id=\"T_0a5a7a80_91ab_11ea_9bbd_308d99678c9drow28_col2\" class=\"data row28 col2\" >8</td>\n",
       "                        <td id=\"T_0a5a7a80_91ab_11ea_9bbd_308d99678c9drow28_col3\" class=\"data row28 col3\" >0</td>\n",
       "                        <td id=\"T_0a5a7a80_91ab_11ea_9bbd_308d99678c9drow28_col4\" class=\"data row28 col4\" >7</td>\n",
       "                        <td id=\"T_0a5a7a80_91ab_11ea_9bbd_308d99678c9drow28_col5\" class=\"data row28 col5\" >PY</td>\n",
       "            </tr>\n",
       "            <tr>\n",
       "                        <th id=\"T_0a5a7a80_91ab_11ea_9bbd_308d99678c9dlevel0_row29\" class=\"row_heading level0 row29\" >29</th>\n",
       "                        <td id=\"T_0a5a7a80_91ab_11ea_9bbd_308d99678c9drow29_col0\" class=\"data row29 col0\" >Goa</td>\n",
       "                        <td id=\"T_0a5a7a80_91ab_11ea_9bbd_308d99678c9drow29_col1\" class=\"data row29 col1\" >7</td>\n",
       "                        <td id=\"T_0a5a7a80_91ab_11ea_9bbd_308d99678c9drow29_col2\" class=\"data row29 col2\" >7</td>\n",
       "                        <td id=\"T_0a5a7a80_91ab_11ea_9bbd_308d99678c9drow29_col3\" class=\"data row29 col3\" >0</td>\n",
       "                        <td id=\"T_0a5a7a80_91ab_11ea_9bbd_308d99678c9drow29_col4\" class=\"data row29 col4\" >0</td>\n",
       "                        <td id=\"T_0a5a7a80_91ab_11ea_9bbd_308d99678c9drow29_col5\" class=\"data row29 col5\" >GA</td>\n",
       "            </tr>\n",
       "            <tr>\n",
       "                        <th id=\"T_0a5a7a80_91ab_11ea_9bbd_308d99678c9dlevel0_row30\" class=\"row_heading level0 row30\" >30</th>\n",
       "                        <td id=\"T_0a5a7a80_91ab_11ea_9bbd_308d99678c9drow30_col0\" class=\"data row30 col0\" >Manipur</td>\n",
       "                        <td id=\"T_0a5a7a80_91ab_11ea_9bbd_308d99678c9drow30_col1\" class=\"data row30 col1\" >2</td>\n",
       "                        <td id=\"T_0a5a7a80_91ab_11ea_9bbd_308d99678c9drow30_col2\" class=\"data row30 col2\" >2</td>\n",
       "                        <td id=\"T_0a5a7a80_91ab_11ea_9bbd_308d99678c9drow30_col3\" class=\"data row30 col3\" >0</td>\n",
       "                        <td id=\"T_0a5a7a80_91ab_11ea_9bbd_308d99678c9drow30_col4\" class=\"data row30 col4\" >0</td>\n",
       "                        <td id=\"T_0a5a7a80_91ab_11ea_9bbd_308d99678c9drow30_col5\" class=\"data row30 col5\" >MN</td>\n",
       "            </tr>\n",
       "            <tr>\n",
       "                        <th id=\"T_0a5a7a80_91ab_11ea_9bbd_308d99678c9dlevel0_row31\" class=\"row_heading level0 row31\" >31</th>\n",
       "                        <td id=\"T_0a5a7a80_91ab_11ea_9bbd_308d99678c9drow31_col0\" class=\"data row31 col0\" >Mizoram</td>\n",
       "                        <td id=\"T_0a5a7a80_91ab_11ea_9bbd_308d99678c9drow31_col1\" class=\"data row31 col1\" >1</td>\n",
       "                        <td id=\"T_0a5a7a80_91ab_11ea_9bbd_308d99678c9drow31_col2\" class=\"data row31 col2\" >1</td>\n",
       "                        <td id=\"T_0a5a7a80_91ab_11ea_9bbd_308d99678c9drow31_col3\" class=\"data row31 col3\" >0</td>\n",
       "                        <td id=\"T_0a5a7a80_91ab_11ea_9bbd_308d99678c9drow31_col4\" class=\"data row31 col4\" >0</td>\n",
       "                        <td id=\"T_0a5a7a80_91ab_11ea_9bbd_308d99678c9drow31_col5\" class=\"data row31 col5\" >MZ</td>\n",
       "            </tr>\n",
       "            <tr>\n",
       "                        <th id=\"T_0a5a7a80_91ab_11ea_9bbd_308d99678c9dlevel0_row32\" class=\"row_heading level0 row32\" >32</th>\n",
       "                        <td id=\"T_0a5a7a80_91ab_11ea_9bbd_308d99678c9drow32_col0\" class=\"data row32 col0\" >Arunachal Pradesh</td>\n",
       "                        <td id=\"T_0a5a7a80_91ab_11ea_9bbd_308d99678c9drow32_col1\" class=\"data row32 col1\" >1</td>\n",
       "                        <td id=\"T_0a5a7a80_91ab_11ea_9bbd_308d99678c9drow32_col2\" class=\"data row32 col2\" >1</td>\n",
       "                        <td id=\"T_0a5a7a80_91ab_11ea_9bbd_308d99678c9drow32_col3\" class=\"data row32 col3\" >0</td>\n",
       "                        <td id=\"T_0a5a7a80_91ab_11ea_9bbd_308d99678c9drow32_col4\" class=\"data row32 col4\" >0</td>\n",
       "                        <td id=\"T_0a5a7a80_91ab_11ea_9bbd_308d99678c9drow32_col5\" class=\"data row32 col5\" >AR</td>\n",
       "            </tr>\n",
       "            <tr>\n",
       "                        <th id=\"T_0a5a7a80_91ab_11ea_9bbd_308d99678c9dlevel0_row33\" class=\"row_heading level0 row33\" >33</th>\n",
       "                        <td id=\"T_0a5a7a80_91ab_11ea_9bbd_308d99678c9drow33_col0\" class=\"data row33 col0\" >Dadra and Nagar Haveli and Daman and Diu</td>\n",
       "                        <td id=\"T_0a5a7a80_91ab_11ea_9bbd_308d99678c9drow33_col1\" class=\"data row33 col1\" >1</td>\n",
       "                        <td id=\"T_0a5a7a80_91ab_11ea_9bbd_308d99678c9drow33_col2\" class=\"data row33 col2\" >0</td>\n",
       "                        <td id=\"T_0a5a7a80_91ab_11ea_9bbd_308d99678c9drow33_col3\" class=\"data row33 col3\" >0</td>\n",
       "                        <td id=\"T_0a5a7a80_91ab_11ea_9bbd_308d99678c9drow33_col4\" class=\"data row33 col4\" >1</td>\n",
       "                        <td id=\"T_0a5a7a80_91ab_11ea_9bbd_308d99678c9drow33_col5\" class=\"data row33 col5\" >DN</td>\n",
       "            </tr>\n",
       "            <tr>\n",
       "                        <th id=\"T_0a5a7a80_91ab_11ea_9bbd_308d99678c9dlevel0_row34\" class=\"row_heading level0 row34\" >34</th>\n",
       "                        <td id=\"T_0a5a7a80_91ab_11ea_9bbd_308d99678c9drow34_col0\" class=\"data row34 col0\" >Nagaland</td>\n",
       "                        <td id=\"T_0a5a7a80_91ab_11ea_9bbd_308d99678c9drow34_col1\" class=\"data row34 col1\" >0</td>\n",
       "                        <td id=\"T_0a5a7a80_91ab_11ea_9bbd_308d99678c9drow34_col2\" class=\"data row34 col2\" >0</td>\n",
       "                        <td id=\"T_0a5a7a80_91ab_11ea_9bbd_308d99678c9drow34_col3\" class=\"data row34 col3\" >0</td>\n",
       "                        <td id=\"T_0a5a7a80_91ab_11ea_9bbd_308d99678c9drow34_col4\" class=\"data row34 col4\" >0</td>\n",
       "                        <td id=\"T_0a5a7a80_91ab_11ea_9bbd_308d99678c9drow34_col5\" class=\"data row34 col5\" >NL</td>\n",
       "            </tr>\n",
       "            <tr>\n",
       "                        <th id=\"T_0a5a7a80_91ab_11ea_9bbd_308d99678c9dlevel0_row35\" class=\"row_heading level0 row35\" >35</th>\n",
       "                        <td id=\"T_0a5a7a80_91ab_11ea_9bbd_308d99678c9drow35_col0\" class=\"data row35 col0\" >Daman and Diu</td>\n",
       "                        <td id=\"T_0a5a7a80_91ab_11ea_9bbd_308d99678c9drow35_col1\" class=\"data row35 col1\" >0</td>\n",
       "                        <td id=\"T_0a5a7a80_91ab_11ea_9bbd_308d99678c9drow35_col2\" class=\"data row35 col2\" >0</td>\n",
       "                        <td id=\"T_0a5a7a80_91ab_11ea_9bbd_308d99678c9drow35_col3\" class=\"data row35 col3\" >0</td>\n",
       "                        <td id=\"T_0a5a7a80_91ab_11ea_9bbd_308d99678c9drow35_col4\" class=\"data row35 col4\" >0</td>\n",
       "                        <td id=\"T_0a5a7a80_91ab_11ea_9bbd_308d99678c9drow35_col5\" class=\"data row35 col5\" >DD</td>\n",
       "            </tr>\n",
       "            <tr>\n",
       "                        <th id=\"T_0a5a7a80_91ab_11ea_9bbd_308d99678c9dlevel0_row36\" class=\"row_heading level0 row36\" >36</th>\n",
       "                        <td id=\"T_0a5a7a80_91ab_11ea_9bbd_308d99678c9drow36_col0\" class=\"data row36 col0\" >Lakshadweep</td>\n",
       "                        <td id=\"T_0a5a7a80_91ab_11ea_9bbd_308d99678c9drow36_col1\" class=\"data row36 col1\" >0</td>\n",
       "                        <td id=\"T_0a5a7a80_91ab_11ea_9bbd_308d99678c9drow36_col2\" class=\"data row36 col2\" >0</td>\n",
       "                        <td id=\"T_0a5a7a80_91ab_11ea_9bbd_308d99678c9drow36_col3\" class=\"data row36 col3\" >0</td>\n",
       "                        <td id=\"T_0a5a7a80_91ab_11ea_9bbd_308d99678c9drow36_col4\" class=\"data row36 col4\" >0</td>\n",
       "                        <td id=\"T_0a5a7a80_91ab_11ea_9bbd_308d99678c9drow36_col5\" class=\"data row36 col5\" >LD</td>\n",
       "            </tr>\n",
       "            <tr>\n",
       "                        <th id=\"T_0a5a7a80_91ab_11ea_9bbd_308d99678c9dlevel0_row37\" class=\"row_heading level0 row37\" >37</th>\n",
       "                        <td id=\"T_0a5a7a80_91ab_11ea_9bbd_308d99678c9drow37_col0\" class=\"data row37 col0\" >Sikkim</td>\n",
       "                        <td id=\"T_0a5a7a80_91ab_11ea_9bbd_308d99678c9drow37_col1\" class=\"data row37 col1\" >0</td>\n",
       "                        <td id=\"T_0a5a7a80_91ab_11ea_9bbd_308d99678c9drow37_col2\" class=\"data row37 col2\" >0</td>\n",
       "                        <td id=\"T_0a5a7a80_91ab_11ea_9bbd_308d99678c9drow37_col3\" class=\"data row37 col3\" >0</td>\n",
       "                        <td id=\"T_0a5a7a80_91ab_11ea_9bbd_308d99678c9drow37_col4\" class=\"data row37 col4\" >0</td>\n",
       "                        <td id=\"T_0a5a7a80_91ab_11ea_9bbd_308d99678c9drow37_col5\" class=\"data row37 col5\" >SK</td>\n",
       "            </tr>\n",
       "    </tbody></table>"
      ],
      "text/plain": [
       "<pandas.io.formats.style.Styler at 0x20c47390088>"
      ]
     },
     "execution_count": 11,
     "metadata": {},
     "output_type": "execute_result"
    }
   ],
   "source": [
    "df.style.background_gradient(cmap='Reds')\n"
   ]
  },
  {
   "cell_type": "markdown",
   "metadata": {},
   "source": [
    "# MAP REPRESENTATION"
   ]
  },
  {
   "cell_type": "code",
   "execution_count": 12,
   "metadata": {},
   "outputs": [],
   "source": [
    "Indian_Cord=pd.read_excel(r\"Indian Coordinates.xlsx\")\n",
    "df_full=pd.merge(df,Indian_Cord,on='State_code')\n",
    "df_add=df_full.drop('States',axis=1)\n",
    "\n"
   ]
  },
  {
   "cell_type": "code",
   "execution_count": 13,
   "metadata": {},
   "outputs": [],
   "source": [
    "map=folium.Map(location=[20,70],zoom_start=4,tiles='Stamenterrain')\n",
    "for lat,long,value,name in zip(df_add['Latitude'],df_add['Longitude'],df_add['Confirmed'],df_add['State']):\n",
    "    folium.CircleMarker([lat,long],radius=0.0,popup=('<strong>State</strong>: '+str(name).capitalize()+'<br>''<strong>Confirmed</strong>:'+str(value)+'<br>'),color='red',fill_color='red',fill_opacity=0.0).add_to(map)"
   ]
  },
  {
   "cell_type": "code",
   "execution_count": 14,
   "metadata": {},
   "outputs": [
    {
     "data": {
      "text/html": [
       "<div style=\"width:100%;\"><div style=\"position:relative;width:100%;height:0;padding-bottom:60%;\"><iframe src=\"about:blank\" style=\"position:absolute;width:100%;height:100%;left:0;top:0;border:none !important;\" data-html=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 onload=\"this.contentDocument.open();this.contentDocument.write(atob(this.getAttribute('data-html')));this.contentDocument.close();\" allowfullscreen webkitallowfullscreen mozallowfullscreen></iframe></div></div>"
      ],
      "text/plain": [
       "<folium.folium.Map at 0x20c4f5373c8>"
      ]
     },
     "execution_count": 14,
     "metadata": {},
     "output_type": "execute_result"
    }
   ],
   "source": [
    "map"
   ]
  },
  {
   "cell_type": "markdown",
   "metadata": {},
   "source": [
    "# Graphical Representation (Plotly Visualisation)"
   ]
  },
  {
   "cell_type": "code",
   "execution_count": 15,
   "metadata": {},
   "outputs": [
    {
     "data": {
      "application/vnd.plotly.v1+json": {
       "config": {
        "linkText": "Export to plot.ly",
        "plotlyServerURL": "https://plot.ly",
        "showLink": true
       },
       "data": [
        {
         "marker": {
          "color": "rgba(255, 153, 51, 0.6)",
          "line": {
           "color": "rgba(255, 153, 51, 1.0)",
           "width": 1
          }
         },
         "name": "Confirmed",
         "orientation": "v",
         "text": "",
         "type": "bar",
         "x": [
          "Total",
          "Maharashtra",
          "Gujarat",
          "Tamil Nadu",
          "Delhi",
          "Rajasthan",
          "Madhya Pradesh",
          "Uttar Pradesh",
          "Andhra Pradesh",
          "Punjab",
          "West Bengal",
          "Telangana",
          "Jammu and Kashmir",
          "Karnataka",
          "Haryana",
          "Bihar",
          "Kerala",
          "Odisha",
          "Chandigarh",
          "Jharkhand",
          "Tripura",
          "Uttarakhand",
          "Chhattisgarh",
          "Assam",
          "Himachal Pradesh",
          "Ladakh",
          "Andaman and Nicobar Islands",
          "Meghalaya",
          "Puducherry",
          "Goa",
          "Manipur",
          "Mizoram",
          "Arunachal Pradesh",
          "Dadra and Nagar Haveli and Daman and Diu",
          "Nagaland",
          "Daman and Diu",
          "Lakshadweep",
          "Sikkim"
         ],
         "y": [
          59713,
          19063,
          7403,
          6009,
          6318,
          3579,
          3341,
          3214,
          1887,
          1731,
          1678,
          1132,
          823,
          753,
          647,
          579,
          504,
          287,
          146,
          155,
          118,
          63,
          59,
          60,
          50,
          42,
          33,
          12,
          15,
          7,
          2,
          1,
          1,
          1,
          0,
          0,
          0,
          0
         ]
        }
       ],
       "layout": {
        "legend": {
         "bgcolor": "#F5F6F9",
         "font": {
          "color": "#4D5663"
         }
        },
        "paper_bgcolor": "#F5F6F9",
        "plot_bgcolor": "#F5F6F9",
        "template": {
         "data": {
          "bar": [
           {
            "error_x": {
             "color": "#2a3f5f"
            },
            "error_y": {
             "color": "#2a3f5f"
            },
            "marker": {
             "line": {
              "color": "#E5ECF6",
              "width": 0.5
             }
            },
            "type": "bar"
           }
          ],
          "barpolar": [
           {
            "marker": {
             "line": {
              "color": "#E5ECF6",
              "width": 0.5
             }
            },
            "type": "barpolar"
           }
          ],
          "carpet": [
           {
            "aaxis": {
             "endlinecolor": "#2a3f5f",
             "gridcolor": "white",
             "linecolor": "white",
             "minorgridcolor": "white",
             "startlinecolor": "#2a3f5f"
            },
            "baxis": {
             "endlinecolor": "#2a3f5f",
             "gridcolor": "white",
             "linecolor": "white",
             "minorgridcolor": "white",
             "startlinecolor": "#2a3f5f"
            },
            "type": "carpet"
           }
          ],
          "choropleth": [
           {
            "colorbar": {
             "outlinewidth": 0,
             "ticks": ""
            },
            "type": "choropleth"
           }
          ],
          "contour": [
           {
            "colorbar": {
             "outlinewidth": 0,
             "ticks": ""
            },
            "colorscale": [
             [
              0,
              "#0d0887"
             ],
             [
              0.1111111111111111,
              "#46039f"
             ],
             [
              0.2222222222222222,
              "#7201a8"
             ],
             [
              0.3333333333333333,
              "#9c179e"
             ],
             [
              0.4444444444444444,
              "#bd3786"
             ],
             [
              0.5555555555555556,
              "#d8576b"
             ],
             [
              0.6666666666666666,
              "#ed7953"
             ],
             [
              0.7777777777777778,
              "#fb9f3a"
             ],
             [
              0.8888888888888888,
              "#fdca26"
             ],
             [
              1,
              "#f0f921"
             ]
            ],
            "type": "contour"
           }
          ],
          "contourcarpet": [
           {
            "colorbar": {
             "outlinewidth": 0,
             "ticks": ""
            },
            "type": "contourcarpet"
           }
          ],
          "heatmap": [
           {
            "colorbar": {
             "outlinewidth": 0,
             "ticks": ""
            },
            "colorscale": [
             [
              0,
              "#0d0887"
             ],
             [
              0.1111111111111111,
              "#46039f"
             ],
             [
              0.2222222222222222,
              "#7201a8"
             ],
             [
              0.3333333333333333,
              "#9c179e"
             ],
             [
              0.4444444444444444,
              "#bd3786"
             ],
             [
              0.5555555555555556,
              "#d8576b"
             ],
             [
              0.6666666666666666,
              "#ed7953"
             ],
             [
              0.7777777777777778,
              "#fb9f3a"
             ],
             [
              0.8888888888888888,
              "#fdca26"
             ],
             [
              1,
              "#f0f921"
             ]
            ],
            "type": "heatmap"
           }
          ],
          "heatmapgl": [
           {
            "colorbar": {
             "outlinewidth": 0,
             "ticks": ""
            },
            "colorscale": [
             [
              0,
              "#0d0887"
             ],
             [
              0.1111111111111111,
              "#46039f"
             ],
             [
              0.2222222222222222,
              "#7201a8"
             ],
             [
              0.3333333333333333,
              "#9c179e"
             ],
             [
              0.4444444444444444,
              "#bd3786"
             ],
             [
              0.5555555555555556,
              "#d8576b"
             ],
             [
              0.6666666666666666,
              "#ed7953"
             ],
             [
              0.7777777777777778,
              "#fb9f3a"
             ],
             [
              0.8888888888888888,
              "#fdca26"
             ],
             [
              1,
              "#f0f921"
             ]
            ],
            "type": "heatmapgl"
           }
          ],
          "histogram": [
           {
            "marker": {
             "colorbar": {
              "outlinewidth": 0,
              "ticks": ""
             }
            },
            "type": "histogram"
           }
          ],
          "histogram2d": [
           {
            "colorbar": {
             "outlinewidth": 0,
             "ticks": ""
            },
            "colorscale": [
             [
              0,
              "#0d0887"
             ],
             [
              0.1111111111111111,
              "#46039f"
             ],
             [
              0.2222222222222222,
              "#7201a8"
             ],
             [
              0.3333333333333333,
              "#9c179e"
             ],
             [
              0.4444444444444444,
              "#bd3786"
             ],
             [
              0.5555555555555556,
              "#d8576b"
             ],
             [
              0.6666666666666666,
              "#ed7953"
             ],
             [
              0.7777777777777778,
              "#fb9f3a"
             ],
             [
              0.8888888888888888,
              "#fdca26"
             ],
             [
              1,
              "#f0f921"
             ]
            ],
            "type": "histogram2d"
           }
          ],
          "histogram2dcontour": [
           {
            "colorbar": {
             "outlinewidth": 0,
             "ticks": ""
            },
            "colorscale": [
             [
              0,
              "#0d0887"
             ],
             [
              0.1111111111111111,
              "#46039f"
             ],
             [
              0.2222222222222222,
              "#7201a8"
             ],
             [
              0.3333333333333333,
              "#9c179e"
             ],
             [
              0.4444444444444444,
              "#bd3786"
             ],
             [
              0.5555555555555556,
              "#d8576b"
             ],
             [
              0.6666666666666666,
              "#ed7953"
             ],
             [
              0.7777777777777778,
              "#fb9f3a"
             ],
             [
              0.8888888888888888,
              "#fdca26"
             ],
             [
              1,
              "#f0f921"
             ]
            ],
            "type": "histogram2dcontour"
           }
          ],
          "mesh3d": [
           {
            "colorbar": {
             "outlinewidth": 0,
             "ticks": ""
            },
            "type": "mesh3d"
           }
          ],
          "parcoords": [
           {
            "line": {
             "colorbar": {
              "outlinewidth": 0,
              "ticks": ""
             }
            },
            "type": "parcoords"
           }
          ],
          "pie": [
           {
            "automargin": true,
            "type": "pie"
           }
          ],
          "scatter": [
           {
            "marker": {
             "colorbar": {
              "outlinewidth": 0,
              "ticks": ""
             }
            },
            "type": "scatter"
           }
          ],
          "scatter3d": [
           {
            "line": {
             "colorbar": {
              "outlinewidth": 0,
              "ticks": ""
             }
            },
            "marker": {
             "colorbar": {
              "outlinewidth": 0,
              "ticks": ""
             }
            },
            "type": "scatter3d"
           }
          ],
          "scattercarpet": [
           {
            "marker": {
             "colorbar": {
              "outlinewidth": 0,
              "ticks": ""
             }
            },
            "type": "scattercarpet"
           }
          ],
          "scattergeo": [
           {
            "marker": {
             "colorbar": {
              "outlinewidth": 0,
              "ticks": ""
             }
            },
            "type": "scattergeo"
           }
          ],
          "scattergl": [
           {
            "marker": {
             "colorbar": {
              "outlinewidth": 0,
              "ticks": ""
             }
            },
            "type": "scattergl"
           }
          ],
          "scattermapbox": [
           {
            "marker": {
             "colorbar": {
              "outlinewidth": 0,
              "ticks": ""
             }
            },
            "type": "scattermapbox"
           }
          ],
          "scatterpolar": [
           {
            "marker": {
             "colorbar": {
              "outlinewidth": 0,
              "ticks": ""
             }
            },
            "type": "scatterpolar"
           }
          ],
          "scatterpolargl": [
           {
            "marker": {
             "colorbar": {
              "outlinewidth": 0,
              "ticks": ""
             }
            },
            "type": "scatterpolargl"
           }
          ],
          "scatterternary": [
           {
            "marker": {
             "colorbar": {
              "outlinewidth": 0,
              "ticks": ""
             }
            },
            "type": "scatterternary"
           }
          ],
          "surface": [
           {
            "colorbar": {
             "outlinewidth": 0,
             "ticks": ""
            },
            "colorscale": [
             [
              0,
              "#0d0887"
             ],
             [
              0.1111111111111111,
              "#46039f"
             ],
             [
              0.2222222222222222,
              "#7201a8"
             ],
             [
              0.3333333333333333,
              "#9c179e"
             ],
             [
              0.4444444444444444,
              "#bd3786"
             ],
             [
              0.5555555555555556,
              "#d8576b"
             ],
             [
              0.6666666666666666,
              "#ed7953"
             ],
             [
              0.7777777777777778,
              "#fb9f3a"
             ],
             [
              0.8888888888888888,
              "#fdca26"
             ],
             [
              1,
              "#f0f921"
             ]
            ],
            "type": "surface"
           }
          ],
          "table": [
           {
            "cells": {
             "fill": {
              "color": "#EBF0F8"
             },
             "line": {
              "color": "white"
             }
            },
            "header": {
             "fill": {
              "color": "#C8D4E3"
             },
             "line": {
              "color": "white"
             }
            },
            "type": "table"
           }
          ]
         },
         "layout": {
          "annotationdefaults": {
           "arrowcolor": "#2a3f5f",
           "arrowhead": 0,
           "arrowwidth": 1
          },
          "coloraxis": {
           "colorbar": {
            "outlinewidth": 0,
            "ticks": ""
           }
          },
          "colorscale": {
           "diverging": [
            [
             0,
             "#8e0152"
            ],
            [
             0.1,
             "#c51b7d"
            ],
            [
             0.2,
             "#de77ae"
            ],
            [
             0.3,
             "#f1b6da"
            ],
            [
             0.4,
             "#fde0ef"
            ],
            [
             0.5,
             "#f7f7f7"
            ],
            [
             0.6,
             "#e6f5d0"
            ],
            [
             0.7,
             "#b8e186"
            ],
            [
             0.8,
             "#7fbc41"
            ],
            [
             0.9,
             "#4d9221"
            ],
            [
             1,
             "#276419"
            ]
           ],
           "sequential": [
            [
             0,
             "#0d0887"
            ],
            [
             0.1111111111111111,
             "#46039f"
            ],
            [
             0.2222222222222222,
             "#7201a8"
            ],
            [
             0.3333333333333333,
             "#9c179e"
            ],
            [
             0.4444444444444444,
             "#bd3786"
            ],
            [
             0.5555555555555556,
             "#d8576b"
            ],
            [
             0.6666666666666666,
             "#ed7953"
            ],
            [
             0.7777777777777778,
             "#fb9f3a"
            ],
            [
             0.8888888888888888,
             "#fdca26"
            ],
            [
             1,
             "#f0f921"
            ]
           ],
           "sequentialminus": [
            [
             0,
             "#0d0887"
            ],
            [
             0.1111111111111111,
             "#46039f"
            ],
            [
             0.2222222222222222,
             "#7201a8"
            ],
            [
             0.3333333333333333,
             "#9c179e"
            ],
            [
             0.4444444444444444,
             "#bd3786"
            ],
            [
             0.5555555555555556,
             "#d8576b"
            ],
            [
             0.6666666666666666,
             "#ed7953"
            ],
            [
             0.7777777777777778,
             "#fb9f3a"
            ],
            [
             0.8888888888888888,
             "#fdca26"
            ],
            [
             1,
             "#f0f921"
            ]
           ]
          },
          "colorway": [
           "#636efa",
           "#EF553B",
           "#00cc96",
           "#ab63fa",
           "#FFA15A",
           "#19d3f3",
           "#FF6692",
           "#B6E880",
           "#FF97FF",
           "#FECB52"
          ],
          "font": {
           "color": "#2a3f5f"
          },
          "geo": {
           "bgcolor": "white",
           "lakecolor": "white",
           "landcolor": "#E5ECF6",
           "showlakes": true,
           "showland": true,
           "subunitcolor": "white"
          },
          "hoverlabel": {
           "align": "left"
          },
          "hovermode": "closest",
          "mapbox": {
           "style": "light"
          },
          "paper_bgcolor": "white",
          "plot_bgcolor": "#E5ECF6",
          "polar": {
           "angularaxis": {
            "gridcolor": "white",
            "linecolor": "white",
            "ticks": ""
           },
           "bgcolor": "#E5ECF6",
           "radialaxis": {
            "gridcolor": "white",
            "linecolor": "white",
            "ticks": ""
           }
          },
          "scene": {
           "xaxis": {
            "backgroundcolor": "#E5ECF6",
            "gridcolor": "white",
            "gridwidth": 2,
            "linecolor": "white",
            "showbackground": true,
            "ticks": "",
            "zerolinecolor": "white"
           },
           "yaxis": {
            "backgroundcolor": "#E5ECF6",
            "gridcolor": "white",
            "gridwidth": 2,
            "linecolor": "white",
            "showbackground": true,
            "ticks": "",
            "zerolinecolor": "white"
           },
           "zaxis": {
            "backgroundcolor": "#E5ECF6",
            "gridcolor": "white",
            "gridwidth": 2,
            "linecolor": "white",
            "showbackground": true,
            "ticks": "",
            "zerolinecolor": "white"
           }
          },
          "shapedefaults": {
           "line": {
            "color": "#2a3f5f"
           }
          },
          "ternary": {
           "aaxis": {
            "gridcolor": "white",
            "linecolor": "white",
            "ticks": ""
           },
           "baxis": {
            "gridcolor": "white",
            "linecolor": "white",
            "ticks": ""
           },
           "bgcolor": "#E5ECF6",
           "caxis": {
            "gridcolor": "white",
            "linecolor": "white",
            "ticks": ""
           }
          },
          "title": {
           "x": 0.05
          },
          "xaxis": {
           "automargin": true,
           "gridcolor": "white",
           "linecolor": "white",
           "ticks": "",
           "title": {
            "standoff": 15
           },
           "zerolinecolor": "white",
           "zerolinewidth": 2
          },
          "yaxis": {
           "automargin": true,
           "gridcolor": "white",
           "linecolor": "white",
           "ticks": "",
           "title": {
            "standoff": 15
           },
           "zerolinecolor": "white",
           "zerolinewidth": 2
          }
         }
        },
        "title": {
         "font": {
          "color": "#4D5663"
         }
        },
        "xaxis": {
         "gridcolor": "#E1E5ED",
         "showgrid": true,
         "tickfont": {
          "color": "#4D5663"
         },
         "title": {
          "font": {
           "color": "#4D5663"
          },
          "text": ""
         },
         "zerolinecolor": "#E1E5ED"
        },
        "yaxis": {
         "gridcolor": "#E1E5ED",
         "showgrid": true,
         "tickfont": {
          "color": "#4D5663"
         },
         "title": {
          "font": {
           "color": "#4D5663"
          },
          "text": ""
         },
         "zerolinecolor": "#E1E5ED"
        }
       }
      },
      "text/html": [
       "<div>\n",
       "        \n",
       "        \n",
       "            <div id=\"0af60b1e-c11a-4382-927b-779cdea0b133\" class=\"plotly-graph-div\" style=\"height:525px; width:100%;\"></div>\n",
       "            <script type=\"text/javascript\">\n",
       "                require([\"plotly\"], function(Plotly) {\n",
       "                    window.PLOTLYENV=window.PLOTLYENV || {};\n",
       "                    window.PLOTLYENV.BASE_URL='https://plot.ly';\n",
       "                    \n",
       "                if (document.getElementById(\"0af60b1e-c11a-4382-927b-779cdea0b133\")) {\n",
       "                    Plotly.newPlot(\n",
       "                        '0af60b1e-c11a-4382-927b-779cdea0b133',\n",
       "                        [{\"marker\": {\"color\": \"rgba(255, 153, 51, 0.6)\", \"line\": {\"color\": \"rgba(255, 153, 51, 1.0)\", \"width\": 1}}, \"name\": \"Confirmed\", \"orientation\": \"v\", \"text\": \"\", \"type\": \"bar\", \"x\": [\"Total\", \"Maharashtra\", \"Gujarat\", \"Tamil Nadu\", \"Delhi\", \"Rajasthan\", \"Madhya Pradesh\", \"Uttar Pradesh\", \"Andhra Pradesh\", \"Punjab\", \"West Bengal\", \"Telangana\", \"Jammu and Kashmir\", \"Karnataka\", \"Haryana\", \"Bihar\", \"Kerala\", \"Odisha\", \"Chandigarh\", \"Jharkhand\", \"Tripura\", \"Uttarakhand\", \"Chhattisgarh\", \"Assam\", \"Himachal Pradesh\", \"Ladakh\", \"Andaman and Nicobar Islands\", \"Meghalaya\", \"Puducherry\", \"Goa\", \"Manipur\", \"Mizoram\", \"Arunachal Pradesh\", \"Dadra and Nagar Haveli and Daman and Diu\", \"Nagaland\", \"Daman and Diu\", \"Lakshadweep\", \"Sikkim\"], \"y\": [59713, 19063, 7403, 6009, 6318, 3579, 3341, 3214, 1887, 1731, 1678, 1132, 823, 753, 647, 579, 504, 287, 146, 155, 118, 63, 59, 60, 50, 42, 33, 12, 15, 7, 2, 1, 1, 1, 0, 0, 0, 0]}],\n",
       "                        {\"legend\": {\"bgcolor\": \"#F5F6F9\", \"font\": {\"color\": \"#4D5663\"}}, \"paper_bgcolor\": \"#F5F6F9\", \"plot_bgcolor\": \"#F5F6F9\", \"template\": {\"data\": {\"bar\": [{\"error_x\": {\"color\": \"#2a3f5f\"}, \"error_y\": {\"color\": \"#2a3f5f\"}, \"marker\": {\"line\": {\"color\": \"#E5ECF6\", \"width\": 0.5}}, \"type\": \"bar\"}], \"barpolar\": [{\"marker\": {\"line\": {\"color\": \"#E5ECF6\", \"width\": 0.5}}, \"type\": \"barpolar\"}], \"carpet\": [{\"aaxis\": {\"endlinecolor\": \"#2a3f5f\", \"gridcolor\": \"white\", \"linecolor\": \"white\", \"minorgridcolor\": \"white\", \"startlinecolor\": \"#2a3f5f\"}, \"baxis\": {\"endlinecolor\": \"#2a3f5f\", \"gridcolor\": \"white\", \"linecolor\": \"white\", \"minorgridcolor\": \"white\", \"startlinecolor\": \"#2a3f5f\"}, \"type\": \"carpet\"}], \"choropleth\": [{\"colorbar\": {\"outlinewidth\": 0, \"ticks\": \"\"}, \"type\": \"choropleth\"}], \"contour\": [{\"colorbar\": {\"outlinewidth\": 0, \"ticks\": \"\"}, \"colorscale\": [[0.0, \"#0d0887\"], [0.1111111111111111, \"#46039f\"], [0.2222222222222222, \"#7201a8\"], [0.3333333333333333, \"#9c179e\"], [0.4444444444444444, \"#bd3786\"], [0.5555555555555556, \"#d8576b\"], [0.6666666666666666, \"#ed7953\"], [0.7777777777777778, \"#fb9f3a\"], [0.8888888888888888, \"#fdca26\"], [1.0, \"#f0f921\"]], \"type\": \"contour\"}], \"contourcarpet\": [{\"colorbar\": {\"outlinewidth\": 0, \"ticks\": \"\"}, \"type\": \"contourcarpet\"}], \"heatmap\": [{\"colorbar\": {\"outlinewidth\": 0, \"ticks\": \"\"}, \"colorscale\": [[0.0, \"#0d0887\"], [0.1111111111111111, \"#46039f\"], [0.2222222222222222, \"#7201a8\"], [0.3333333333333333, \"#9c179e\"], [0.4444444444444444, \"#bd3786\"], [0.5555555555555556, \"#d8576b\"], [0.6666666666666666, \"#ed7953\"], [0.7777777777777778, \"#fb9f3a\"], [0.8888888888888888, \"#fdca26\"], [1.0, \"#f0f921\"]], \"type\": \"heatmap\"}], \"heatmapgl\": [{\"colorbar\": {\"outlinewidth\": 0, \"ticks\": \"\"}, \"colorscale\": [[0.0, \"#0d0887\"], [0.1111111111111111, \"#46039f\"], [0.2222222222222222, \"#7201a8\"], [0.3333333333333333, \"#9c179e\"], [0.4444444444444444, \"#bd3786\"], [0.5555555555555556, \"#d8576b\"], [0.6666666666666666, \"#ed7953\"], [0.7777777777777778, \"#fb9f3a\"], [0.8888888888888888, \"#fdca26\"], [1.0, \"#f0f921\"]], \"type\": \"heatmapgl\"}], \"histogram\": [{\"marker\": {\"colorbar\": {\"outlinewidth\": 0, \"ticks\": \"\"}}, \"type\": \"histogram\"}], \"histogram2d\": [{\"colorbar\": {\"outlinewidth\": 0, \"ticks\": \"\"}, \"colorscale\": [[0.0, \"#0d0887\"], [0.1111111111111111, \"#46039f\"], [0.2222222222222222, \"#7201a8\"], [0.3333333333333333, \"#9c179e\"], [0.4444444444444444, \"#bd3786\"], [0.5555555555555556, \"#d8576b\"], [0.6666666666666666, \"#ed7953\"], [0.7777777777777778, \"#fb9f3a\"], [0.8888888888888888, \"#fdca26\"], [1.0, \"#f0f921\"]], \"type\": \"histogram2d\"}], \"histogram2dcontour\": [{\"colorbar\": {\"outlinewidth\": 0, \"ticks\": \"\"}, \"colorscale\": [[0.0, \"#0d0887\"], [0.1111111111111111, \"#46039f\"], [0.2222222222222222, \"#7201a8\"], [0.3333333333333333, \"#9c179e\"], [0.4444444444444444, \"#bd3786\"], [0.5555555555555556, \"#d8576b\"], [0.6666666666666666, \"#ed7953\"], [0.7777777777777778, \"#fb9f3a\"], [0.8888888888888888, \"#fdca26\"], [1.0, \"#f0f921\"]], \"type\": \"histogram2dcontour\"}], \"mesh3d\": [{\"colorbar\": {\"outlinewidth\": 0, \"ticks\": \"\"}, \"type\": \"mesh3d\"}], \"parcoords\": [{\"line\": {\"colorbar\": {\"outlinewidth\": 0, \"ticks\": \"\"}}, \"type\": \"parcoords\"}], \"pie\": [{\"automargin\": true, \"type\": \"pie\"}], \"scatter\": [{\"marker\": {\"colorbar\": {\"outlinewidth\": 0, \"ticks\": \"\"}}, \"type\": \"scatter\"}], \"scatter3d\": [{\"line\": {\"colorbar\": {\"outlinewidth\": 0, \"ticks\": \"\"}}, \"marker\": {\"colorbar\": {\"outlinewidth\": 0, \"ticks\": \"\"}}, \"type\": \"scatter3d\"}], \"scattercarpet\": [{\"marker\": {\"colorbar\": {\"outlinewidth\": 0, \"ticks\": \"\"}}, \"type\": \"scattercarpet\"}], \"scattergeo\": [{\"marker\": {\"colorbar\": {\"outlinewidth\": 0, \"ticks\": \"\"}}, \"type\": \"scattergeo\"}], \"scattergl\": [{\"marker\": {\"colorbar\": {\"outlinewidth\": 0, \"ticks\": \"\"}}, \"type\": \"scattergl\"}], \"scattermapbox\": [{\"marker\": {\"colorbar\": {\"outlinewidth\": 0, \"ticks\": \"\"}}, \"type\": \"scattermapbox\"}], \"scatterpolar\": [{\"marker\": {\"colorbar\": {\"outlinewidth\": 0, \"ticks\": \"\"}}, \"type\": \"scatterpolar\"}], \"scatterpolargl\": [{\"marker\": {\"colorbar\": {\"outlinewidth\": 0, \"ticks\": \"\"}}, \"type\": \"scatterpolargl\"}], \"scatterternary\": [{\"marker\": {\"colorbar\": {\"outlinewidth\": 0, \"ticks\": \"\"}}, \"type\": \"scatterternary\"}], \"surface\": [{\"colorbar\": {\"outlinewidth\": 0, \"ticks\": \"\"}, \"colorscale\": [[0.0, \"#0d0887\"], [0.1111111111111111, \"#46039f\"], [0.2222222222222222, \"#7201a8\"], [0.3333333333333333, \"#9c179e\"], [0.4444444444444444, \"#bd3786\"], [0.5555555555555556, \"#d8576b\"], [0.6666666666666666, \"#ed7953\"], [0.7777777777777778, \"#fb9f3a\"], [0.8888888888888888, \"#fdca26\"], [1.0, \"#f0f921\"]], \"type\": \"surface\"}], \"table\": [{\"cells\": {\"fill\": {\"color\": \"#EBF0F8\"}, \"line\": {\"color\": \"white\"}}, \"header\": {\"fill\": {\"color\": \"#C8D4E3\"}, \"line\": {\"color\": \"white\"}}, \"type\": \"table\"}]}, \"layout\": {\"annotationdefaults\": {\"arrowcolor\": \"#2a3f5f\", \"arrowhead\": 0, \"arrowwidth\": 1}, \"coloraxis\": {\"colorbar\": {\"outlinewidth\": 0, \"ticks\": \"\"}}, \"colorscale\": {\"diverging\": [[0, \"#8e0152\"], [0.1, \"#c51b7d\"], [0.2, \"#de77ae\"], [0.3, \"#f1b6da\"], [0.4, \"#fde0ef\"], [0.5, \"#f7f7f7\"], [0.6, \"#e6f5d0\"], [0.7, \"#b8e186\"], [0.8, \"#7fbc41\"], [0.9, \"#4d9221\"], [1, \"#276419\"]], \"sequential\": [[0.0, \"#0d0887\"], [0.1111111111111111, \"#46039f\"], [0.2222222222222222, \"#7201a8\"], [0.3333333333333333, \"#9c179e\"], [0.4444444444444444, \"#bd3786\"], [0.5555555555555556, \"#d8576b\"], [0.6666666666666666, \"#ed7953\"], [0.7777777777777778, \"#fb9f3a\"], [0.8888888888888888, \"#fdca26\"], [1.0, \"#f0f921\"]], \"sequentialminus\": [[0.0, \"#0d0887\"], [0.1111111111111111, \"#46039f\"], [0.2222222222222222, \"#7201a8\"], [0.3333333333333333, \"#9c179e\"], [0.4444444444444444, \"#bd3786\"], [0.5555555555555556, \"#d8576b\"], [0.6666666666666666, \"#ed7953\"], [0.7777777777777778, \"#fb9f3a\"], [0.8888888888888888, \"#fdca26\"], [1.0, \"#f0f921\"]]}, \"colorway\": [\"#636efa\", \"#EF553B\", \"#00cc96\", \"#ab63fa\", \"#FFA15A\", \"#19d3f3\", \"#FF6692\", \"#B6E880\", \"#FF97FF\", \"#FECB52\"], \"font\": {\"color\": \"#2a3f5f\"}, \"geo\": {\"bgcolor\": \"white\", \"lakecolor\": \"white\", \"landcolor\": \"#E5ECF6\", \"showlakes\": true, \"showland\": true, \"subunitcolor\": \"white\"}, \"hoverlabel\": {\"align\": \"left\"}, \"hovermode\": \"closest\", \"mapbox\": {\"style\": \"light\"}, \"paper_bgcolor\": \"white\", \"plot_bgcolor\": \"#E5ECF6\", \"polar\": {\"angularaxis\": {\"gridcolor\": \"white\", \"linecolor\": \"white\", \"ticks\": \"\"}, \"bgcolor\": \"#E5ECF6\", \"radialaxis\": {\"gridcolor\": \"white\", \"linecolor\": \"white\", \"ticks\": \"\"}}, \"scene\": {\"xaxis\": {\"backgroundcolor\": \"#E5ECF6\", \"gridcolor\": \"white\", \"gridwidth\": 2, \"linecolor\": \"white\", \"showbackground\": true, \"ticks\": \"\", \"zerolinecolor\": \"white\"}, \"yaxis\": {\"backgroundcolor\": \"#E5ECF6\", \"gridcolor\": \"white\", \"gridwidth\": 2, \"linecolor\": \"white\", \"showbackground\": true, \"ticks\": \"\", \"zerolinecolor\": \"white\"}, \"zaxis\": {\"backgroundcolor\": \"#E5ECF6\", \"gridcolor\": \"white\", \"gridwidth\": 2, \"linecolor\": \"white\", \"showbackground\": true, \"ticks\": \"\", \"zerolinecolor\": \"white\"}}, \"shapedefaults\": {\"line\": {\"color\": \"#2a3f5f\"}}, \"ternary\": {\"aaxis\": {\"gridcolor\": \"white\", \"linecolor\": \"white\", \"ticks\": \"\"}, \"baxis\": {\"gridcolor\": \"white\", \"linecolor\": \"white\", \"ticks\": \"\"}, \"bgcolor\": \"#E5ECF6\", \"caxis\": {\"gridcolor\": \"white\", \"linecolor\": \"white\", \"ticks\": \"\"}}, \"title\": {\"x\": 0.05}, \"xaxis\": {\"automargin\": true, \"gridcolor\": \"white\", \"linecolor\": \"white\", \"ticks\": \"\", \"title\": {\"standoff\": 15}, \"zerolinecolor\": \"white\", \"zerolinewidth\": 2}, \"yaxis\": {\"automargin\": true, \"gridcolor\": \"white\", \"linecolor\": \"white\", \"ticks\": \"\", \"title\": {\"standoff\": 15}, \"zerolinecolor\": \"white\", \"zerolinewidth\": 2}}}, \"title\": {\"font\": {\"color\": \"#4D5663\"}}, \"xaxis\": {\"gridcolor\": \"#E1E5ED\", \"showgrid\": true, \"tickfont\": {\"color\": \"#4D5663\"}, \"title\": {\"font\": {\"color\": \"#4D5663\"}, \"text\": \"\"}, \"zerolinecolor\": \"#E1E5ED\"}, \"yaxis\": {\"gridcolor\": \"#E1E5ED\", \"showgrid\": true, \"tickfont\": {\"color\": \"#4D5663\"}, \"title\": {\"font\": {\"color\": \"#4D5663\"}, \"text\": \"\"}, \"zerolinecolor\": \"#E1E5ED\"}},\n",
       "                        {\"showLink\": true, \"linkText\": \"Export to plot.ly\", \"plotlyServerURL\": \"https://plot.ly\", \"responsive\": true}\n",
       "                    ).then(function(){\n",
       "                            \n",
       "var gd = document.getElementById('0af60b1e-c11a-4382-927b-779cdea0b133');\n",
       "var x = new MutationObserver(function (mutations, observer) {{\n",
       "        var display = window.getComputedStyle(gd).display;\n",
       "        if (!display || display === 'none') {{\n",
       "            console.log([gd, 'removed!']);\n",
       "            Plotly.purge(gd);\n",
       "            observer.disconnect();\n",
       "        }}\n",
       "}});\n",
       "\n",
       "// Listen for the removal of the full notebook cells\n",
       "var notebookContainer = gd.closest('#notebook-container');\n",
       "if (notebookContainer) {{\n",
       "    x.observe(notebookContainer, {childList: true});\n",
       "}}\n",
       "\n",
       "// Listen for the clearing of the current output cell\n",
       "var outputEl = gd.closest('.output');\n",
       "if (outputEl) {{\n",
       "    x.observe(outputEl, {childList: true});\n",
       "}}\n",
       "\n",
       "                        })\n",
       "                };\n",
       "                });\n",
       "            </script>\n",
       "        </div>"
      ]
     },
     "metadata": {},
     "output_type": "display_data"
    }
   ],
   "source": [
    "df.iplot(kind='bar',x=\"State\",y=\"Confirmed\")"
   ]
  },
  {
   "cell_type": "markdown",
   "metadata": {},
   "source": [
    "# Plotly Express Visualisation"
   ]
  },
  {
   "cell_type": "code",
   "execution_count": 16,
   "metadata": {},
   "outputs": [
    {
     "data": {
      "application/vnd.plotly.v1+json": {
       "config": {
        "plotlyServerURL": "https://plot.ly"
       },
       "data": [
        {
         "alignmentgroup": "True",
         "hovertemplate": "State=%{x}<br>Confirmed=%{y}<extra></extra>",
         "legendgroup": "",
         "marker": {
          "color": "#636efa"
         },
         "name": "",
         "offsetgroup": "",
         "orientation": "v",
         "showlegend": false,
         "textposition": "auto",
         "type": "bar",
         "x": [
          "Total",
          "Maharashtra",
          "Gujarat",
          "Tamil Nadu",
          "Delhi",
          "Rajasthan",
          "Madhya Pradesh",
          "Uttar Pradesh",
          "Andhra Pradesh",
          "Punjab",
          "West Bengal",
          "Telangana",
          "Jammu and Kashmir",
          "Karnataka",
          "Haryana",
          "Bihar",
          "Kerala",
          "Odisha",
          "Chandigarh",
          "Jharkhand",
          "Tripura",
          "Uttarakhand",
          "Chhattisgarh",
          "Assam",
          "Himachal Pradesh",
          "Ladakh",
          "Andaman and Nicobar Islands",
          "Meghalaya",
          "Puducherry",
          "Goa",
          "Manipur",
          "Mizoram",
          "Arunachal Pradesh",
          "Dadra and Nagar Haveli and Daman and Diu",
          "Nagaland",
          "Daman and Diu",
          "Lakshadweep",
          "Sikkim"
         ],
         "xaxis": "x",
         "y": [
          59713,
          19063,
          7403,
          6009,
          6318,
          3579,
          3341,
          3214,
          1887,
          1731,
          1678,
          1132,
          823,
          753,
          647,
          579,
          504,
          287,
          146,
          155,
          118,
          63,
          59,
          60,
          50,
          42,
          33,
          12,
          15,
          7,
          2,
          1,
          1,
          1,
          0,
          0,
          0,
          0
         ],
         "yaxis": "y"
        }
       ],
       "layout": {
        "barmode": "relative",
        "legend": {
         "tracegroupgap": 0
        },
        "margin": {
         "t": 60
        },
        "template": {
         "data": {
          "bar": [
           {
            "error_x": {
             "color": "#2a3f5f"
            },
            "error_y": {
             "color": "#2a3f5f"
            },
            "marker": {
             "line": {
              "color": "#E5ECF6",
              "width": 0.5
             }
            },
            "type": "bar"
           }
          ],
          "barpolar": [
           {
            "marker": {
             "line": {
              "color": "#E5ECF6",
              "width": 0.5
             }
            },
            "type": "barpolar"
           }
          ],
          "carpet": [
           {
            "aaxis": {
             "endlinecolor": "#2a3f5f",
             "gridcolor": "white",
             "linecolor": "white",
             "minorgridcolor": "white",
             "startlinecolor": "#2a3f5f"
            },
            "baxis": {
             "endlinecolor": "#2a3f5f",
             "gridcolor": "white",
             "linecolor": "white",
             "minorgridcolor": "white",
             "startlinecolor": "#2a3f5f"
            },
            "type": "carpet"
           }
          ],
          "choropleth": [
           {
            "colorbar": {
             "outlinewidth": 0,
             "ticks": ""
            },
            "type": "choropleth"
           }
          ],
          "contour": [
           {
            "colorbar": {
             "outlinewidth": 0,
             "ticks": ""
            },
            "colorscale": [
             [
              0,
              "#0d0887"
             ],
             [
              0.1111111111111111,
              "#46039f"
             ],
             [
              0.2222222222222222,
              "#7201a8"
             ],
             [
              0.3333333333333333,
              "#9c179e"
             ],
             [
              0.4444444444444444,
              "#bd3786"
             ],
             [
              0.5555555555555556,
              "#d8576b"
             ],
             [
              0.6666666666666666,
              "#ed7953"
             ],
             [
              0.7777777777777778,
              "#fb9f3a"
             ],
             [
              0.8888888888888888,
              "#fdca26"
             ],
             [
              1,
              "#f0f921"
             ]
            ],
            "type": "contour"
           }
          ],
          "contourcarpet": [
           {
            "colorbar": {
             "outlinewidth": 0,
             "ticks": ""
            },
            "type": "contourcarpet"
           }
          ],
          "heatmap": [
           {
            "colorbar": {
             "outlinewidth": 0,
             "ticks": ""
            },
            "colorscale": [
             [
              0,
              "#0d0887"
             ],
             [
              0.1111111111111111,
              "#46039f"
             ],
             [
              0.2222222222222222,
              "#7201a8"
             ],
             [
              0.3333333333333333,
              "#9c179e"
             ],
             [
              0.4444444444444444,
              "#bd3786"
             ],
             [
              0.5555555555555556,
              "#d8576b"
             ],
             [
              0.6666666666666666,
              "#ed7953"
             ],
             [
              0.7777777777777778,
              "#fb9f3a"
             ],
             [
              0.8888888888888888,
              "#fdca26"
             ],
             [
              1,
              "#f0f921"
             ]
            ],
            "type": "heatmap"
           }
          ],
          "heatmapgl": [
           {
            "colorbar": {
             "outlinewidth": 0,
             "ticks": ""
            },
            "colorscale": [
             [
              0,
              "#0d0887"
             ],
             [
              0.1111111111111111,
              "#46039f"
             ],
             [
              0.2222222222222222,
              "#7201a8"
             ],
             [
              0.3333333333333333,
              "#9c179e"
             ],
             [
              0.4444444444444444,
              "#bd3786"
             ],
             [
              0.5555555555555556,
              "#d8576b"
             ],
             [
              0.6666666666666666,
              "#ed7953"
             ],
             [
              0.7777777777777778,
              "#fb9f3a"
             ],
             [
              0.8888888888888888,
              "#fdca26"
             ],
             [
              1,
              "#f0f921"
             ]
            ],
            "type": "heatmapgl"
           }
          ],
          "histogram": [
           {
            "marker": {
             "colorbar": {
              "outlinewidth": 0,
              "ticks": ""
             }
            },
            "type": "histogram"
           }
          ],
          "histogram2d": [
           {
            "colorbar": {
             "outlinewidth": 0,
             "ticks": ""
            },
            "colorscale": [
             [
              0,
              "#0d0887"
             ],
             [
              0.1111111111111111,
              "#46039f"
             ],
             [
              0.2222222222222222,
              "#7201a8"
             ],
             [
              0.3333333333333333,
              "#9c179e"
             ],
             [
              0.4444444444444444,
              "#bd3786"
             ],
             [
              0.5555555555555556,
              "#d8576b"
             ],
             [
              0.6666666666666666,
              "#ed7953"
             ],
             [
              0.7777777777777778,
              "#fb9f3a"
             ],
             [
              0.8888888888888888,
              "#fdca26"
             ],
             [
              1,
              "#f0f921"
             ]
            ],
            "type": "histogram2d"
           }
          ],
          "histogram2dcontour": [
           {
            "colorbar": {
             "outlinewidth": 0,
             "ticks": ""
            },
            "colorscale": [
             [
              0,
              "#0d0887"
             ],
             [
              0.1111111111111111,
              "#46039f"
             ],
             [
              0.2222222222222222,
              "#7201a8"
             ],
             [
              0.3333333333333333,
              "#9c179e"
             ],
             [
              0.4444444444444444,
              "#bd3786"
             ],
             [
              0.5555555555555556,
              "#d8576b"
             ],
             [
              0.6666666666666666,
              "#ed7953"
             ],
             [
              0.7777777777777778,
              "#fb9f3a"
             ],
             [
              0.8888888888888888,
              "#fdca26"
             ],
             [
              1,
              "#f0f921"
             ]
            ],
            "type": "histogram2dcontour"
           }
          ],
          "mesh3d": [
           {
            "colorbar": {
             "outlinewidth": 0,
             "ticks": ""
            },
            "type": "mesh3d"
           }
          ],
          "parcoords": [
           {
            "line": {
             "colorbar": {
              "outlinewidth": 0,
              "ticks": ""
             }
            },
            "type": "parcoords"
           }
          ],
          "pie": [
           {
            "automargin": true,
            "type": "pie"
           }
          ],
          "scatter": [
           {
            "marker": {
             "colorbar": {
              "outlinewidth": 0,
              "ticks": ""
             }
            },
            "type": "scatter"
           }
          ],
          "scatter3d": [
           {
            "line": {
             "colorbar": {
              "outlinewidth": 0,
              "ticks": ""
             }
            },
            "marker": {
             "colorbar": {
              "outlinewidth": 0,
              "ticks": ""
             }
            },
            "type": "scatter3d"
           }
          ],
          "scattercarpet": [
           {
            "marker": {
             "colorbar": {
              "outlinewidth": 0,
              "ticks": ""
             }
            },
            "type": "scattercarpet"
           }
          ],
          "scattergeo": [
           {
            "marker": {
             "colorbar": {
              "outlinewidth": 0,
              "ticks": ""
             }
            },
            "type": "scattergeo"
           }
          ],
          "scattergl": [
           {
            "marker": {
             "colorbar": {
              "outlinewidth": 0,
              "ticks": ""
             }
            },
            "type": "scattergl"
           }
          ],
          "scattermapbox": [
           {
            "marker": {
             "colorbar": {
              "outlinewidth": 0,
              "ticks": ""
             }
            },
            "type": "scattermapbox"
           }
          ],
          "scatterpolar": [
           {
            "marker": {
             "colorbar": {
              "outlinewidth": 0,
              "ticks": ""
             }
            },
            "type": "scatterpolar"
           }
          ],
          "scatterpolargl": [
           {
            "marker": {
             "colorbar": {
              "outlinewidth": 0,
              "ticks": ""
             }
            },
            "type": "scatterpolargl"
           }
          ],
          "scatterternary": [
           {
            "marker": {
             "colorbar": {
              "outlinewidth": 0,
              "ticks": ""
             }
            },
            "type": "scatterternary"
           }
          ],
          "surface": [
           {
            "colorbar": {
             "outlinewidth": 0,
             "ticks": ""
            },
            "colorscale": [
             [
              0,
              "#0d0887"
             ],
             [
              0.1111111111111111,
              "#46039f"
             ],
             [
              0.2222222222222222,
              "#7201a8"
             ],
             [
              0.3333333333333333,
              "#9c179e"
             ],
             [
              0.4444444444444444,
              "#bd3786"
             ],
             [
              0.5555555555555556,
              "#d8576b"
             ],
             [
              0.6666666666666666,
              "#ed7953"
             ],
             [
              0.7777777777777778,
              "#fb9f3a"
             ],
             [
              0.8888888888888888,
              "#fdca26"
             ],
             [
              1,
              "#f0f921"
             ]
            ],
            "type": "surface"
           }
          ],
          "table": [
           {
            "cells": {
             "fill": {
              "color": "#EBF0F8"
             },
             "line": {
              "color": "white"
             }
            },
            "header": {
             "fill": {
              "color": "#C8D4E3"
             },
             "line": {
              "color": "white"
             }
            },
            "type": "table"
           }
          ]
         },
         "layout": {
          "annotationdefaults": {
           "arrowcolor": "#2a3f5f",
           "arrowhead": 0,
           "arrowwidth": 1
          },
          "coloraxis": {
           "colorbar": {
            "outlinewidth": 0,
            "ticks": ""
           }
          },
          "colorscale": {
           "diverging": [
            [
             0,
             "#8e0152"
            ],
            [
             0.1,
             "#c51b7d"
            ],
            [
             0.2,
             "#de77ae"
            ],
            [
             0.3,
             "#f1b6da"
            ],
            [
             0.4,
             "#fde0ef"
            ],
            [
             0.5,
             "#f7f7f7"
            ],
            [
             0.6,
             "#e6f5d0"
            ],
            [
             0.7,
             "#b8e186"
            ],
            [
             0.8,
             "#7fbc41"
            ],
            [
             0.9,
             "#4d9221"
            ],
            [
             1,
             "#276419"
            ]
           ],
           "sequential": [
            [
             0,
             "#0d0887"
            ],
            [
             0.1111111111111111,
             "#46039f"
            ],
            [
             0.2222222222222222,
             "#7201a8"
            ],
            [
             0.3333333333333333,
             "#9c179e"
            ],
            [
             0.4444444444444444,
             "#bd3786"
            ],
            [
             0.5555555555555556,
             "#d8576b"
            ],
            [
             0.6666666666666666,
             "#ed7953"
            ],
            [
             0.7777777777777778,
             "#fb9f3a"
            ],
            [
             0.8888888888888888,
             "#fdca26"
            ],
            [
             1,
             "#f0f921"
            ]
           ],
           "sequentialminus": [
            [
             0,
             "#0d0887"
            ],
            [
             0.1111111111111111,
             "#46039f"
            ],
            [
             0.2222222222222222,
             "#7201a8"
            ],
            [
             0.3333333333333333,
             "#9c179e"
            ],
            [
             0.4444444444444444,
             "#bd3786"
            ],
            [
             0.5555555555555556,
             "#d8576b"
            ],
            [
             0.6666666666666666,
             "#ed7953"
            ],
            [
             0.7777777777777778,
             "#fb9f3a"
            ],
            [
             0.8888888888888888,
             "#fdca26"
            ],
            [
             1,
             "#f0f921"
            ]
           ]
          },
          "colorway": [
           "#636efa",
           "#EF553B",
           "#00cc96",
           "#ab63fa",
           "#FFA15A",
           "#19d3f3",
           "#FF6692",
           "#B6E880",
           "#FF97FF",
           "#FECB52"
          ],
          "font": {
           "color": "#2a3f5f"
          },
          "geo": {
           "bgcolor": "white",
           "lakecolor": "white",
           "landcolor": "#E5ECF6",
           "showlakes": true,
           "showland": true,
           "subunitcolor": "white"
          },
          "hoverlabel": {
           "align": "left"
          },
          "hovermode": "closest",
          "mapbox": {
           "style": "light"
          },
          "paper_bgcolor": "white",
          "plot_bgcolor": "#E5ECF6",
          "polar": {
           "angularaxis": {
            "gridcolor": "white",
            "linecolor": "white",
            "ticks": ""
           },
           "bgcolor": "#E5ECF6",
           "radialaxis": {
            "gridcolor": "white",
            "linecolor": "white",
            "ticks": ""
           }
          },
          "scene": {
           "xaxis": {
            "backgroundcolor": "#E5ECF6",
            "gridcolor": "white",
            "gridwidth": 2,
            "linecolor": "white",
            "showbackground": true,
            "ticks": "",
            "zerolinecolor": "white"
           },
           "yaxis": {
            "backgroundcolor": "#E5ECF6",
            "gridcolor": "white",
            "gridwidth": 2,
            "linecolor": "white",
            "showbackground": true,
            "ticks": "",
            "zerolinecolor": "white"
           },
           "zaxis": {
            "backgroundcolor": "#E5ECF6",
            "gridcolor": "white",
            "gridwidth": 2,
            "linecolor": "white",
            "showbackground": true,
            "ticks": "",
            "zerolinecolor": "white"
           }
          },
          "shapedefaults": {
           "line": {
            "color": "#2a3f5f"
           }
          },
          "ternary": {
           "aaxis": {
            "gridcolor": "white",
            "linecolor": "white",
            "ticks": ""
           },
           "baxis": {
            "gridcolor": "white",
            "linecolor": "white",
            "ticks": ""
           },
           "bgcolor": "#E5ECF6",
           "caxis": {
            "gridcolor": "white",
            "linecolor": "white",
            "ticks": ""
           }
          },
          "title": {
           "x": 0.05
          },
          "xaxis": {
           "automargin": true,
           "gridcolor": "white",
           "linecolor": "white",
           "ticks": "",
           "title": {
            "standoff": 15
           },
           "zerolinecolor": "white",
           "zerolinewidth": 2
          },
          "yaxis": {
           "automargin": true,
           "gridcolor": "white",
           "linecolor": "white",
           "ticks": "",
           "title": {
            "standoff": 15
           },
           "zerolinecolor": "white",
           "zerolinewidth": 2
          }
         }
        },
        "xaxis": {
         "anchor": "y",
         "domain": [
          0,
          1
         ],
         "title": {
          "text": "State"
         }
        },
        "yaxis": {
         "anchor": "x",
         "domain": [
          0,
          1
         ],
         "title": {
          "text": "Confirmed"
         }
        }
       }
      },
      "text/html": [
       "<div>\n",
       "        \n",
       "        \n",
       "            <div id=\"0225665d-a2fd-4309-9ce6-94efa621c174\" class=\"plotly-graph-div\" style=\"height:525px; width:100%;\"></div>\n",
       "            <script type=\"text/javascript\">\n",
       "                require([\"plotly\"], function(Plotly) {\n",
       "                    window.PLOTLYENV=window.PLOTLYENV || {};\n",
       "                    \n",
       "                if (document.getElementById(\"0225665d-a2fd-4309-9ce6-94efa621c174\")) {\n",
       "                    Plotly.newPlot(\n",
       "                        '0225665d-a2fd-4309-9ce6-94efa621c174',\n",
       "                        [{\"alignmentgroup\": \"True\", \"hovertemplate\": \"State=%{x}<br>Confirmed=%{y}<extra></extra>\", \"legendgroup\": \"\", \"marker\": {\"color\": \"#636efa\"}, \"name\": \"\", \"offsetgroup\": \"\", \"orientation\": \"v\", \"showlegend\": false, \"textposition\": \"auto\", \"type\": \"bar\", \"x\": [\"Total\", \"Maharashtra\", \"Gujarat\", \"Tamil Nadu\", \"Delhi\", \"Rajasthan\", \"Madhya Pradesh\", \"Uttar Pradesh\", \"Andhra Pradesh\", \"Punjab\", \"West Bengal\", \"Telangana\", \"Jammu and Kashmir\", \"Karnataka\", \"Haryana\", \"Bihar\", \"Kerala\", \"Odisha\", \"Chandigarh\", \"Jharkhand\", \"Tripura\", \"Uttarakhand\", \"Chhattisgarh\", \"Assam\", \"Himachal Pradesh\", \"Ladakh\", \"Andaman and Nicobar Islands\", \"Meghalaya\", \"Puducherry\", \"Goa\", \"Manipur\", \"Mizoram\", \"Arunachal Pradesh\", \"Dadra and Nagar Haveli and Daman and Diu\", \"Nagaland\", \"Daman and Diu\", \"Lakshadweep\", \"Sikkim\"], \"xaxis\": \"x\", \"y\": [59713, 19063, 7403, 6009, 6318, 3579, 3341, 3214, 1887, 1731, 1678, 1132, 823, 753, 647, 579, 504, 287, 146, 155, 118, 63, 59, 60, 50, 42, 33, 12, 15, 7, 2, 1, 1, 1, 0, 0, 0, 0], \"yaxis\": \"y\"}],\n",
       "                        {\"barmode\": \"relative\", \"legend\": {\"tracegroupgap\": 0}, \"margin\": {\"t\": 60}, \"template\": {\"data\": {\"bar\": [{\"error_x\": {\"color\": \"#2a3f5f\"}, \"error_y\": {\"color\": \"#2a3f5f\"}, \"marker\": {\"line\": {\"color\": \"#E5ECF6\", \"width\": 0.5}}, \"type\": \"bar\"}], \"barpolar\": [{\"marker\": {\"line\": {\"color\": \"#E5ECF6\", \"width\": 0.5}}, \"type\": \"barpolar\"}], \"carpet\": [{\"aaxis\": {\"endlinecolor\": \"#2a3f5f\", \"gridcolor\": \"white\", \"linecolor\": \"white\", \"minorgridcolor\": \"white\", \"startlinecolor\": \"#2a3f5f\"}, \"baxis\": {\"endlinecolor\": \"#2a3f5f\", \"gridcolor\": \"white\", \"linecolor\": \"white\", \"minorgridcolor\": \"white\", \"startlinecolor\": \"#2a3f5f\"}, \"type\": \"carpet\"}], \"choropleth\": [{\"colorbar\": {\"outlinewidth\": 0, \"ticks\": \"\"}, \"type\": \"choropleth\"}], \"contour\": [{\"colorbar\": {\"outlinewidth\": 0, \"ticks\": \"\"}, \"colorscale\": [[0.0, \"#0d0887\"], [0.1111111111111111, \"#46039f\"], [0.2222222222222222, \"#7201a8\"], [0.3333333333333333, \"#9c179e\"], [0.4444444444444444, \"#bd3786\"], [0.5555555555555556, \"#d8576b\"], [0.6666666666666666, \"#ed7953\"], [0.7777777777777778, \"#fb9f3a\"], [0.8888888888888888, \"#fdca26\"], [1.0, \"#f0f921\"]], \"type\": \"contour\"}], \"contourcarpet\": [{\"colorbar\": {\"outlinewidth\": 0, \"ticks\": \"\"}, \"type\": \"contourcarpet\"}], \"heatmap\": [{\"colorbar\": {\"outlinewidth\": 0, \"ticks\": \"\"}, \"colorscale\": [[0.0, \"#0d0887\"], [0.1111111111111111, \"#46039f\"], [0.2222222222222222, \"#7201a8\"], [0.3333333333333333, \"#9c179e\"], [0.4444444444444444, \"#bd3786\"], [0.5555555555555556, \"#d8576b\"], [0.6666666666666666, \"#ed7953\"], [0.7777777777777778, \"#fb9f3a\"], [0.8888888888888888, \"#fdca26\"], [1.0, \"#f0f921\"]], \"type\": \"heatmap\"}], \"heatmapgl\": [{\"colorbar\": {\"outlinewidth\": 0, \"ticks\": \"\"}, \"colorscale\": [[0.0, \"#0d0887\"], [0.1111111111111111, \"#46039f\"], [0.2222222222222222, \"#7201a8\"], [0.3333333333333333, \"#9c179e\"], [0.4444444444444444, \"#bd3786\"], [0.5555555555555556, \"#d8576b\"], [0.6666666666666666, \"#ed7953\"], [0.7777777777777778, \"#fb9f3a\"], [0.8888888888888888, \"#fdca26\"], [1.0, \"#f0f921\"]], \"type\": \"heatmapgl\"}], \"histogram\": [{\"marker\": {\"colorbar\": {\"outlinewidth\": 0, \"ticks\": \"\"}}, \"type\": \"histogram\"}], \"histogram2d\": [{\"colorbar\": {\"outlinewidth\": 0, \"ticks\": \"\"}, \"colorscale\": [[0.0, \"#0d0887\"], [0.1111111111111111, \"#46039f\"], [0.2222222222222222, \"#7201a8\"], [0.3333333333333333, \"#9c179e\"], [0.4444444444444444, \"#bd3786\"], [0.5555555555555556, \"#d8576b\"], [0.6666666666666666, \"#ed7953\"], [0.7777777777777778, \"#fb9f3a\"], [0.8888888888888888, \"#fdca26\"], [1.0, \"#f0f921\"]], \"type\": \"histogram2d\"}], \"histogram2dcontour\": [{\"colorbar\": {\"outlinewidth\": 0, \"ticks\": \"\"}, \"colorscale\": [[0.0, \"#0d0887\"], [0.1111111111111111, \"#46039f\"], [0.2222222222222222, \"#7201a8\"], [0.3333333333333333, \"#9c179e\"], [0.4444444444444444, \"#bd3786\"], [0.5555555555555556, \"#d8576b\"], [0.6666666666666666, \"#ed7953\"], [0.7777777777777778, \"#fb9f3a\"], [0.8888888888888888, \"#fdca26\"], [1.0, \"#f0f921\"]], \"type\": \"histogram2dcontour\"}], \"mesh3d\": [{\"colorbar\": {\"outlinewidth\": 0, \"ticks\": \"\"}, \"type\": \"mesh3d\"}], \"parcoords\": [{\"line\": {\"colorbar\": {\"outlinewidth\": 0, \"ticks\": \"\"}}, \"type\": \"parcoords\"}], \"pie\": [{\"automargin\": true, \"type\": \"pie\"}], \"scatter\": [{\"marker\": {\"colorbar\": {\"outlinewidth\": 0, \"ticks\": \"\"}}, \"type\": \"scatter\"}], \"scatter3d\": [{\"line\": {\"colorbar\": {\"outlinewidth\": 0, \"ticks\": \"\"}}, \"marker\": {\"colorbar\": {\"outlinewidth\": 0, \"ticks\": \"\"}}, \"type\": \"scatter3d\"}], \"scattercarpet\": [{\"marker\": {\"colorbar\": {\"outlinewidth\": 0, \"ticks\": \"\"}}, \"type\": \"scattercarpet\"}], \"scattergeo\": [{\"marker\": {\"colorbar\": {\"outlinewidth\": 0, \"ticks\": \"\"}}, \"type\": \"scattergeo\"}], \"scattergl\": [{\"marker\": {\"colorbar\": {\"outlinewidth\": 0, \"ticks\": \"\"}}, \"type\": \"scattergl\"}], \"scattermapbox\": [{\"marker\": {\"colorbar\": {\"outlinewidth\": 0, \"ticks\": \"\"}}, \"type\": \"scattermapbox\"}], \"scatterpolar\": [{\"marker\": {\"colorbar\": {\"outlinewidth\": 0, \"ticks\": \"\"}}, \"type\": \"scatterpolar\"}], \"scatterpolargl\": [{\"marker\": {\"colorbar\": {\"outlinewidth\": 0, \"ticks\": \"\"}}, \"type\": \"scatterpolargl\"}], \"scatterternary\": [{\"marker\": {\"colorbar\": {\"outlinewidth\": 0, \"ticks\": \"\"}}, \"type\": \"scatterternary\"}], \"surface\": [{\"colorbar\": {\"outlinewidth\": 0, \"ticks\": \"\"}, \"colorscale\": [[0.0, \"#0d0887\"], [0.1111111111111111, \"#46039f\"], [0.2222222222222222, \"#7201a8\"], [0.3333333333333333, \"#9c179e\"], [0.4444444444444444, \"#bd3786\"], [0.5555555555555556, \"#d8576b\"], [0.6666666666666666, \"#ed7953\"], [0.7777777777777778, \"#fb9f3a\"], [0.8888888888888888, \"#fdca26\"], [1.0, \"#f0f921\"]], \"type\": \"surface\"}], \"table\": [{\"cells\": {\"fill\": {\"color\": \"#EBF0F8\"}, \"line\": {\"color\": \"white\"}}, \"header\": {\"fill\": {\"color\": \"#C8D4E3\"}, \"line\": {\"color\": \"white\"}}, \"type\": \"table\"}]}, \"layout\": {\"annotationdefaults\": {\"arrowcolor\": \"#2a3f5f\", \"arrowhead\": 0, \"arrowwidth\": 1}, \"coloraxis\": {\"colorbar\": {\"outlinewidth\": 0, \"ticks\": \"\"}}, \"colorscale\": {\"diverging\": [[0, \"#8e0152\"], [0.1, \"#c51b7d\"], [0.2, \"#de77ae\"], [0.3, \"#f1b6da\"], [0.4, \"#fde0ef\"], [0.5, \"#f7f7f7\"], [0.6, \"#e6f5d0\"], [0.7, \"#b8e186\"], [0.8, \"#7fbc41\"], [0.9, \"#4d9221\"], [1, \"#276419\"]], \"sequential\": [[0.0, \"#0d0887\"], [0.1111111111111111, \"#46039f\"], [0.2222222222222222, \"#7201a8\"], [0.3333333333333333, \"#9c179e\"], [0.4444444444444444, \"#bd3786\"], [0.5555555555555556, \"#d8576b\"], [0.6666666666666666, \"#ed7953\"], [0.7777777777777778, \"#fb9f3a\"], [0.8888888888888888, \"#fdca26\"], [1.0, \"#f0f921\"]], \"sequentialminus\": [[0.0, \"#0d0887\"], [0.1111111111111111, \"#46039f\"], [0.2222222222222222, \"#7201a8\"], [0.3333333333333333, \"#9c179e\"], [0.4444444444444444, \"#bd3786\"], [0.5555555555555556, \"#d8576b\"], [0.6666666666666666, \"#ed7953\"], [0.7777777777777778, \"#fb9f3a\"], [0.8888888888888888, \"#fdca26\"], [1.0, \"#f0f921\"]]}, \"colorway\": [\"#636efa\", \"#EF553B\", \"#00cc96\", \"#ab63fa\", \"#FFA15A\", \"#19d3f3\", \"#FF6692\", \"#B6E880\", \"#FF97FF\", \"#FECB52\"], \"font\": {\"color\": \"#2a3f5f\"}, \"geo\": {\"bgcolor\": \"white\", \"lakecolor\": \"white\", \"landcolor\": \"#E5ECF6\", \"showlakes\": true, \"showland\": true, \"subunitcolor\": \"white\"}, \"hoverlabel\": {\"align\": \"left\"}, \"hovermode\": \"closest\", \"mapbox\": {\"style\": \"light\"}, \"paper_bgcolor\": \"white\", \"plot_bgcolor\": \"#E5ECF6\", \"polar\": {\"angularaxis\": {\"gridcolor\": \"white\", \"linecolor\": \"white\", \"ticks\": \"\"}, \"bgcolor\": \"#E5ECF6\", \"radialaxis\": {\"gridcolor\": \"white\", \"linecolor\": \"white\", \"ticks\": \"\"}}, \"scene\": {\"xaxis\": {\"backgroundcolor\": \"#E5ECF6\", \"gridcolor\": \"white\", \"gridwidth\": 2, \"linecolor\": \"white\", \"showbackground\": true, \"ticks\": \"\", \"zerolinecolor\": \"white\"}, \"yaxis\": {\"backgroundcolor\": \"#E5ECF6\", \"gridcolor\": \"white\", \"gridwidth\": 2, \"linecolor\": \"white\", \"showbackground\": true, \"ticks\": \"\", \"zerolinecolor\": \"white\"}, \"zaxis\": {\"backgroundcolor\": \"#E5ECF6\", \"gridcolor\": \"white\", \"gridwidth\": 2, \"linecolor\": \"white\", \"showbackground\": true, \"ticks\": \"\", \"zerolinecolor\": \"white\"}}, \"shapedefaults\": {\"line\": {\"color\": \"#2a3f5f\"}}, \"ternary\": {\"aaxis\": {\"gridcolor\": \"white\", \"linecolor\": \"white\", \"ticks\": \"\"}, \"baxis\": {\"gridcolor\": \"white\", \"linecolor\": \"white\", \"ticks\": \"\"}, \"bgcolor\": \"#E5ECF6\", \"caxis\": {\"gridcolor\": \"white\", \"linecolor\": \"white\", \"ticks\": \"\"}}, \"title\": {\"x\": 0.05}, \"xaxis\": {\"automargin\": true, \"gridcolor\": \"white\", \"linecolor\": \"white\", \"ticks\": \"\", \"title\": {\"standoff\": 15}, \"zerolinecolor\": \"white\", \"zerolinewidth\": 2}, \"yaxis\": {\"automargin\": true, \"gridcolor\": \"white\", \"linecolor\": \"white\", \"ticks\": \"\", \"title\": {\"standoff\": 15}, \"zerolinecolor\": \"white\", \"zerolinewidth\": 2}}}, \"xaxis\": {\"anchor\": \"y\", \"domain\": [0.0, 1.0], \"title\": {\"text\": \"State\"}}, \"yaxis\": {\"anchor\": \"x\", \"domain\": [0.0, 1.0], \"title\": {\"text\": \"Confirmed\"}}},\n",
       "                        {\"responsive\": true}\n",
       "                    ).then(function(){\n",
       "                            \n",
       "var gd = document.getElementById('0225665d-a2fd-4309-9ce6-94efa621c174');\n",
       "var x = new MutationObserver(function (mutations, observer) {{\n",
       "        var display = window.getComputedStyle(gd).display;\n",
       "        if (!display || display === 'none') {{\n",
       "            console.log([gd, 'removed!']);\n",
       "            Plotly.purge(gd);\n",
       "            observer.disconnect();\n",
       "        }}\n",
       "}});\n",
       "\n",
       "// Listen for the removal of the full notebook cells\n",
       "var notebookContainer = gd.closest('#notebook-container');\n",
       "if (notebookContainer) {{\n",
       "    x.observe(notebookContainer, {childList: true});\n",
       "}}\n",
       "\n",
       "// Listen for the clearing of the current output cell\n",
       "var outputEl = gd.closest('.output');\n",
       "if (outputEl) {{\n",
       "    x.observe(outputEl, {childList: true});\n",
       "}}\n",
       "\n",
       "                        })\n",
       "                };\n",
       "                });\n",
       "            </script>\n",
       "        </div>"
      ]
     },
     "metadata": {},
     "output_type": "display_data"
    }
   ],
   "source": [
    "px.bar(df,x=\"State\",y=\"Confirmed\")"
   ]
  },
  {
   "cell_type": "markdown",
   "metadata": {},
   "source": [
    "---"
   ]
  },
  {
   "cell_type": "markdown",
   "metadata": {},
   "source": [
    "# Scatter Plot"
   ]
  },
  {
   "cell_type": "markdown",
   "metadata": {},
   "source": [
    "## Hover over the Graph Markers to see Live Data"
   ]
  },
  {
   "cell_type": "markdown",
   "metadata": {},
   "source": [
    "#  Confirmed Cases as per State"
   ]
  },
  {
   "cell_type": "code",
   "execution_count": 17,
   "metadata": {},
   "outputs": [
    {
     "data": {
      "application/vnd.plotly.v1+json": {
       "config": {
        "linkText": "Export to plot.ly",
        "plotlyServerURL": "https://plot.ly",
        "showLink": true
       },
       "data": [
        {
         "line": {
          "color": "rgba(55, 128, 191, 1.0)",
          "dash": "solid",
          "shape": "linear",
          "width": 1.3
         },
         "marker": {
          "size": 0,
          "symbol": "circle"
         },
         "mode": "markers+lines",
         "name": "Confirmed",
         "text": "",
         "type": "scatter",
         "x": [
          "Total",
          "Maharashtra",
          "Gujarat",
          "Tamil Nadu",
          "Delhi",
          "Rajasthan",
          "Madhya Pradesh",
          "Uttar Pradesh",
          "Andhra Pradesh",
          "Punjab",
          "West Bengal",
          "Telangana",
          "Jammu and Kashmir",
          "Karnataka",
          "Haryana",
          "Bihar",
          "Kerala",
          "Odisha",
          "Chandigarh",
          "Jharkhand",
          "Tripura",
          "Uttarakhand",
          "Chhattisgarh",
          "Assam",
          "Himachal Pradesh",
          "Ladakh",
          "Andaman and Nicobar Islands",
          "Meghalaya",
          "Puducherry",
          "Goa",
          "Manipur",
          "Mizoram",
          "Arunachal Pradesh",
          "Dadra and Nagar Haveli and Daman and Diu",
          "Nagaland",
          "Daman and Diu",
          "Lakshadweep",
          "Sikkim"
         ],
         "y": [
          59713,
          19063,
          7403,
          6009,
          6318,
          3579,
          3341,
          3214,
          1887,
          1731,
          1678,
          1132,
          823,
          753,
          647,
          579,
          504,
          287,
          146,
          155,
          118,
          63,
          59,
          60,
          50,
          42,
          33,
          12,
          15,
          7,
          2,
          1,
          1,
          1,
          0,
          0,
          0,
          0
         ]
        }
       ],
       "layout": {
        "legend": {
         "bgcolor": "#F5F6F9",
         "font": {
          "color": "#4D5663"
         }
        },
        "paper_bgcolor": "#F5F6F9",
        "plot_bgcolor": "#F5F6F9",
        "template": {
         "data": {
          "bar": [
           {
            "error_x": {
             "color": "#2a3f5f"
            },
            "error_y": {
             "color": "#2a3f5f"
            },
            "marker": {
             "line": {
              "color": "#E5ECF6",
              "width": 0.5
             }
            },
            "type": "bar"
           }
          ],
          "barpolar": [
           {
            "marker": {
             "line": {
              "color": "#E5ECF6",
              "width": 0.5
             }
            },
            "type": "barpolar"
           }
          ],
          "carpet": [
           {
            "aaxis": {
             "endlinecolor": "#2a3f5f",
             "gridcolor": "white",
             "linecolor": "white",
             "minorgridcolor": "white",
             "startlinecolor": "#2a3f5f"
            },
            "baxis": {
             "endlinecolor": "#2a3f5f",
             "gridcolor": "white",
             "linecolor": "white",
             "minorgridcolor": "white",
             "startlinecolor": "#2a3f5f"
            },
            "type": "carpet"
           }
          ],
          "choropleth": [
           {
            "colorbar": {
             "outlinewidth": 0,
             "ticks": ""
            },
            "type": "choropleth"
           }
          ],
          "contour": [
           {
            "colorbar": {
             "outlinewidth": 0,
             "ticks": ""
            },
            "colorscale": [
             [
              0,
              "#0d0887"
             ],
             [
              0.1111111111111111,
              "#46039f"
             ],
             [
              0.2222222222222222,
              "#7201a8"
             ],
             [
              0.3333333333333333,
              "#9c179e"
             ],
             [
              0.4444444444444444,
              "#bd3786"
             ],
             [
              0.5555555555555556,
              "#d8576b"
             ],
             [
              0.6666666666666666,
              "#ed7953"
             ],
             [
              0.7777777777777778,
              "#fb9f3a"
             ],
             [
              0.8888888888888888,
              "#fdca26"
             ],
             [
              1,
              "#f0f921"
             ]
            ],
            "type": "contour"
           }
          ],
          "contourcarpet": [
           {
            "colorbar": {
             "outlinewidth": 0,
             "ticks": ""
            },
            "type": "contourcarpet"
           }
          ],
          "heatmap": [
           {
            "colorbar": {
             "outlinewidth": 0,
             "ticks": ""
            },
            "colorscale": [
             [
              0,
              "#0d0887"
             ],
             [
              0.1111111111111111,
              "#46039f"
             ],
             [
              0.2222222222222222,
              "#7201a8"
             ],
             [
              0.3333333333333333,
              "#9c179e"
             ],
             [
              0.4444444444444444,
              "#bd3786"
             ],
             [
              0.5555555555555556,
              "#d8576b"
             ],
             [
              0.6666666666666666,
              "#ed7953"
             ],
             [
              0.7777777777777778,
              "#fb9f3a"
             ],
             [
              0.8888888888888888,
              "#fdca26"
             ],
             [
              1,
              "#f0f921"
             ]
            ],
            "type": "heatmap"
           }
          ],
          "heatmapgl": [
           {
            "colorbar": {
             "outlinewidth": 0,
             "ticks": ""
            },
            "colorscale": [
             [
              0,
              "#0d0887"
             ],
             [
              0.1111111111111111,
              "#46039f"
             ],
             [
              0.2222222222222222,
              "#7201a8"
             ],
             [
              0.3333333333333333,
              "#9c179e"
             ],
             [
              0.4444444444444444,
              "#bd3786"
             ],
             [
              0.5555555555555556,
              "#d8576b"
             ],
             [
              0.6666666666666666,
              "#ed7953"
             ],
             [
              0.7777777777777778,
              "#fb9f3a"
             ],
             [
              0.8888888888888888,
              "#fdca26"
             ],
             [
              1,
              "#f0f921"
             ]
            ],
            "type": "heatmapgl"
           }
          ],
          "histogram": [
           {
            "marker": {
             "colorbar": {
              "outlinewidth": 0,
              "ticks": ""
             }
            },
            "type": "histogram"
           }
          ],
          "histogram2d": [
           {
            "colorbar": {
             "outlinewidth": 0,
             "ticks": ""
            },
            "colorscale": [
             [
              0,
              "#0d0887"
             ],
             [
              0.1111111111111111,
              "#46039f"
             ],
             [
              0.2222222222222222,
              "#7201a8"
             ],
             [
              0.3333333333333333,
              "#9c179e"
             ],
             [
              0.4444444444444444,
              "#bd3786"
             ],
             [
              0.5555555555555556,
              "#d8576b"
             ],
             [
              0.6666666666666666,
              "#ed7953"
             ],
             [
              0.7777777777777778,
              "#fb9f3a"
             ],
             [
              0.8888888888888888,
              "#fdca26"
             ],
             [
              1,
              "#f0f921"
             ]
            ],
            "type": "histogram2d"
           }
          ],
          "histogram2dcontour": [
           {
            "colorbar": {
             "outlinewidth": 0,
             "ticks": ""
            },
            "colorscale": [
             [
              0,
              "#0d0887"
             ],
             [
              0.1111111111111111,
              "#46039f"
             ],
             [
              0.2222222222222222,
              "#7201a8"
             ],
             [
              0.3333333333333333,
              "#9c179e"
             ],
             [
              0.4444444444444444,
              "#bd3786"
             ],
             [
              0.5555555555555556,
              "#d8576b"
             ],
             [
              0.6666666666666666,
              "#ed7953"
             ],
             [
              0.7777777777777778,
              "#fb9f3a"
             ],
             [
              0.8888888888888888,
              "#fdca26"
             ],
             [
              1,
              "#f0f921"
             ]
            ],
            "type": "histogram2dcontour"
           }
          ],
          "mesh3d": [
           {
            "colorbar": {
             "outlinewidth": 0,
             "ticks": ""
            },
            "type": "mesh3d"
           }
          ],
          "parcoords": [
           {
            "line": {
             "colorbar": {
              "outlinewidth": 0,
              "ticks": ""
             }
            },
            "type": "parcoords"
           }
          ],
          "pie": [
           {
            "automargin": true,
            "type": "pie"
           }
          ],
          "scatter": [
           {
            "marker": {
             "colorbar": {
              "outlinewidth": 0,
              "ticks": ""
             }
            },
            "type": "scatter"
           }
          ],
          "scatter3d": [
           {
            "line": {
             "colorbar": {
              "outlinewidth": 0,
              "ticks": ""
             }
            },
            "marker": {
             "colorbar": {
              "outlinewidth": 0,
              "ticks": ""
             }
            },
            "type": "scatter3d"
           }
          ],
          "scattercarpet": [
           {
            "marker": {
             "colorbar": {
              "outlinewidth": 0,
              "ticks": ""
             }
            },
            "type": "scattercarpet"
           }
          ],
          "scattergeo": [
           {
            "marker": {
             "colorbar": {
              "outlinewidth": 0,
              "ticks": ""
             }
            },
            "type": "scattergeo"
           }
          ],
          "scattergl": [
           {
            "marker": {
             "colorbar": {
              "outlinewidth": 0,
              "ticks": ""
             }
            },
            "type": "scattergl"
           }
          ],
          "scattermapbox": [
           {
            "marker": {
             "colorbar": {
              "outlinewidth": 0,
              "ticks": ""
             }
            },
            "type": "scattermapbox"
           }
          ],
          "scatterpolar": [
           {
            "marker": {
             "colorbar": {
              "outlinewidth": 0,
              "ticks": ""
             }
            },
            "type": "scatterpolar"
           }
          ],
          "scatterpolargl": [
           {
            "marker": {
             "colorbar": {
              "outlinewidth": 0,
              "ticks": ""
             }
            },
            "type": "scatterpolargl"
           }
          ],
          "scatterternary": [
           {
            "marker": {
             "colorbar": {
              "outlinewidth": 0,
              "ticks": ""
             }
            },
            "type": "scatterternary"
           }
          ],
          "surface": [
           {
            "colorbar": {
             "outlinewidth": 0,
             "ticks": ""
            },
            "colorscale": [
             [
              0,
              "#0d0887"
             ],
             [
              0.1111111111111111,
              "#46039f"
             ],
             [
              0.2222222222222222,
              "#7201a8"
             ],
             [
              0.3333333333333333,
              "#9c179e"
             ],
             [
              0.4444444444444444,
              "#bd3786"
             ],
             [
              0.5555555555555556,
              "#d8576b"
             ],
             [
              0.6666666666666666,
              "#ed7953"
             ],
             [
              0.7777777777777778,
              "#fb9f3a"
             ],
             [
              0.8888888888888888,
              "#fdca26"
             ],
             [
              1,
              "#f0f921"
             ]
            ],
            "type": "surface"
           }
          ],
          "table": [
           {
            "cells": {
             "fill": {
              "color": "#EBF0F8"
             },
             "line": {
              "color": "white"
             }
            },
            "header": {
             "fill": {
              "color": "#C8D4E3"
             },
             "line": {
              "color": "white"
             }
            },
            "type": "table"
           }
          ]
         },
         "layout": {
          "annotationdefaults": {
           "arrowcolor": "#2a3f5f",
           "arrowhead": 0,
           "arrowwidth": 1
          },
          "coloraxis": {
           "colorbar": {
            "outlinewidth": 0,
            "ticks": ""
           }
          },
          "colorscale": {
           "diverging": [
            [
             0,
             "#8e0152"
            ],
            [
             0.1,
             "#c51b7d"
            ],
            [
             0.2,
             "#de77ae"
            ],
            [
             0.3,
             "#f1b6da"
            ],
            [
             0.4,
             "#fde0ef"
            ],
            [
             0.5,
             "#f7f7f7"
            ],
            [
             0.6,
             "#e6f5d0"
            ],
            [
             0.7,
             "#b8e186"
            ],
            [
             0.8,
             "#7fbc41"
            ],
            [
             0.9,
             "#4d9221"
            ],
            [
             1,
             "#276419"
            ]
           ],
           "sequential": [
            [
             0,
             "#0d0887"
            ],
            [
             0.1111111111111111,
             "#46039f"
            ],
            [
             0.2222222222222222,
             "#7201a8"
            ],
            [
             0.3333333333333333,
             "#9c179e"
            ],
            [
             0.4444444444444444,
             "#bd3786"
            ],
            [
             0.5555555555555556,
             "#d8576b"
            ],
            [
             0.6666666666666666,
             "#ed7953"
            ],
            [
             0.7777777777777778,
             "#fb9f3a"
            ],
            [
             0.8888888888888888,
             "#fdca26"
            ],
            [
             1,
             "#f0f921"
            ]
           ],
           "sequentialminus": [
            [
             0,
             "#0d0887"
            ],
            [
             0.1111111111111111,
             "#46039f"
            ],
            [
             0.2222222222222222,
             "#7201a8"
            ],
            [
             0.3333333333333333,
             "#9c179e"
            ],
            [
             0.4444444444444444,
             "#bd3786"
            ],
            [
             0.5555555555555556,
             "#d8576b"
            ],
            [
             0.6666666666666666,
             "#ed7953"
            ],
            [
             0.7777777777777778,
             "#fb9f3a"
            ],
            [
             0.8888888888888888,
             "#fdca26"
            ],
            [
             1,
             "#f0f921"
            ]
           ]
          },
          "colorway": [
           "#636efa",
           "#EF553B",
           "#00cc96",
           "#ab63fa",
           "#FFA15A",
           "#19d3f3",
           "#FF6692",
           "#B6E880",
           "#FF97FF",
           "#FECB52"
          ],
          "font": {
           "color": "#2a3f5f"
          },
          "geo": {
           "bgcolor": "white",
           "lakecolor": "white",
           "landcolor": "#E5ECF6",
           "showlakes": true,
           "showland": true,
           "subunitcolor": "white"
          },
          "hoverlabel": {
           "align": "left"
          },
          "hovermode": "closest",
          "mapbox": {
           "style": "light"
          },
          "paper_bgcolor": "white",
          "plot_bgcolor": "#E5ECF6",
          "polar": {
           "angularaxis": {
            "gridcolor": "white",
            "linecolor": "white",
            "ticks": ""
           },
           "bgcolor": "#E5ECF6",
           "radialaxis": {
            "gridcolor": "white",
            "linecolor": "white",
            "ticks": ""
           }
          },
          "scene": {
           "xaxis": {
            "backgroundcolor": "#E5ECF6",
            "gridcolor": "white",
            "gridwidth": 2,
            "linecolor": "white",
            "showbackground": true,
            "ticks": "",
            "zerolinecolor": "white"
           },
           "yaxis": {
            "backgroundcolor": "#E5ECF6",
            "gridcolor": "white",
            "gridwidth": 2,
            "linecolor": "white",
            "showbackground": true,
            "ticks": "",
            "zerolinecolor": "white"
           },
           "zaxis": {
            "backgroundcolor": "#E5ECF6",
            "gridcolor": "white",
            "gridwidth": 2,
            "linecolor": "white",
            "showbackground": true,
            "ticks": "",
            "zerolinecolor": "white"
           }
          },
          "shapedefaults": {
           "line": {
            "color": "#2a3f5f"
           }
          },
          "ternary": {
           "aaxis": {
            "gridcolor": "white",
            "linecolor": "white",
            "ticks": ""
           },
           "baxis": {
            "gridcolor": "white",
            "linecolor": "white",
            "ticks": ""
           },
           "bgcolor": "#E5ECF6",
           "caxis": {
            "gridcolor": "white",
            "linecolor": "white",
            "ticks": ""
           }
          },
          "title": {
           "x": 0.05
          },
          "xaxis": {
           "automargin": true,
           "gridcolor": "white",
           "linecolor": "white",
           "ticks": "",
           "title": {
            "standoff": 15
           },
           "zerolinecolor": "white",
           "zerolinewidth": 2
          },
          "yaxis": {
           "automargin": true,
           "gridcolor": "white",
           "linecolor": "white",
           "ticks": "",
           "title": {
            "standoff": 15
           },
           "zerolinecolor": "white",
           "zerolinewidth": 2
          }
         }
        },
        "title": {
         "font": {
          "color": "#4D5663"
         },
         "text": "State Wise Cases"
        },
        "xaxis": {
         "gridcolor": "#E1E5ED",
         "showgrid": true,
         "tickfont": {
          "color": "#4D5663"
         },
         "title": {
          "font": {
           "color": "#4D5663"
          },
          "text": "State"
         },
         "zerolinecolor": "#E1E5ED"
        },
        "yaxis": {
         "gridcolor": "#E1E5ED",
         "showgrid": true,
         "tickfont": {
          "color": "#4D5663"
         },
         "title": {
          "font": {
           "color": "#4D5663"
          },
          "text": "Confirmed"
         },
         "zerolinecolor": "#E1E5ED"
        }
       }
      },
      "text/html": [
       "<div>\n",
       "        \n",
       "        \n",
       "            <div id=\"7f9611c9-c8e3-48bc-b4b3-90d090ca45eb\" class=\"plotly-graph-div\" style=\"height:525px; width:100%;\"></div>\n",
       "            <script type=\"text/javascript\">\n",
       "                require([\"plotly\"], function(Plotly) {\n",
       "                    window.PLOTLYENV=window.PLOTLYENV || {};\n",
       "                    window.PLOTLYENV.BASE_URL='https://plot.ly';\n",
       "                    \n",
       "                if (document.getElementById(\"7f9611c9-c8e3-48bc-b4b3-90d090ca45eb\")) {\n",
       "                    Plotly.newPlot(\n",
       "                        '7f9611c9-c8e3-48bc-b4b3-90d090ca45eb',\n",
       "                        [{\"line\": {\"color\": \"rgba(55, 128, 191, 1.0)\", \"dash\": \"solid\", \"shape\": \"linear\", \"width\": 1.3}, \"marker\": {\"size\": 0, \"symbol\": \"circle\"}, \"mode\": \"markers+lines\", \"name\": \"Confirmed\", \"text\": \"\", \"type\": \"scatter\", \"x\": [\"Total\", \"Maharashtra\", \"Gujarat\", \"Tamil Nadu\", \"Delhi\", \"Rajasthan\", \"Madhya Pradesh\", \"Uttar Pradesh\", \"Andhra Pradesh\", \"Punjab\", \"West Bengal\", \"Telangana\", \"Jammu and Kashmir\", \"Karnataka\", \"Haryana\", \"Bihar\", \"Kerala\", \"Odisha\", \"Chandigarh\", \"Jharkhand\", \"Tripura\", \"Uttarakhand\", \"Chhattisgarh\", \"Assam\", \"Himachal Pradesh\", \"Ladakh\", \"Andaman and Nicobar Islands\", \"Meghalaya\", \"Puducherry\", \"Goa\", \"Manipur\", \"Mizoram\", \"Arunachal Pradesh\", \"Dadra and Nagar Haveli and Daman and Diu\", \"Nagaland\", \"Daman and Diu\", \"Lakshadweep\", \"Sikkim\"], \"y\": [59713, 19063, 7403, 6009, 6318, 3579, 3341, 3214, 1887, 1731, 1678, 1132, 823, 753, 647, 579, 504, 287, 146, 155, 118, 63, 59, 60, 50, 42, 33, 12, 15, 7, 2, 1, 1, 1, 0, 0, 0, 0]}],\n",
       "                        {\"legend\": {\"bgcolor\": \"#F5F6F9\", \"font\": {\"color\": \"#4D5663\"}}, \"paper_bgcolor\": \"#F5F6F9\", \"plot_bgcolor\": \"#F5F6F9\", \"template\": {\"data\": {\"bar\": [{\"error_x\": {\"color\": \"#2a3f5f\"}, \"error_y\": {\"color\": \"#2a3f5f\"}, \"marker\": {\"line\": {\"color\": \"#E5ECF6\", \"width\": 0.5}}, \"type\": \"bar\"}], \"barpolar\": [{\"marker\": {\"line\": {\"color\": \"#E5ECF6\", \"width\": 0.5}}, \"type\": \"barpolar\"}], \"carpet\": [{\"aaxis\": {\"endlinecolor\": \"#2a3f5f\", \"gridcolor\": \"white\", \"linecolor\": \"white\", \"minorgridcolor\": \"white\", \"startlinecolor\": \"#2a3f5f\"}, \"baxis\": {\"endlinecolor\": \"#2a3f5f\", \"gridcolor\": \"white\", \"linecolor\": \"white\", \"minorgridcolor\": \"white\", \"startlinecolor\": \"#2a3f5f\"}, \"type\": \"carpet\"}], \"choropleth\": [{\"colorbar\": {\"outlinewidth\": 0, \"ticks\": \"\"}, \"type\": \"choropleth\"}], \"contour\": [{\"colorbar\": {\"outlinewidth\": 0, \"ticks\": \"\"}, \"colorscale\": [[0.0, \"#0d0887\"], [0.1111111111111111, \"#46039f\"], [0.2222222222222222, \"#7201a8\"], [0.3333333333333333, \"#9c179e\"], [0.4444444444444444, \"#bd3786\"], [0.5555555555555556, \"#d8576b\"], [0.6666666666666666, \"#ed7953\"], [0.7777777777777778, \"#fb9f3a\"], [0.8888888888888888, \"#fdca26\"], [1.0, \"#f0f921\"]], \"type\": \"contour\"}], \"contourcarpet\": [{\"colorbar\": {\"outlinewidth\": 0, \"ticks\": \"\"}, \"type\": \"contourcarpet\"}], \"heatmap\": [{\"colorbar\": {\"outlinewidth\": 0, \"ticks\": \"\"}, \"colorscale\": [[0.0, \"#0d0887\"], [0.1111111111111111, \"#46039f\"], [0.2222222222222222, \"#7201a8\"], [0.3333333333333333, \"#9c179e\"], [0.4444444444444444, \"#bd3786\"], [0.5555555555555556, \"#d8576b\"], [0.6666666666666666, \"#ed7953\"], [0.7777777777777778, \"#fb9f3a\"], [0.8888888888888888, \"#fdca26\"], [1.0, \"#f0f921\"]], \"type\": \"heatmap\"}], \"heatmapgl\": [{\"colorbar\": {\"outlinewidth\": 0, \"ticks\": \"\"}, \"colorscale\": [[0.0, \"#0d0887\"], [0.1111111111111111, \"#46039f\"], [0.2222222222222222, \"#7201a8\"], [0.3333333333333333, \"#9c179e\"], [0.4444444444444444, \"#bd3786\"], [0.5555555555555556, \"#d8576b\"], [0.6666666666666666, \"#ed7953\"], [0.7777777777777778, \"#fb9f3a\"], [0.8888888888888888, \"#fdca26\"], [1.0, \"#f0f921\"]], \"type\": \"heatmapgl\"}], \"histogram\": [{\"marker\": {\"colorbar\": {\"outlinewidth\": 0, \"ticks\": \"\"}}, \"type\": \"histogram\"}], \"histogram2d\": [{\"colorbar\": {\"outlinewidth\": 0, \"ticks\": \"\"}, \"colorscale\": [[0.0, \"#0d0887\"], [0.1111111111111111, \"#46039f\"], [0.2222222222222222, \"#7201a8\"], [0.3333333333333333, \"#9c179e\"], [0.4444444444444444, \"#bd3786\"], [0.5555555555555556, \"#d8576b\"], [0.6666666666666666, \"#ed7953\"], [0.7777777777777778, \"#fb9f3a\"], [0.8888888888888888, \"#fdca26\"], [1.0, \"#f0f921\"]], \"type\": \"histogram2d\"}], \"histogram2dcontour\": [{\"colorbar\": {\"outlinewidth\": 0, \"ticks\": \"\"}, \"colorscale\": [[0.0, \"#0d0887\"], [0.1111111111111111, \"#46039f\"], [0.2222222222222222, \"#7201a8\"], [0.3333333333333333, \"#9c179e\"], [0.4444444444444444, \"#bd3786\"], [0.5555555555555556, \"#d8576b\"], [0.6666666666666666, \"#ed7953\"], [0.7777777777777778, \"#fb9f3a\"], [0.8888888888888888, \"#fdca26\"], [1.0, \"#f0f921\"]], \"type\": \"histogram2dcontour\"}], \"mesh3d\": [{\"colorbar\": {\"outlinewidth\": 0, \"ticks\": \"\"}, \"type\": \"mesh3d\"}], \"parcoords\": [{\"line\": {\"colorbar\": {\"outlinewidth\": 0, \"ticks\": \"\"}}, \"type\": \"parcoords\"}], \"pie\": [{\"automargin\": true, \"type\": \"pie\"}], \"scatter\": [{\"marker\": {\"colorbar\": {\"outlinewidth\": 0, \"ticks\": \"\"}}, \"type\": \"scatter\"}], \"scatter3d\": [{\"line\": {\"colorbar\": {\"outlinewidth\": 0, \"ticks\": \"\"}}, \"marker\": {\"colorbar\": {\"outlinewidth\": 0, \"ticks\": \"\"}}, \"type\": \"scatter3d\"}], \"scattercarpet\": [{\"marker\": {\"colorbar\": {\"outlinewidth\": 0, \"ticks\": \"\"}}, \"type\": \"scattercarpet\"}], \"scattergeo\": [{\"marker\": {\"colorbar\": {\"outlinewidth\": 0, \"ticks\": \"\"}}, \"type\": \"scattergeo\"}], \"scattergl\": [{\"marker\": {\"colorbar\": {\"outlinewidth\": 0, \"ticks\": \"\"}}, \"type\": \"scattergl\"}], \"scattermapbox\": [{\"marker\": {\"colorbar\": {\"outlinewidth\": 0, \"ticks\": \"\"}}, \"type\": \"scattermapbox\"}], \"scatterpolar\": [{\"marker\": {\"colorbar\": {\"outlinewidth\": 0, \"ticks\": \"\"}}, \"type\": \"scatterpolar\"}], \"scatterpolargl\": [{\"marker\": {\"colorbar\": {\"outlinewidth\": 0, \"ticks\": \"\"}}, \"type\": \"scatterpolargl\"}], \"scatterternary\": [{\"marker\": {\"colorbar\": {\"outlinewidth\": 0, \"ticks\": \"\"}}, \"type\": \"scatterternary\"}], \"surface\": [{\"colorbar\": {\"outlinewidth\": 0, \"ticks\": \"\"}, \"colorscale\": [[0.0, \"#0d0887\"], [0.1111111111111111, \"#46039f\"], [0.2222222222222222, \"#7201a8\"], [0.3333333333333333, \"#9c179e\"], [0.4444444444444444, \"#bd3786\"], [0.5555555555555556, \"#d8576b\"], [0.6666666666666666, \"#ed7953\"], [0.7777777777777778, \"#fb9f3a\"], [0.8888888888888888, \"#fdca26\"], [1.0, \"#f0f921\"]], \"type\": \"surface\"}], \"table\": [{\"cells\": {\"fill\": {\"color\": \"#EBF0F8\"}, \"line\": {\"color\": \"white\"}}, \"header\": {\"fill\": {\"color\": \"#C8D4E3\"}, \"line\": {\"color\": \"white\"}}, \"type\": \"table\"}]}, \"layout\": {\"annotationdefaults\": {\"arrowcolor\": \"#2a3f5f\", \"arrowhead\": 0, \"arrowwidth\": 1}, \"coloraxis\": {\"colorbar\": {\"outlinewidth\": 0, \"ticks\": \"\"}}, \"colorscale\": {\"diverging\": [[0, \"#8e0152\"], [0.1, \"#c51b7d\"], [0.2, \"#de77ae\"], [0.3, \"#f1b6da\"], [0.4, \"#fde0ef\"], [0.5, \"#f7f7f7\"], [0.6, \"#e6f5d0\"], [0.7, \"#b8e186\"], [0.8, \"#7fbc41\"], [0.9, \"#4d9221\"], [1, \"#276419\"]], \"sequential\": [[0.0, \"#0d0887\"], [0.1111111111111111, \"#46039f\"], [0.2222222222222222, \"#7201a8\"], [0.3333333333333333, \"#9c179e\"], [0.4444444444444444, \"#bd3786\"], [0.5555555555555556, \"#d8576b\"], [0.6666666666666666, \"#ed7953\"], [0.7777777777777778, \"#fb9f3a\"], [0.8888888888888888, \"#fdca26\"], [1.0, \"#f0f921\"]], \"sequentialminus\": [[0.0, \"#0d0887\"], [0.1111111111111111, \"#46039f\"], [0.2222222222222222, \"#7201a8\"], [0.3333333333333333, \"#9c179e\"], [0.4444444444444444, \"#bd3786\"], [0.5555555555555556, \"#d8576b\"], [0.6666666666666666, \"#ed7953\"], [0.7777777777777778, \"#fb9f3a\"], [0.8888888888888888, \"#fdca26\"], [1.0, \"#f0f921\"]]}, \"colorway\": [\"#636efa\", \"#EF553B\", \"#00cc96\", \"#ab63fa\", \"#FFA15A\", \"#19d3f3\", \"#FF6692\", \"#B6E880\", \"#FF97FF\", \"#FECB52\"], \"font\": {\"color\": \"#2a3f5f\"}, \"geo\": {\"bgcolor\": \"white\", \"lakecolor\": \"white\", \"landcolor\": \"#E5ECF6\", \"showlakes\": true, \"showland\": true, \"subunitcolor\": \"white\"}, \"hoverlabel\": {\"align\": \"left\"}, \"hovermode\": \"closest\", \"mapbox\": {\"style\": \"light\"}, \"paper_bgcolor\": \"white\", \"plot_bgcolor\": \"#E5ECF6\", \"polar\": {\"angularaxis\": {\"gridcolor\": \"white\", \"linecolor\": \"white\", \"ticks\": \"\"}, \"bgcolor\": \"#E5ECF6\", \"radialaxis\": {\"gridcolor\": \"white\", \"linecolor\": \"white\", \"ticks\": \"\"}}, \"scene\": {\"xaxis\": {\"backgroundcolor\": \"#E5ECF6\", \"gridcolor\": \"white\", \"gridwidth\": 2, \"linecolor\": \"white\", \"showbackground\": true, \"ticks\": \"\", \"zerolinecolor\": \"white\"}, \"yaxis\": {\"backgroundcolor\": \"#E5ECF6\", \"gridcolor\": \"white\", \"gridwidth\": 2, \"linecolor\": \"white\", \"showbackground\": true, \"ticks\": \"\", \"zerolinecolor\": \"white\"}, \"zaxis\": {\"backgroundcolor\": \"#E5ECF6\", \"gridcolor\": \"white\", \"gridwidth\": 2, \"linecolor\": \"white\", \"showbackground\": true, \"ticks\": \"\", \"zerolinecolor\": \"white\"}}, \"shapedefaults\": {\"line\": {\"color\": \"#2a3f5f\"}}, \"ternary\": {\"aaxis\": {\"gridcolor\": \"white\", \"linecolor\": \"white\", \"ticks\": \"\"}, \"baxis\": {\"gridcolor\": \"white\", \"linecolor\": \"white\", \"ticks\": \"\"}, \"bgcolor\": \"#E5ECF6\", \"caxis\": {\"gridcolor\": \"white\", \"linecolor\": \"white\", \"ticks\": \"\"}}, \"title\": {\"x\": 0.05}, \"xaxis\": {\"automargin\": true, \"gridcolor\": \"white\", \"linecolor\": \"white\", \"ticks\": \"\", \"title\": {\"standoff\": 15}, \"zerolinecolor\": \"white\", \"zerolinewidth\": 2}, \"yaxis\": {\"automargin\": true, \"gridcolor\": \"white\", \"linecolor\": \"white\", \"ticks\": \"\", \"title\": {\"standoff\": 15}, \"zerolinecolor\": \"white\", \"zerolinewidth\": 2}}}, \"title\": {\"font\": {\"color\": \"#4D5663\"}, \"text\": \"State Wise Cases\"}, \"xaxis\": {\"gridcolor\": \"#E1E5ED\", \"showgrid\": true, \"tickfont\": {\"color\": \"#4D5663\"}, \"title\": {\"font\": {\"color\": \"#4D5663\"}, \"text\": \"State\"}, \"zerolinecolor\": \"#E1E5ED\"}, \"yaxis\": {\"gridcolor\": \"#E1E5ED\", \"showgrid\": true, \"tickfont\": {\"color\": \"#4D5663\"}, \"title\": {\"font\": {\"color\": \"#4D5663\"}, \"text\": \"Confirmed\"}, \"zerolinecolor\": \"#E1E5ED\"}},\n",
       "                        {\"showLink\": true, \"linkText\": \"Export to plot.ly\", \"plotlyServerURL\": \"https://plot.ly\", \"responsive\": true}\n",
       "                    ).then(function(){\n",
       "                            \n",
       "var gd = document.getElementById('7f9611c9-c8e3-48bc-b4b3-90d090ca45eb');\n",
       "var x = new MutationObserver(function (mutations, observer) {{\n",
       "        var display = window.getComputedStyle(gd).display;\n",
       "        if (!display || display === 'none') {{\n",
       "            console.log([gd, 'removed!']);\n",
       "            Plotly.purge(gd);\n",
       "            observer.disconnect();\n",
       "        }}\n",
       "}});\n",
       "\n",
       "// Listen for the removal of the full notebook cells\n",
       "var notebookContainer = gd.closest('#notebook-container');\n",
       "if (notebookContainer) {{\n",
       "    x.observe(notebookContainer, {childList: true});\n",
       "}}\n",
       "\n",
       "// Listen for the clearing of the current output cell\n",
       "var outputEl = gd.closest('.output');\n",
       "if (outputEl) {{\n",
       "    x.observe(outputEl, {childList: true});\n",
       "}}\n",
       "\n",
       "                        })\n",
       "                };\n",
       "                });\n",
       "            </script>\n",
       "        </div>"
      ]
     },
     "metadata": {},
     "output_type": "display_data"
    }
   ],
   "source": [
    "\n",
    "df.iplot(kind=\"scatter\",x=\"State\",y=\"Confirmed\",mode='markers+lines',title=\"State Wise Cases\",xTitle=\"State\",yTitle=\"Confirmed\",colors='blue',size=0)"
   ]
  },
  {
   "cell_type": "markdown",
   "metadata": {},
   "source": [
    "# Active Cases as per State"
   ]
  },
  {
   "cell_type": "code",
   "execution_count": 18,
   "metadata": {},
   "outputs": [
    {
     "data": {
      "application/vnd.plotly.v1+json": {
       "config": {
        "linkText": "Export to plot.ly",
        "plotlyServerURL": "https://plot.ly",
        "showLink": true
       },
       "data": [
        {
         "line": {
          "color": "rgba(55, 128, 191, 1.0)",
          "dash": "solid",
          "shape": "linear",
          "width": 1.3
         },
         "marker": {
          "size": 0,
          "symbol": "circle"
         },
         "mode": "markers+lines",
         "name": "Active",
         "text": "",
         "type": "scatter",
         "x": [
          "Total",
          "Maharashtra",
          "Gujarat",
          "Tamil Nadu",
          "Delhi",
          "Rajasthan",
          "Madhya Pradesh",
          "Uttar Pradesh",
          "Andhra Pradesh",
          "Punjab",
          "West Bengal",
          "Telangana",
          "Jammu and Kashmir",
          "Karnataka",
          "Haryana",
          "Bihar",
          "Kerala",
          "Odisha",
          "Chandigarh",
          "Jharkhand",
          "Tripura",
          "Uttarakhand",
          "Chhattisgarh",
          "Assam",
          "Himachal Pradesh",
          "Ladakh",
          "Andaman and Nicobar Islands",
          "Meghalaya",
          "Puducherry",
          "Goa",
          "Manipur",
          "Mizoram",
          "Arunachal Pradesh",
          "Dadra and Nagar Haveli and Daman and Diu",
          "Nagaland",
          "Daman and Diu",
          "Lakshadweep",
          "Sikkim"
         ],
         "y": [
          39837,
          14862,
          5082,
          4364,
          4230,
          1465,
          1792,
          1761,
          1004,
          1550,
          1195,
          376,
          450,
          346,
          360,
          307,
          16,
          222,
          124,
          111,
          116,
          17,
          21,
          23,
          10,
          24,
          0,
          1,
          7,
          0,
          0,
          0,
          0,
          1,
          0,
          0,
          0,
          0
         ]
        }
       ],
       "layout": {
        "legend": {
         "bgcolor": "#F5F6F9",
         "font": {
          "color": "#4D5663"
         }
        },
        "paper_bgcolor": "#F5F6F9",
        "plot_bgcolor": "#F5F6F9",
        "template": {
         "data": {
          "bar": [
           {
            "error_x": {
             "color": "#2a3f5f"
            },
            "error_y": {
             "color": "#2a3f5f"
            },
            "marker": {
             "line": {
              "color": "#E5ECF6",
              "width": 0.5
             }
            },
            "type": "bar"
           }
          ],
          "barpolar": [
           {
            "marker": {
             "line": {
              "color": "#E5ECF6",
              "width": 0.5
             }
            },
            "type": "barpolar"
           }
          ],
          "carpet": [
           {
            "aaxis": {
             "endlinecolor": "#2a3f5f",
             "gridcolor": "white",
             "linecolor": "white",
             "minorgridcolor": "white",
             "startlinecolor": "#2a3f5f"
            },
            "baxis": {
             "endlinecolor": "#2a3f5f",
             "gridcolor": "white",
             "linecolor": "white",
             "minorgridcolor": "white",
             "startlinecolor": "#2a3f5f"
            },
            "type": "carpet"
           }
          ],
          "choropleth": [
           {
            "colorbar": {
             "outlinewidth": 0,
             "ticks": ""
            },
            "type": "choropleth"
           }
          ],
          "contour": [
           {
            "colorbar": {
             "outlinewidth": 0,
             "ticks": ""
            },
            "colorscale": [
             [
              0,
              "#0d0887"
             ],
             [
              0.1111111111111111,
              "#46039f"
             ],
             [
              0.2222222222222222,
              "#7201a8"
             ],
             [
              0.3333333333333333,
              "#9c179e"
             ],
             [
              0.4444444444444444,
              "#bd3786"
             ],
             [
              0.5555555555555556,
              "#d8576b"
             ],
             [
              0.6666666666666666,
              "#ed7953"
             ],
             [
              0.7777777777777778,
              "#fb9f3a"
             ],
             [
              0.8888888888888888,
              "#fdca26"
             ],
             [
              1,
              "#f0f921"
             ]
            ],
            "type": "contour"
           }
          ],
          "contourcarpet": [
           {
            "colorbar": {
             "outlinewidth": 0,
             "ticks": ""
            },
            "type": "contourcarpet"
           }
          ],
          "heatmap": [
           {
            "colorbar": {
             "outlinewidth": 0,
             "ticks": ""
            },
            "colorscale": [
             [
              0,
              "#0d0887"
             ],
             [
              0.1111111111111111,
              "#46039f"
             ],
             [
              0.2222222222222222,
              "#7201a8"
             ],
             [
              0.3333333333333333,
              "#9c179e"
             ],
             [
              0.4444444444444444,
              "#bd3786"
             ],
             [
              0.5555555555555556,
              "#d8576b"
             ],
             [
              0.6666666666666666,
              "#ed7953"
             ],
             [
              0.7777777777777778,
              "#fb9f3a"
             ],
             [
              0.8888888888888888,
              "#fdca26"
             ],
             [
              1,
              "#f0f921"
             ]
            ],
            "type": "heatmap"
           }
          ],
          "heatmapgl": [
           {
            "colorbar": {
             "outlinewidth": 0,
             "ticks": ""
            },
            "colorscale": [
             [
              0,
              "#0d0887"
             ],
             [
              0.1111111111111111,
              "#46039f"
             ],
             [
              0.2222222222222222,
              "#7201a8"
             ],
             [
              0.3333333333333333,
              "#9c179e"
             ],
             [
              0.4444444444444444,
              "#bd3786"
             ],
             [
              0.5555555555555556,
              "#d8576b"
             ],
             [
              0.6666666666666666,
              "#ed7953"
             ],
             [
              0.7777777777777778,
              "#fb9f3a"
             ],
             [
              0.8888888888888888,
              "#fdca26"
             ],
             [
              1,
              "#f0f921"
             ]
            ],
            "type": "heatmapgl"
           }
          ],
          "histogram": [
           {
            "marker": {
             "colorbar": {
              "outlinewidth": 0,
              "ticks": ""
             }
            },
            "type": "histogram"
           }
          ],
          "histogram2d": [
           {
            "colorbar": {
             "outlinewidth": 0,
             "ticks": ""
            },
            "colorscale": [
             [
              0,
              "#0d0887"
             ],
             [
              0.1111111111111111,
              "#46039f"
             ],
             [
              0.2222222222222222,
              "#7201a8"
             ],
             [
              0.3333333333333333,
              "#9c179e"
             ],
             [
              0.4444444444444444,
              "#bd3786"
             ],
             [
              0.5555555555555556,
              "#d8576b"
             ],
             [
              0.6666666666666666,
              "#ed7953"
             ],
             [
              0.7777777777777778,
              "#fb9f3a"
             ],
             [
              0.8888888888888888,
              "#fdca26"
             ],
             [
              1,
              "#f0f921"
             ]
            ],
            "type": "histogram2d"
           }
          ],
          "histogram2dcontour": [
           {
            "colorbar": {
             "outlinewidth": 0,
             "ticks": ""
            },
            "colorscale": [
             [
              0,
              "#0d0887"
             ],
             [
              0.1111111111111111,
              "#46039f"
             ],
             [
              0.2222222222222222,
              "#7201a8"
             ],
             [
              0.3333333333333333,
              "#9c179e"
             ],
             [
              0.4444444444444444,
              "#bd3786"
             ],
             [
              0.5555555555555556,
              "#d8576b"
             ],
             [
              0.6666666666666666,
              "#ed7953"
             ],
             [
              0.7777777777777778,
              "#fb9f3a"
             ],
             [
              0.8888888888888888,
              "#fdca26"
             ],
             [
              1,
              "#f0f921"
             ]
            ],
            "type": "histogram2dcontour"
           }
          ],
          "mesh3d": [
           {
            "colorbar": {
             "outlinewidth": 0,
             "ticks": ""
            },
            "type": "mesh3d"
           }
          ],
          "parcoords": [
           {
            "line": {
             "colorbar": {
              "outlinewidth": 0,
              "ticks": ""
             }
            },
            "type": "parcoords"
           }
          ],
          "pie": [
           {
            "automargin": true,
            "type": "pie"
           }
          ],
          "scatter": [
           {
            "marker": {
             "colorbar": {
              "outlinewidth": 0,
              "ticks": ""
             }
            },
            "type": "scatter"
           }
          ],
          "scatter3d": [
           {
            "line": {
             "colorbar": {
              "outlinewidth": 0,
              "ticks": ""
             }
            },
            "marker": {
             "colorbar": {
              "outlinewidth": 0,
              "ticks": ""
             }
            },
            "type": "scatter3d"
           }
          ],
          "scattercarpet": [
           {
            "marker": {
             "colorbar": {
              "outlinewidth": 0,
              "ticks": ""
             }
            },
            "type": "scattercarpet"
           }
          ],
          "scattergeo": [
           {
            "marker": {
             "colorbar": {
              "outlinewidth": 0,
              "ticks": ""
             }
            },
            "type": "scattergeo"
           }
          ],
          "scattergl": [
           {
            "marker": {
             "colorbar": {
              "outlinewidth": 0,
              "ticks": ""
             }
            },
            "type": "scattergl"
           }
          ],
          "scattermapbox": [
           {
            "marker": {
             "colorbar": {
              "outlinewidth": 0,
              "ticks": ""
             }
            },
            "type": "scattermapbox"
           }
          ],
          "scatterpolar": [
           {
            "marker": {
             "colorbar": {
              "outlinewidth": 0,
              "ticks": ""
             }
            },
            "type": "scatterpolar"
           }
          ],
          "scatterpolargl": [
           {
            "marker": {
             "colorbar": {
              "outlinewidth": 0,
              "ticks": ""
             }
            },
            "type": "scatterpolargl"
           }
          ],
          "scatterternary": [
           {
            "marker": {
             "colorbar": {
              "outlinewidth": 0,
              "ticks": ""
             }
            },
            "type": "scatterternary"
           }
          ],
          "surface": [
           {
            "colorbar": {
             "outlinewidth": 0,
             "ticks": ""
            },
            "colorscale": [
             [
              0,
              "#0d0887"
             ],
             [
              0.1111111111111111,
              "#46039f"
             ],
             [
              0.2222222222222222,
              "#7201a8"
             ],
             [
              0.3333333333333333,
              "#9c179e"
             ],
             [
              0.4444444444444444,
              "#bd3786"
             ],
             [
              0.5555555555555556,
              "#d8576b"
             ],
             [
              0.6666666666666666,
              "#ed7953"
             ],
             [
              0.7777777777777778,
              "#fb9f3a"
             ],
             [
              0.8888888888888888,
              "#fdca26"
             ],
             [
              1,
              "#f0f921"
             ]
            ],
            "type": "surface"
           }
          ],
          "table": [
           {
            "cells": {
             "fill": {
              "color": "#EBF0F8"
             },
             "line": {
              "color": "white"
             }
            },
            "header": {
             "fill": {
              "color": "#C8D4E3"
             },
             "line": {
              "color": "white"
             }
            },
            "type": "table"
           }
          ]
         },
         "layout": {
          "annotationdefaults": {
           "arrowcolor": "#2a3f5f",
           "arrowhead": 0,
           "arrowwidth": 1
          },
          "coloraxis": {
           "colorbar": {
            "outlinewidth": 0,
            "ticks": ""
           }
          },
          "colorscale": {
           "diverging": [
            [
             0,
             "#8e0152"
            ],
            [
             0.1,
             "#c51b7d"
            ],
            [
             0.2,
             "#de77ae"
            ],
            [
             0.3,
             "#f1b6da"
            ],
            [
             0.4,
             "#fde0ef"
            ],
            [
             0.5,
             "#f7f7f7"
            ],
            [
             0.6,
             "#e6f5d0"
            ],
            [
             0.7,
             "#b8e186"
            ],
            [
             0.8,
             "#7fbc41"
            ],
            [
             0.9,
             "#4d9221"
            ],
            [
             1,
             "#276419"
            ]
           ],
           "sequential": [
            [
             0,
             "#0d0887"
            ],
            [
             0.1111111111111111,
             "#46039f"
            ],
            [
             0.2222222222222222,
             "#7201a8"
            ],
            [
             0.3333333333333333,
             "#9c179e"
            ],
            [
             0.4444444444444444,
             "#bd3786"
            ],
            [
             0.5555555555555556,
             "#d8576b"
            ],
            [
             0.6666666666666666,
             "#ed7953"
            ],
            [
             0.7777777777777778,
             "#fb9f3a"
            ],
            [
             0.8888888888888888,
             "#fdca26"
            ],
            [
             1,
             "#f0f921"
            ]
           ],
           "sequentialminus": [
            [
             0,
             "#0d0887"
            ],
            [
             0.1111111111111111,
             "#46039f"
            ],
            [
             0.2222222222222222,
             "#7201a8"
            ],
            [
             0.3333333333333333,
             "#9c179e"
            ],
            [
             0.4444444444444444,
             "#bd3786"
            ],
            [
             0.5555555555555556,
             "#d8576b"
            ],
            [
             0.6666666666666666,
             "#ed7953"
            ],
            [
             0.7777777777777778,
             "#fb9f3a"
            ],
            [
             0.8888888888888888,
             "#fdca26"
            ],
            [
             1,
             "#f0f921"
            ]
           ]
          },
          "colorway": [
           "#636efa",
           "#EF553B",
           "#00cc96",
           "#ab63fa",
           "#FFA15A",
           "#19d3f3",
           "#FF6692",
           "#B6E880",
           "#FF97FF",
           "#FECB52"
          ],
          "font": {
           "color": "#2a3f5f"
          },
          "geo": {
           "bgcolor": "white",
           "lakecolor": "white",
           "landcolor": "#E5ECF6",
           "showlakes": true,
           "showland": true,
           "subunitcolor": "white"
          },
          "hoverlabel": {
           "align": "left"
          },
          "hovermode": "closest",
          "mapbox": {
           "style": "light"
          },
          "paper_bgcolor": "white",
          "plot_bgcolor": "#E5ECF6",
          "polar": {
           "angularaxis": {
            "gridcolor": "white",
            "linecolor": "white",
            "ticks": ""
           },
           "bgcolor": "#E5ECF6",
           "radialaxis": {
            "gridcolor": "white",
            "linecolor": "white",
            "ticks": ""
           }
          },
          "scene": {
           "xaxis": {
            "backgroundcolor": "#E5ECF6",
            "gridcolor": "white",
            "gridwidth": 2,
            "linecolor": "white",
            "showbackground": true,
            "ticks": "",
            "zerolinecolor": "white"
           },
           "yaxis": {
            "backgroundcolor": "#E5ECF6",
            "gridcolor": "white",
            "gridwidth": 2,
            "linecolor": "white",
            "showbackground": true,
            "ticks": "",
            "zerolinecolor": "white"
           },
           "zaxis": {
            "backgroundcolor": "#E5ECF6",
            "gridcolor": "white",
            "gridwidth": 2,
            "linecolor": "white",
            "showbackground": true,
            "ticks": "",
            "zerolinecolor": "white"
           }
          },
          "shapedefaults": {
           "line": {
            "color": "#2a3f5f"
           }
          },
          "ternary": {
           "aaxis": {
            "gridcolor": "white",
            "linecolor": "white",
            "ticks": ""
           },
           "baxis": {
            "gridcolor": "white",
            "linecolor": "white",
            "ticks": ""
           },
           "bgcolor": "#E5ECF6",
           "caxis": {
            "gridcolor": "white",
            "linecolor": "white",
            "ticks": ""
           }
          },
          "title": {
           "x": 0.05
          },
          "xaxis": {
           "automargin": true,
           "gridcolor": "white",
           "linecolor": "white",
           "ticks": "",
           "title": {
            "standoff": 15
           },
           "zerolinecolor": "white",
           "zerolinewidth": 2
          },
          "yaxis": {
           "automargin": true,
           "gridcolor": "white",
           "linecolor": "white",
           "ticks": "",
           "title": {
            "standoff": 15
           },
           "zerolinecolor": "white",
           "zerolinewidth": 2
          }
         }
        },
        "title": {
         "font": {
          "color": "#4D5663"
         },
         "text": "Active Cases"
        },
        "xaxis": {
         "gridcolor": "#E1E5ED",
         "showgrid": true,
         "tickfont": {
          "color": "#4D5663"
         },
         "title": {
          "font": {
           "color": "#4D5663"
          },
          "text": "State"
         },
         "zerolinecolor": "#E1E5ED"
        },
        "yaxis": {
         "gridcolor": "#E1E5ED",
         "showgrid": true,
         "tickfont": {
          "color": "#4D5663"
         },
         "title": {
          "font": {
           "color": "#4D5663"
          },
          "text": "Active"
         },
         "zerolinecolor": "#E1E5ED"
        }
       }
      },
      "text/html": [
       "<div>\n",
       "        \n",
       "        \n",
       "            <div id=\"ee9623b4-5aab-403f-b48a-5d3c9174fd55\" class=\"plotly-graph-div\" style=\"height:525px; width:100%;\"></div>\n",
       "            <script type=\"text/javascript\">\n",
       "                require([\"plotly\"], function(Plotly) {\n",
       "                    window.PLOTLYENV=window.PLOTLYENV || {};\n",
       "                    window.PLOTLYENV.BASE_URL='https://plot.ly';\n",
       "                    \n",
       "                if (document.getElementById(\"ee9623b4-5aab-403f-b48a-5d3c9174fd55\")) {\n",
       "                    Plotly.newPlot(\n",
       "                        'ee9623b4-5aab-403f-b48a-5d3c9174fd55',\n",
       "                        [{\"line\": {\"color\": \"rgba(55, 128, 191, 1.0)\", \"dash\": \"solid\", \"shape\": \"linear\", \"width\": 1.3}, \"marker\": {\"size\": 0, \"symbol\": \"circle\"}, \"mode\": \"markers+lines\", \"name\": \"Active\", \"text\": \"\", \"type\": \"scatter\", \"x\": [\"Total\", \"Maharashtra\", \"Gujarat\", \"Tamil Nadu\", \"Delhi\", \"Rajasthan\", \"Madhya Pradesh\", \"Uttar Pradesh\", \"Andhra Pradesh\", \"Punjab\", \"West Bengal\", \"Telangana\", \"Jammu and Kashmir\", \"Karnataka\", \"Haryana\", \"Bihar\", \"Kerala\", \"Odisha\", \"Chandigarh\", \"Jharkhand\", \"Tripura\", \"Uttarakhand\", \"Chhattisgarh\", \"Assam\", \"Himachal Pradesh\", \"Ladakh\", \"Andaman and Nicobar Islands\", \"Meghalaya\", \"Puducherry\", \"Goa\", \"Manipur\", \"Mizoram\", \"Arunachal Pradesh\", \"Dadra and Nagar Haveli and Daman and Diu\", \"Nagaland\", \"Daman and Diu\", \"Lakshadweep\", \"Sikkim\"], \"y\": [39837, 14862, 5082, 4364, 4230, 1465, 1792, 1761, 1004, 1550, 1195, 376, 450, 346, 360, 307, 16, 222, 124, 111, 116, 17, 21, 23, 10, 24, 0, 1, 7, 0, 0, 0, 0, 1, 0, 0, 0, 0]}],\n",
       "                        {\"legend\": {\"bgcolor\": \"#F5F6F9\", \"font\": {\"color\": \"#4D5663\"}}, \"paper_bgcolor\": \"#F5F6F9\", \"plot_bgcolor\": \"#F5F6F9\", \"template\": {\"data\": {\"bar\": [{\"error_x\": {\"color\": \"#2a3f5f\"}, \"error_y\": {\"color\": \"#2a3f5f\"}, \"marker\": {\"line\": {\"color\": \"#E5ECF6\", \"width\": 0.5}}, \"type\": \"bar\"}], \"barpolar\": [{\"marker\": {\"line\": {\"color\": \"#E5ECF6\", \"width\": 0.5}}, \"type\": \"barpolar\"}], \"carpet\": [{\"aaxis\": {\"endlinecolor\": \"#2a3f5f\", \"gridcolor\": \"white\", \"linecolor\": \"white\", \"minorgridcolor\": \"white\", \"startlinecolor\": \"#2a3f5f\"}, \"baxis\": {\"endlinecolor\": \"#2a3f5f\", \"gridcolor\": \"white\", \"linecolor\": \"white\", \"minorgridcolor\": \"white\", \"startlinecolor\": \"#2a3f5f\"}, \"type\": \"carpet\"}], \"choropleth\": [{\"colorbar\": {\"outlinewidth\": 0, \"ticks\": \"\"}, \"type\": \"choropleth\"}], \"contour\": [{\"colorbar\": {\"outlinewidth\": 0, \"ticks\": \"\"}, \"colorscale\": [[0.0, \"#0d0887\"], [0.1111111111111111, \"#46039f\"], [0.2222222222222222, \"#7201a8\"], [0.3333333333333333, \"#9c179e\"], [0.4444444444444444, \"#bd3786\"], [0.5555555555555556, \"#d8576b\"], [0.6666666666666666, \"#ed7953\"], [0.7777777777777778, \"#fb9f3a\"], [0.8888888888888888, \"#fdca26\"], [1.0, \"#f0f921\"]], \"type\": \"contour\"}], \"contourcarpet\": [{\"colorbar\": {\"outlinewidth\": 0, \"ticks\": \"\"}, \"type\": \"contourcarpet\"}], \"heatmap\": [{\"colorbar\": {\"outlinewidth\": 0, \"ticks\": \"\"}, \"colorscale\": [[0.0, \"#0d0887\"], [0.1111111111111111, \"#46039f\"], [0.2222222222222222, \"#7201a8\"], [0.3333333333333333, \"#9c179e\"], [0.4444444444444444, \"#bd3786\"], [0.5555555555555556, \"#d8576b\"], [0.6666666666666666, \"#ed7953\"], [0.7777777777777778, \"#fb9f3a\"], [0.8888888888888888, \"#fdca26\"], [1.0, \"#f0f921\"]], \"type\": \"heatmap\"}], \"heatmapgl\": [{\"colorbar\": {\"outlinewidth\": 0, \"ticks\": \"\"}, \"colorscale\": [[0.0, \"#0d0887\"], [0.1111111111111111, \"#46039f\"], [0.2222222222222222, \"#7201a8\"], [0.3333333333333333, \"#9c179e\"], [0.4444444444444444, \"#bd3786\"], [0.5555555555555556, \"#d8576b\"], [0.6666666666666666, \"#ed7953\"], [0.7777777777777778, \"#fb9f3a\"], [0.8888888888888888, \"#fdca26\"], [1.0, \"#f0f921\"]], \"type\": \"heatmapgl\"}], \"histogram\": [{\"marker\": {\"colorbar\": {\"outlinewidth\": 0, \"ticks\": \"\"}}, \"type\": \"histogram\"}], \"histogram2d\": [{\"colorbar\": {\"outlinewidth\": 0, \"ticks\": \"\"}, \"colorscale\": [[0.0, \"#0d0887\"], [0.1111111111111111, \"#46039f\"], [0.2222222222222222, \"#7201a8\"], [0.3333333333333333, \"#9c179e\"], [0.4444444444444444, \"#bd3786\"], [0.5555555555555556, \"#d8576b\"], [0.6666666666666666, \"#ed7953\"], [0.7777777777777778, \"#fb9f3a\"], [0.8888888888888888, \"#fdca26\"], [1.0, \"#f0f921\"]], \"type\": \"histogram2d\"}], \"histogram2dcontour\": [{\"colorbar\": {\"outlinewidth\": 0, \"ticks\": \"\"}, \"colorscale\": [[0.0, \"#0d0887\"], [0.1111111111111111, \"#46039f\"], [0.2222222222222222, \"#7201a8\"], [0.3333333333333333, \"#9c179e\"], [0.4444444444444444, \"#bd3786\"], [0.5555555555555556, \"#d8576b\"], [0.6666666666666666, \"#ed7953\"], [0.7777777777777778, \"#fb9f3a\"], [0.8888888888888888, \"#fdca26\"], [1.0, \"#f0f921\"]], \"type\": \"histogram2dcontour\"}], \"mesh3d\": [{\"colorbar\": {\"outlinewidth\": 0, \"ticks\": \"\"}, \"type\": \"mesh3d\"}], \"parcoords\": [{\"line\": {\"colorbar\": {\"outlinewidth\": 0, \"ticks\": \"\"}}, \"type\": \"parcoords\"}], \"pie\": [{\"automargin\": true, \"type\": \"pie\"}], \"scatter\": [{\"marker\": {\"colorbar\": {\"outlinewidth\": 0, \"ticks\": \"\"}}, \"type\": \"scatter\"}], \"scatter3d\": [{\"line\": {\"colorbar\": {\"outlinewidth\": 0, \"ticks\": \"\"}}, \"marker\": {\"colorbar\": {\"outlinewidth\": 0, \"ticks\": \"\"}}, \"type\": \"scatter3d\"}], \"scattercarpet\": [{\"marker\": {\"colorbar\": {\"outlinewidth\": 0, \"ticks\": \"\"}}, \"type\": \"scattercarpet\"}], \"scattergeo\": [{\"marker\": {\"colorbar\": {\"outlinewidth\": 0, \"ticks\": \"\"}}, \"type\": \"scattergeo\"}], \"scattergl\": [{\"marker\": {\"colorbar\": {\"outlinewidth\": 0, \"ticks\": \"\"}}, \"type\": \"scattergl\"}], \"scattermapbox\": [{\"marker\": {\"colorbar\": {\"outlinewidth\": 0, \"ticks\": \"\"}}, \"type\": \"scattermapbox\"}], \"scatterpolar\": [{\"marker\": {\"colorbar\": {\"outlinewidth\": 0, \"ticks\": \"\"}}, \"type\": \"scatterpolar\"}], \"scatterpolargl\": [{\"marker\": {\"colorbar\": {\"outlinewidth\": 0, \"ticks\": \"\"}}, \"type\": \"scatterpolargl\"}], \"scatterternary\": [{\"marker\": {\"colorbar\": {\"outlinewidth\": 0, \"ticks\": \"\"}}, \"type\": \"scatterternary\"}], \"surface\": [{\"colorbar\": {\"outlinewidth\": 0, \"ticks\": \"\"}, \"colorscale\": [[0.0, \"#0d0887\"], [0.1111111111111111, \"#46039f\"], [0.2222222222222222, \"#7201a8\"], [0.3333333333333333, \"#9c179e\"], [0.4444444444444444, \"#bd3786\"], [0.5555555555555556, \"#d8576b\"], [0.6666666666666666, \"#ed7953\"], [0.7777777777777778, \"#fb9f3a\"], [0.8888888888888888, \"#fdca26\"], [1.0, \"#f0f921\"]], \"type\": \"surface\"}], \"table\": [{\"cells\": {\"fill\": {\"color\": \"#EBF0F8\"}, \"line\": {\"color\": \"white\"}}, \"header\": {\"fill\": {\"color\": \"#C8D4E3\"}, \"line\": {\"color\": \"white\"}}, \"type\": \"table\"}]}, \"layout\": {\"annotationdefaults\": {\"arrowcolor\": \"#2a3f5f\", \"arrowhead\": 0, \"arrowwidth\": 1}, \"coloraxis\": {\"colorbar\": {\"outlinewidth\": 0, \"ticks\": \"\"}}, \"colorscale\": {\"diverging\": [[0, \"#8e0152\"], [0.1, \"#c51b7d\"], [0.2, \"#de77ae\"], [0.3, \"#f1b6da\"], [0.4, \"#fde0ef\"], [0.5, \"#f7f7f7\"], [0.6, \"#e6f5d0\"], [0.7, \"#b8e186\"], [0.8, \"#7fbc41\"], [0.9, \"#4d9221\"], [1, \"#276419\"]], \"sequential\": [[0.0, \"#0d0887\"], [0.1111111111111111, \"#46039f\"], [0.2222222222222222, \"#7201a8\"], [0.3333333333333333, \"#9c179e\"], [0.4444444444444444, \"#bd3786\"], [0.5555555555555556, \"#d8576b\"], [0.6666666666666666, \"#ed7953\"], [0.7777777777777778, \"#fb9f3a\"], [0.8888888888888888, \"#fdca26\"], [1.0, \"#f0f921\"]], \"sequentialminus\": [[0.0, \"#0d0887\"], [0.1111111111111111, \"#46039f\"], [0.2222222222222222, \"#7201a8\"], [0.3333333333333333, \"#9c179e\"], [0.4444444444444444, \"#bd3786\"], [0.5555555555555556, \"#d8576b\"], [0.6666666666666666, \"#ed7953\"], [0.7777777777777778, \"#fb9f3a\"], [0.8888888888888888, \"#fdca26\"], [1.0, \"#f0f921\"]]}, \"colorway\": [\"#636efa\", \"#EF553B\", \"#00cc96\", \"#ab63fa\", \"#FFA15A\", \"#19d3f3\", \"#FF6692\", \"#B6E880\", \"#FF97FF\", \"#FECB52\"], \"font\": {\"color\": \"#2a3f5f\"}, \"geo\": {\"bgcolor\": \"white\", \"lakecolor\": \"white\", \"landcolor\": \"#E5ECF6\", \"showlakes\": true, \"showland\": true, \"subunitcolor\": \"white\"}, \"hoverlabel\": {\"align\": \"left\"}, \"hovermode\": \"closest\", \"mapbox\": {\"style\": \"light\"}, \"paper_bgcolor\": \"white\", \"plot_bgcolor\": \"#E5ECF6\", \"polar\": {\"angularaxis\": {\"gridcolor\": \"white\", \"linecolor\": \"white\", \"ticks\": \"\"}, \"bgcolor\": \"#E5ECF6\", \"radialaxis\": {\"gridcolor\": \"white\", \"linecolor\": \"white\", \"ticks\": \"\"}}, \"scene\": {\"xaxis\": {\"backgroundcolor\": \"#E5ECF6\", \"gridcolor\": \"white\", \"gridwidth\": 2, \"linecolor\": \"white\", \"showbackground\": true, \"ticks\": \"\", \"zerolinecolor\": \"white\"}, \"yaxis\": {\"backgroundcolor\": \"#E5ECF6\", \"gridcolor\": \"white\", \"gridwidth\": 2, \"linecolor\": \"white\", \"showbackground\": true, \"ticks\": \"\", \"zerolinecolor\": \"white\"}, \"zaxis\": {\"backgroundcolor\": \"#E5ECF6\", \"gridcolor\": \"white\", \"gridwidth\": 2, \"linecolor\": \"white\", \"showbackground\": true, \"ticks\": \"\", \"zerolinecolor\": \"white\"}}, \"shapedefaults\": {\"line\": {\"color\": \"#2a3f5f\"}}, \"ternary\": {\"aaxis\": {\"gridcolor\": \"white\", \"linecolor\": \"white\", \"ticks\": \"\"}, \"baxis\": {\"gridcolor\": \"white\", \"linecolor\": \"white\", \"ticks\": \"\"}, \"bgcolor\": \"#E5ECF6\", \"caxis\": {\"gridcolor\": \"white\", \"linecolor\": \"white\", \"ticks\": \"\"}}, \"title\": {\"x\": 0.05}, \"xaxis\": {\"automargin\": true, \"gridcolor\": \"white\", \"linecolor\": \"white\", \"ticks\": \"\", \"title\": {\"standoff\": 15}, \"zerolinecolor\": \"white\", \"zerolinewidth\": 2}, \"yaxis\": {\"automargin\": true, \"gridcolor\": \"white\", \"linecolor\": \"white\", \"ticks\": \"\", \"title\": {\"standoff\": 15}, \"zerolinecolor\": \"white\", \"zerolinewidth\": 2}}}, \"title\": {\"font\": {\"color\": \"#4D5663\"}, \"text\": \"Active Cases\"}, \"xaxis\": {\"gridcolor\": \"#E1E5ED\", \"showgrid\": true, \"tickfont\": {\"color\": \"#4D5663\"}, \"title\": {\"font\": {\"color\": \"#4D5663\"}, \"text\": \"State\"}, \"zerolinecolor\": \"#E1E5ED\"}, \"yaxis\": {\"gridcolor\": \"#E1E5ED\", \"showgrid\": true, \"tickfont\": {\"color\": \"#4D5663\"}, \"title\": {\"font\": {\"color\": \"#4D5663\"}, \"text\": \"Active\"}, \"zerolinecolor\": \"#E1E5ED\"}},\n",
       "                        {\"showLink\": true, \"linkText\": \"Export to plot.ly\", \"plotlyServerURL\": \"https://plot.ly\", \"responsive\": true}\n",
       "                    ).then(function(){\n",
       "                            \n",
       "var gd = document.getElementById('ee9623b4-5aab-403f-b48a-5d3c9174fd55');\n",
       "var x = new MutationObserver(function (mutations, observer) {{\n",
       "        var display = window.getComputedStyle(gd).display;\n",
       "        if (!display || display === 'none') {{\n",
       "            console.log([gd, 'removed!']);\n",
       "            Plotly.purge(gd);\n",
       "            observer.disconnect();\n",
       "        }}\n",
       "}});\n",
       "\n",
       "// Listen for the removal of the full notebook cells\n",
       "var notebookContainer = gd.closest('#notebook-container');\n",
       "if (notebookContainer) {{\n",
       "    x.observe(notebookContainer, {childList: true});\n",
       "}}\n",
       "\n",
       "// Listen for the clearing of the current output cell\n",
       "var outputEl = gd.closest('.output');\n",
       "if (outputEl) {{\n",
       "    x.observe(outputEl, {childList: true});\n",
       "}}\n",
       "\n",
       "                        })\n",
       "                };\n",
       "                });\n",
       "            </script>\n",
       "        </div>"
      ]
     },
     "metadata": {},
     "output_type": "display_data"
    }
   ],
   "source": [
    "df.iplot(kind=\"scatter\",x=\"State\",y=\"Active\",mode='markers+lines',title=\"Active Cases\",xTitle=\"State\",yTitle=\"Active\",colors='blue',size=0)"
   ]
  },
  {
   "cell_type": "markdown",
   "metadata": {},
   "source": [
    "# Recovered Cases as per State "
   ]
  },
  {
   "cell_type": "code",
   "execution_count": 19,
   "metadata": {},
   "outputs": [
    {
     "data": {
      "application/vnd.plotly.v1+json": {
       "config": {
        "linkText": "Export to plot.ly",
        "plotlyServerURL": "https://plot.ly",
        "showLink": true
       },
       "data": [
        {
         "line": {
          "color": "rgba(55, 128, 191, 1.0)",
          "dash": "solid",
          "shape": "linear",
          "width": 1.3
         },
         "marker": {
          "size": 0,
          "symbol": "circle"
         },
         "mode": "markers+lines",
         "name": "Recovered",
         "text": "",
         "type": "scatter",
         "x": [
          "Total",
          "Maharashtra",
          "Gujarat",
          "Tamil Nadu",
          "Delhi",
          "Rajasthan",
          "Madhya Pradesh",
          "Uttar Pradesh",
          "Andhra Pradesh",
          "Punjab",
          "West Bengal",
          "Telangana",
          "Jammu and Kashmir",
          "Karnataka",
          "Haryana",
          "Bihar",
          "Kerala",
          "Odisha",
          "Chandigarh",
          "Jharkhand",
          "Tripura",
          "Uttarakhand",
          "Chhattisgarh",
          "Assam",
          "Himachal Pradesh",
          "Ladakh",
          "Andaman and Nicobar Islands",
          "Meghalaya",
          "Puducherry",
          "Goa",
          "Manipur",
          "Mizoram",
          "Arunachal Pradesh",
          "Dadra and Nagar Haveli and Daman and Diu",
          "Nagaland",
          "Daman and Diu",
          "Lakshadweep",
          "Sikkim"
         ],
         "y": [
          17887,
          3470,
          1872,
          1605,
          2020,
          2011,
          1349,
          1387,
          842,
          152,
          323,
          727,
          364,
          376,
          279,
          267,
          484,
          63,
          21,
          41,
          2,
          45,
          38,
          35,
          34,
          18,
          33,
          10,
          8,
          7,
          2,
          1,
          1,
          0,
          0,
          0,
          0,
          0
         ]
        }
       ],
       "layout": {
        "legend": {
         "bgcolor": "#F5F6F9",
         "font": {
          "color": "#4D5663"
         }
        },
        "paper_bgcolor": "#F5F6F9",
        "plot_bgcolor": "#F5F6F9",
        "template": {
         "data": {
          "bar": [
           {
            "error_x": {
             "color": "#2a3f5f"
            },
            "error_y": {
             "color": "#2a3f5f"
            },
            "marker": {
             "line": {
              "color": "#E5ECF6",
              "width": 0.5
             }
            },
            "type": "bar"
           }
          ],
          "barpolar": [
           {
            "marker": {
             "line": {
              "color": "#E5ECF6",
              "width": 0.5
             }
            },
            "type": "barpolar"
           }
          ],
          "carpet": [
           {
            "aaxis": {
             "endlinecolor": "#2a3f5f",
             "gridcolor": "white",
             "linecolor": "white",
             "minorgridcolor": "white",
             "startlinecolor": "#2a3f5f"
            },
            "baxis": {
             "endlinecolor": "#2a3f5f",
             "gridcolor": "white",
             "linecolor": "white",
             "minorgridcolor": "white",
             "startlinecolor": "#2a3f5f"
            },
            "type": "carpet"
           }
          ],
          "choropleth": [
           {
            "colorbar": {
             "outlinewidth": 0,
             "ticks": ""
            },
            "type": "choropleth"
           }
          ],
          "contour": [
           {
            "colorbar": {
             "outlinewidth": 0,
             "ticks": ""
            },
            "colorscale": [
             [
              0,
              "#0d0887"
             ],
             [
              0.1111111111111111,
              "#46039f"
             ],
             [
              0.2222222222222222,
              "#7201a8"
             ],
             [
              0.3333333333333333,
              "#9c179e"
             ],
             [
              0.4444444444444444,
              "#bd3786"
             ],
             [
              0.5555555555555556,
              "#d8576b"
             ],
             [
              0.6666666666666666,
              "#ed7953"
             ],
             [
              0.7777777777777778,
              "#fb9f3a"
             ],
             [
              0.8888888888888888,
              "#fdca26"
             ],
             [
              1,
              "#f0f921"
             ]
            ],
            "type": "contour"
           }
          ],
          "contourcarpet": [
           {
            "colorbar": {
             "outlinewidth": 0,
             "ticks": ""
            },
            "type": "contourcarpet"
           }
          ],
          "heatmap": [
           {
            "colorbar": {
             "outlinewidth": 0,
             "ticks": ""
            },
            "colorscale": [
             [
              0,
              "#0d0887"
             ],
             [
              0.1111111111111111,
              "#46039f"
             ],
             [
              0.2222222222222222,
              "#7201a8"
             ],
             [
              0.3333333333333333,
              "#9c179e"
             ],
             [
              0.4444444444444444,
              "#bd3786"
             ],
             [
              0.5555555555555556,
              "#d8576b"
             ],
             [
              0.6666666666666666,
              "#ed7953"
             ],
             [
              0.7777777777777778,
              "#fb9f3a"
             ],
             [
              0.8888888888888888,
              "#fdca26"
             ],
             [
              1,
              "#f0f921"
             ]
            ],
            "type": "heatmap"
           }
          ],
          "heatmapgl": [
           {
            "colorbar": {
             "outlinewidth": 0,
             "ticks": ""
            },
            "colorscale": [
             [
              0,
              "#0d0887"
             ],
             [
              0.1111111111111111,
              "#46039f"
             ],
             [
              0.2222222222222222,
              "#7201a8"
             ],
             [
              0.3333333333333333,
              "#9c179e"
             ],
             [
              0.4444444444444444,
              "#bd3786"
             ],
             [
              0.5555555555555556,
              "#d8576b"
             ],
             [
              0.6666666666666666,
              "#ed7953"
             ],
             [
              0.7777777777777778,
              "#fb9f3a"
             ],
             [
              0.8888888888888888,
              "#fdca26"
             ],
             [
              1,
              "#f0f921"
             ]
            ],
            "type": "heatmapgl"
           }
          ],
          "histogram": [
           {
            "marker": {
             "colorbar": {
              "outlinewidth": 0,
              "ticks": ""
             }
            },
            "type": "histogram"
           }
          ],
          "histogram2d": [
           {
            "colorbar": {
             "outlinewidth": 0,
             "ticks": ""
            },
            "colorscale": [
             [
              0,
              "#0d0887"
             ],
             [
              0.1111111111111111,
              "#46039f"
             ],
             [
              0.2222222222222222,
              "#7201a8"
             ],
             [
              0.3333333333333333,
              "#9c179e"
             ],
             [
              0.4444444444444444,
              "#bd3786"
             ],
             [
              0.5555555555555556,
              "#d8576b"
             ],
             [
              0.6666666666666666,
              "#ed7953"
             ],
             [
              0.7777777777777778,
              "#fb9f3a"
             ],
             [
              0.8888888888888888,
              "#fdca26"
             ],
             [
              1,
              "#f0f921"
             ]
            ],
            "type": "histogram2d"
           }
          ],
          "histogram2dcontour": [
           {
            "colorbar": {
             "outlinewidth": 0,
             "ticks": ""
            },
            "colorscale": [
             [
              0,
              "#0d0887"
             ],
             [
              0.1111111111111111,
              "#46039f"
             ],
             [
              0.2222222222222222,
              "#7201a8"
             ],
             [
              0.3333333333333333,
              "#9c179e"
             ],
             [
              0.4444444444444444,
              "#bd3786"
             ],
             [
              0.5555555555555556,
              "#d8576b"
             ],
             [
              0.6666666666666666,
              "#ed7953"
             ],
             [
              0.7777777777777778,
              "#fb9f3a"
             ],
             [
              0.8888888888888888,
              "#fdca26"
             ],
             [
              1,
              "#f0f921"
             ]
            ],
            "type": "histogram2dcontour"
           }
          ],
          "mesh3d": [
           {
            "colorbar": {
             "outlinewidth": 0,
             "ticks": ""
            },
            "type": "mesh3d"
           }
          ],
          "parcoords": [
           {
            "line": {
             "colorbar": {
              "outlinewidth": 0,
              "ticks": ""
             }
            },
            "type": "parcoords"
           }
          ],
          "pie": [
           {
            "automargin": true,
            "type": "pie"
           }
          ],
          "scatter": [
           {
            "marker": {
             "colorbar": {
              "outlinewidth": 0,
              "ticks": ""
             }
            },
            "type": "scatter"
           }
          ],
          "scatter3d": [
           {
            "line": {
             "colorbar": {
              "outlinewidth": 0,
              "ticks": ""
             }
            },
            "marker": {
             "colorbar": {
              "outlinewidth": 0,
              "ticks": ""
             }
            },
            "type": "scatter3d"
           }
          ],
          "scattercarpet": [
           {
            "marker": {
             "colorbar": {
              "outlinewidth": 0,
              "ticks": ""
             }
            },
            "type": "scattercarpet"
           }
          ],
          "scattergeo": [
           {
            "marker": {
             "colorbar": {
              "outlinewidth": 0,
              "ticks": ""
             }
            },
            "type": "scattergeo"
           }
          ],
          "scattergl": [
           {
            "marker": {
             "colorbar": {
              "outlinewidth": 0,
              "ticks": ""
             }
            },
            "type": "scattergl"
           }
          ],
          "scattermapbox": [
           {
            "marker": {
             "colorbar": {
              "outlinewidth": 0,
              "ticks": ""
             }
            },
            "type": "scattermapbox"
           }
          ],
          "scatterpolar": [
           {
            "marker": {
             "colorbar": {
              "outlinewidth": 0,
              "ticks": ""
             }
            },
            "type": "scatterpolar"
           }
          ],
          "scatterpolargl": [
           {
            "marker": {
             "colorbar": {
              "outlinewidth": 0,
              "ticks": ""
             }
            },
            "type": "scatterpolargl"
           }
          ],
          "scatterternary": [
           {
            "marker": {
             "colorbar": {
              "outlinewidth": 0,
              "ticks": ""
             }
            },
            "type": "scatterternary"
           }
          ],
          "surface": [
           {
            "colorbar": {
             "outlinewidth": 0,
             "ticks": ""
            },
            "colorscale": [
             [
              0,
              "#0d0887"
             ],
             [
              0.1111111111111111,
              "#46039f"
             ],
             [
              0.2222222222222222,
              "#7201a8"
             ],
             [
              0.3333333333333333,
              "#9c179e"
             ],
             [
              0.4444444444444444,
              "#bd3786"
             ],
             [
              0.5555555555555556,
              "#d8576b"
             ],
             [
              0.6666666666666666,
              "#ed7953"
             ],
             [
              0.7777777777777778,
              "#fb9f3a"
             ],
             [
              0.8888888888888888,
              "#fdca26"
             ],
             [
              1,
              "#f0f921"
             ]
            ],
            "type": "surface"
           }
          ],
          "table": [
           {
            "cells": {
             "fill": {
              "color": "#EBF0F8"
             },
             "line": {
              "color": "white"
             }
            },
            "header": {
             "fill": {
              "color": "#C8D4E3"
             },
             "line": {
              "color": "white"
             }
            },
            "type": "table"
           }
          ]
         },
         "layout": {
          "annotationdefaults": {
           "arrowcolor": "#2a3f5f",
           "arrowhead": 0,
           "arrowwidth": 1
          },
          "coloraxis": {
           "colorbar": {
            "outlinewidth": 0,
            "ticks": ""
           }
          },
          "colorscale": {
           "diverging": [
            [
             0,
             "#8e0152"
            ],
            [
             0.1,
             "#c51b7d"
            ],
            [
             0.2,
             "#de77ae"
            ],
            [
             0.3,
             "#f1b6da"
            ],
            [
             0.4,
             "#fde0ef"
            ],
            [
             0.5,
             "#f7f7f7"
            ],
            [
             0.6,
             "#e6f5d0"
            ],
            [
             0.7,
             "#b8e186"
            ],
            [
             0.8,
             "#7fbc41"
            ],
            [
             0.9,
             "#4d9221"
            ],
            [
             1,
             "#276419"
            ]
           ],
           "sequential": [
            [
             0,
             "#0d0887"
            ],
            [
             0.1111111111111111,
             "#46039f"
            ],
            [
             0.2222222222222222,
             "#7201a8"
            ],
            [
             0.3333333333333333,
             "#9c179e"
            ],
            [
             0.4444444444444444,
             "#bd3786"
            ],
            [
             0.5555555555555556,
             "#d8576b"
            ],
            [
             0.6666666666666666,
             "#ed7953"
            ],
            [
             0.7777777777777778,
             "#fb9f3a"
            ],
            [
             0.8888888888888888,
             "#fdca26"
            ],
            [
             1,
             "#f0f921"
            ]
           ],
           "sequentialminus": [
            [
             0,
             "#0d0887"
            ],
            [
             0.1111111111111111,
             "#46039f"
            ],
            [
             0.2222222222222222,
             "#7201a8"
            ],
            [
             0.3333333333333333,
             "#9c179e"
            ],
            [
             0.4444444444444444,
             "#bd3786"
            ],
            [
             0.5555555555555556,
             "#d8576b"
            ],
            [
             0.6666666666666666,
             "#ed7953"
            ],
            [
             0.7777777777777778,
             "#fb9f3a"
            ],
            [
             0.8888888888888888,
             "#fdca26"
            ],
            [
             1,
             "#f0f921"
            ]
           ]
          },
          "colorway": [
           "#636efa",
           "#EF553B",
           "#00cc96",
           "#ab63fa",
           "#FFA15A",
           "#19d3f3",
           "#FF6692",
           "#B6E880",
           "#FF97FF",
           "#FECB52"
          ],
          "font": {
           "color": "#2a3f5f"
          },
          "geo": {
           "bgcolor": "white",
           "lakecolor": "white",
           "landcolor": "#E5ECF6",
           "showlakes": true,
           "showland": true,
           "subunitcolor": "white"
          },
          "hoverlabel": {
           "align": "left"
          },
          "hovermode": "closest",
          "mapbox": {
           "style": "light"
          },
          "paper_bgcolor": "white",
          "plot_bgcolor": "#E5ECF6",
          "polar": {
           "angularaxis": {
            "gridcolor": "white",
            "linecolor": "white",
            "ticks": ""
           },
           "bgcolor": "#E5ECF6",
           "radialaxis": {
            "gridcolor": "white",
            "linecolor": "white",
            "ticks": ""
           }
          },
          "scene": {
           "xaxis": {
            "backgroundcolor": "#E5ECF6",
            "gridcolor": "white",
            "gridwidth": 2,
            "linecolor": "white",
            "showbackground": true,
            "ticks": "",
            "zerolinecolor": "white"
           },
           "yaxis": {
            "backgroundcolor": "#E5ECF6",
            "gridcolor": "white",
            "gridwidth": 2,
            "linecolor": "white",
            "showbackground": true,
            "ticks": "",
            "zerolinecolor": "white"
           },
           "zaxis": {
            "backgroundcolor": "#E5ECF6",
            "gridcolor": "white",
            "gridwidth": 2,
            "linecolor": "white",
            "showbackground": true,
            "ticks": "",
            "zerolinecolor": "white"
           }
          },
          "shapedefaults": {
           "line": {
            "color": "#2a3f5f"
           }
          },
          "ternary": {
           "aaxis": {
            "gridcolor": "white",
            "linecolor": "white",
            "ticks": ""
           },
           "baxis": {
            "gridcolor": "white",
            "linecolor": "white",
            "ticks": ""
           },
           "bgcolor": "#E5ECF6",
           "caxis": {
            "gridcolor": "white",
            "linecolor": "white",
            "ticks": ""
           }
          },
          "title": {
           "x": 0.05
          },
          "xaxis": {
           "automargin": true,
           "gridcolor": "white",
           "linecolor": "white",
           "ticks": "",
           "title": {
            "standoff": 15
           },
           "zerolinecolor": "white",
           "zerolinewidth": 2
          },
          "yaxis": {
           "automargin": true,
           "gridcolor": "white",
           "linecolor": "white",
           "ticks": "",
           "title": {
            "standoff": 15
           },
           "zerolinecolor": "white",
           "zerolinewidth": 2
          }
         }
        },
        "title": {
         "font": {
          "color": "#4D5663"
         },
         "text": "Recovered"
        },
        "xaxis": {
         "gridcolor": "#E1E5ED",
         "showgrid": true,
         "tickfont": {
          "color": "#4D5663"
         },
         "title": {
          "font": {
           "color": "#4D5663"
          },
          "text": "State"
         },
         "zerolinecolor": "#E1E5ED"
        },
        "yaxis": {
         "gridcolor": "#E1E5ED",
         "showgrid": true,
         "tickfont": {
          "color": "#4D5663"
         },
         "title": {
          "font": {
           "color": "#4D5663"
          },
          "text": "Recovered"
         },
         "zerolinecolor": "#E1E5ED"
        }
       }
      },
      "text/html": [
       "<div>\n",
       "        \n",
       "        \n",
       "            <div id=\"cf64e48c-168c-46f9-bcc7-acdc9425415d\" class=\"plotly-graph-div\" style=\"height:525px; width:100%;\"></div>\n",
       "            <script type=\"text/javascript\">\n",
       "                require([\"plotly\"], function(Plotly) {\n",
       "                    window.PLOTLYENV=window.PLOTLYENV || {};\n",
       "                    window.PLOTLYENV.BASE_URL='https://plot.ly';\n",
       "                    \n",
       "                if (document.getElementById(\"cf64e48c-168c-46f9-bcc7-acdc9425415d\")) {\n",
       "                    Plotly.newPlot(\n",
       "                        'cf64e48c-168c-46f9-bcc7-acdc9425415d',\n",
       "                        [{\"line\": {\"color\": \"rgba(55, 128, 191, 1.0)\", \"dash\": \"solid\", \"shape\": \"linear\", \"width\": 1.3}, \"marker\": {\"size\": 0, \"symbol\": \"circle\"}, \"mode\": \"markers+lines\", \"name\": \"Recovered\", \"text\": \"\", \"type\": \"scatter\", \"x\": [\"Total\", \"Maharashtra\", \"Gujarat\", \"Tamil Nadu\", \"Delhi\", \"Rajasthan\", \"Madhya Pradesh\", \"Uttar Pradesh\", \"Andhra Pradesh\", \"Punjab\", \"West Bengal\", \"Telangana\", \"Jammu and Kashmir\", \"Karnataka\", \"Haryana\", \"Bihar\", \"Kerala\", \"Odisha\", \"Chandigarh\", \"Jharkhand\", \"Tripura\", \"Uttarakhand\", \"Chhattisgarh\", \"Assam\", \"Himachal Pradesh\", \"Ladakh\", \"Andaman and Nicobar Islands\", \"Meghalaya\", \"Puducherry\", \"Goa\", \"Manipur\", \"Mizoram\", \"Arunachal Pradesh\", \"Dadra and Nagar Haveli and Daman and Diu\", \"Nagaland\", \"Daman and Diu\", \"Lakshadweep\", \"Sikkim\"], \"y\": [17887, 3470, 1872, 1605, 2020, 2011, 1349, 1387, 842, 152, 323, 727, 364, 376, 279, 267, 484, 63, 21, 41, 2, 45, 38, 35, 34, 18, 33, 10, 8, 7, 2, 1, 1, 0, 0, 0, 0, 0]}],\n",
       "                        {\"legend\": {\"bgcolor\": \"#F5F6F9\", \"font\": {\"color\": \"#4D5663\"}}, \"paper_bgcolor\": \"#F5F6F9\", \"plot_bgcolor\": \"#F5F6F9\", \"template\": {\"data\": {\"bar\": [{\"error_x\": {\"color\": \"#2a3f5f\"}, \"error_y\": {\"color\": \"#2a3f5f\"}, \"marker\": {\"line\": {\"color\": \"#E5ECF6\", \"width\": 0.5}}, \"type\": \"bar\"}], \"barpolar\": [{\"marker\": {\"line\": {\"color\": \"#E5ECF6\", \"width\": 0.5}}, \"type\": \"barpolar\"}], \"carpet\": [{\"aaxis\": {\"endlinecolor\": \"#2a3f5f\", \"gridcolor\": \"white\", \"linecolor\": \"white\", \"minorgridcolor\": \"white\", \"startlinecolor\": \"#2a3f5f\"}, \"baxis\": {\"endlinecolor\": \"#2a3f5f\", \"gridcolor\": \"white\", \"linecolor\": \"white\", \"minorgridcolor\": \"white\", \"startlinecolor\": \"#2a3f5f\"}, \"type\": \"carpet\"}], \"choropleth\": [{\"colorbar\": {\"outlinewidth\": 0, \"ticks\": \"\"}, \"type\": \"choropleth\"}], \"contour\": [{\"colorbar\": {\"outlinewidth\": 0, \"ticks\": \"\"}, \"colorscale\": [[0.0, \"#0d0887\"], [0.1111111111111111, \"#46039f\"], [0.2222222222222222, \"#7201a8\"], [0.3333333333333333, \"#9c179e\"], [0.4444444444444444, \"#bd3786\"], [0.5555555555555556, \"#d8576b\"], [0.6666666666666666, \"#ed7953\"], [0.7777777777777778, \"#fb9f3a\"], [0.8888888888888888, \"#fdca26\"], [1.0, \"#f0f921\"]], \"type\": \"contour\"}], \"contourcarpet\": [{\"colorbar\": {\"outlinewidth\": 0, \"ticks\": \"\"}, \"type\": \"contourcarpet\"}], \"heatmap\": [{\"colorbar\": {\"outlinewidth\": 0, \"ticks\": \"\"}, \"colorscale\": [[0.0, \"#0d0887\"], [0.1111111111111111, \"#46039f\"], [0.2222222222222222, \"#7201a8\"], [0.3333333333333333, \"#9c179e\"], [0.4444444444444444, \"#bd3786\"], [0.5555555555555556, \"#d8576b\"], [0.6666666666666666, \"#ed7953\"], [0.7777777777777778, \"#fb9f3a\"], [0.8888888888888888, \"#fdca26\"], [1.0, \"#f0f921\"]], \"type\": \"heatmap\"}], \"heatmapgl\": [{\"colorbar\": {\"outlinewidth\": 0, \"ticks\": \"\"}, \"colorscale\": [[0.0, \"#0d0887\"], [0.1111111111111111, \"#46039f\"], [0.2222222222222222, \"#7201a8\"], [0.3333333333333333, \"#9c179e\"], [0.4444444444444444, \"#bd3786\"], [0.5555555555555556, \"#d8576b\"], [0.6666666666666666, \"#ed7953\"], [0.7777777777777778, \"#fb9f3a\"], [0.8888888888888888, \"#fdca26\"], [1.0, \"#f0f921\"]], \"type\": \"heatmapgl\"}], \"histogram\": [{\"marker\": {\"colorbar\": {\"outlinewidth\": 0, \"ticks\": \"\"}}, \"type\": \"histogram\"}], \"histogram2d\": [{\"colorbar\": {\"outlinewidth\": 0, \"ticks\": \"\"}, \"colorscale\": [[0.0, \"#0d0887\"], [0.1111111111111111, \"#46039f\"], [0.2222222222222222, \"#7201a8\"], [0.3333333333333333, \"#9c179e\"], [0.4444444444444444, \"#bd3786\"], [0.5555555555555556, \"#d8576b\"], [0.6666666666666666, \"#ed7953\"], [0.7777777777777778, \"#fb9f3a\"], [0.8888888888888888, \"#fdca26\"], [1.0, \"#f0f921\"]], \"type\": \"histogram2d\"}], \"histogram2dcontour\": [{\"colorbar\": {\"outlinewidth\": 0, \"ticks\": \"\"}, \"colorscale\": [[0.0, \"#0d0887\"], [0.1111111111111111, \"#46039f\"], [0.2222222222222222, \"#7201a8\"], [0.3333333333333333, \"#9c179e\"], [0.4444444444444444, \"#bd3786\"], [0.5555555555555556, \"#d8576b\"], [0.6666666666666666, \"#ed7953\"], [0.7777777777777778, \"#fb9f3a\"], [0.8888888888888888, \"#fdca26\"], [1.0, \"#f0f921\"]], \"type\": \"histogram2dcontour\"}], \"mesh3d\": [{\"colorbar\": {\"outlinewidth\": 0, \"ticks\": \"\"}, \"type\": \"mesh3d\"}], \"parcoords\": [{\"line\": {\"colorbar\": {\"outlinewidth\": 0, \"ticks\": \"\"}}, \"type\": \"parcoords\"}], \"pie\": [{\"automargin\": true, \"type\": \"pie\"}], \"scatter\": [{\"marker\": {\"colorbar\": {\"outlinewidth\": 0, \"ticks\": \"\"}}, \"type\": \"scatter\"}], \"scatter3d\": [{\"line\": {\"colorbar\": {\"outlinewidth\": 0, \"ticks\": \"\"}}, \"marker\": {\"colorbar\": {\"outlinewidth\": 0, \"ticks\": \"\"}}, \"type\": \"scatter3d\"}], \"scattercarpet\": [{\"marker\": {\"colorbar\": {\"outlinewidth\": 0, \"ticks\": \"\"}}, \"type\": \"scattercarpet\"}], \"scattergeo\": [{\"marker\": {\"colorbar\": {\"outlinewidth\": 0, \"ticks\": \"\"}}, \"type\": \"scattergeo\"}], \"scattergl\": [{\"marker\": {\"colorbar\": {\"outlinewidth\": 0, \"ticks\": \"\"}}, \"type\": \"scattergl\"}], \"scattermapbox\": [{\"marker\": {\"colorbar\": {\"outlinewidth\": 0, \"ticks\": \"\"}}, \"type\": \"scattermapbox\"}], \"scatterpolar\": [{\"marker\": {\"colorbar\": {\"outlinewidth\": 0, \"ticks\": \"\"}}, \"type\": \"scatterpolar\"}], \"scatterpolargl\": [{\"marker\": {\"colorbar\": {\"outlinewidth\": 0, \"ticks\": \"\"}}, \"type\": \"scatterpolargl\"}], \"scatterternary\": [{\"marker\": {\"colorbar\": {\"outlinewidth\": 0, \"ticks\": \"\"}}, \"type\": \"scatterternary\"}], \"surface\": [{\"colorbar\": {\"outlinewidth\": 0, \"ticks\": \"\"}, \"colorscale\": [[0.0, \"#0d0887\"], [0.1111111111111111, \"#46039f\"], [0.2222222222222222, \"#7201a8\"], [0.3333333333333333, \"#9c179e\"], [0.4444444444444444, \"#bd3786\"], [0.5555555555555556, \"#d8576b\"], [0.6666666666666666, \"#ed7953\"], [0.7777777777777778, \"#fb9f3a\"], [0.8888888888888888, \"#fdca26\"], [1.0, \"#f0f921\"]], \"type\": \"surface\"}], \"table\": [{\"cells\": {\"fill\": {\"color\": \"#EBF0F8\"}, \"line\": {\"color\": \"white\"}}, \"header\": {\"fill\": {\"color\": \"#C8D4E3\"}, \"line\": {\"color\": \"white\"}}, \"type\": \"table\"}]}, \"layout\": {\"annotationdefaults\": {\"arrowcolor\": \"#2a3f5f\", \"arrowhead\": 0, \"arrowwidth\": 1}, \"coloraxis\": {\"colorbar\": {\"outlinewidth\": 0, \"ticks\": \"\"}}, \"colorscale\": {\"diverging\": [[0, \"#8e0152\"], [0.1, \"#c51b7d\"], [0.2, \"#de77ae\"], [0.3, \"#f1b6da\"], [0.4, \"#fde0ef\"], [0.5, \"#f7f7f7\"], [0.6, \"#e6f5d0\"], [0.7, \"#b8e186\"], [0.8, \"#7fbc41\"], [0.9, \"#4d9221\"], [1, \"#276419\"]], \"sequential\": [[0.0, \"#0d0887\"], [0.1111111111111111, \"#46039f\"], [0.2222222222222222, \"#7201a8\"], [0.3333333333333333, \"#9c179e\"], [0.4444444444444444, \"#bd3786\"], [0.5555555555555556, \"#d8576b\"], [0.6666666666666666, \"#ed7953\"], [0.7777777777777778, \"#fb9f3a\"], [0.8888888888888888, \"#fdca26\"], [1.0, \"#f0f921\"]], \"sequentialminus\": [[0.0, \"#0d0887\"], [0.1111111111111111, \"#46039f\"], [0.2222222222222222, \"#7201a8\"], [0.3333333333333333, \"#9c179e\"], [0.4444444444444444, \"#bd3786\"], [0.5555555555555556, \"#d8576b\"], [0.6666666666666666, \"#ed7953\"], [0.7777777777777778, \"#fb9f3a\"], [0.8888888888888888, \"#fdca26\"], [1.0, \"#f0f921\"]]}, \"colorway\": [\"#636efa\", \"#EF553B\", \"#00cc96\", \"#ab63fa\", \"#FFA15A\", \"#19d3f3\", \"#FF6692\", \"#B6E880\", \"#FF97FF\", \"#FECB52\"], \"font\": {\"color\": \"#2a3f5f\"}, \"geo\": {\"bgcolor\": \"white\", \"lakecolor\": \"white\", \"landcolor\": \"#E5ECF6\", \"showlakes\": true, \"showland\": true, \"subunitcolor\": \"white\"}, \"hoverlabel\": {\"align\": \"left\"}, \"hovermode\": \"closest\", \"mapbox\": {\"style\": \"light\"}, \"paper_bgcolor\": \"white\", \"plot_bgcolor\": \"#E5ECF6\", \"polar\": {\"angularaxis\": {\"gridcolor\": \"white\", \"linecolor\": \"white\", \"ticks\": \"\"}, \"bgcolor\": \"#E5ECF6\", \"radialaxis\": {\"gridcolor\": \"white\", \"linecolor\": \"white\", \"ticks\": \"\"}}, \"scene\": {\"xaxis\": {\"backgroundcolor\": \"#E5ECF6\", \"gridcolor\": \"white\", \"gridwidth\": 2, \"linecolor\": \"white\", \"showbackground\": true, \"ticks\": \"\", \"zerolinecolor\": \"white\"}, \"yaxis\": {\"backgroundcolor\": \"#E5ECF6\", \"gridcolor\": \"white\", \"gridwidth\": 2, \"linecolor\": \"white\", \"showbackground\": true, \"ticks\": \"\", \"zerolinecolor\": \"white\"}, \"zaxis\": {\"backgroundcolor\": \"#E5ECF6\", \"gridcolor\": \"white\", \"gridwidth\": 2, \"linecolor\": \"white\", \"showbackground\": true, \"ticks\": \"\", \"zerolinecolor\": \"white\"}}, \"shapedefaults\": {\"line\": {\"color\": \"#2a3f5f\"}}, \"ternary\": {\"aaxis\": {\"gridcolor\": \"white\", \"linecolor\": \"white\", \"ticks\": \"\"}, \"baxis\": {\"gridcolor\": \"white\", \"linecolor\": \"white\", \"ticks\": \"\"}, \"bgcolor\": \"#E5ECF6\", \"caxis\": {\"gridcolor\": \"white\", \"linecolor\": \"white\", \"ticks\": \"\"}}, \"title\": {\"x\": 0.05}, \"xaxis\": {\"automargin\": true, \"gridcolor\": \"white\", \"linecolor\": \"white\", \"ticks\": \"\", \"title\": {\"standoff\": 15}, \"zerolinecolor\": \"white\", \"zerolinewidth\": 2}, \"yaxis\": {\"automargin\": true, \"gridcolor\": \"white\", \"linecolor\": \"white\", \"ticks\": \"\", \"title\": {\"standoff\": 15}, \"zerolinecolor\": \"white\", \"zerolinewidth\": 2}}}, \"title\": {\"font\": {\"color\": \"#4D5663\"}, \"text\": \"Recovered\"}, \"xaxis\": {\"gridcolor\": \"#E1E5ED\", \"showgrid\": true, \"tickfont\": {\"color\": \"#4D5663\"}, \"title\": {\"font\": {\"color\": \"#4D5663\"}, \"text\": \"State\"}, \"zerolinecolor\": \"#E1E5ED\"}, \"yaxis\": {\"gridcolor\": \"#E1E5ED\", \"showgrid\": true, \"tickfont\": {\"color\": \"#4D5663\"}, \"title\": {\"font\": {\"color\": \"#4D5663\"}, \"text\": \"Recovered\"}, \"zerolinecolor\": \"#E1E5ED\"}},\n",
       "                        {\"showLink\": true, \"linkText\": \"Export to plot.ly\", \"plotlyServerURL\": \"https://plot.ly\", \"responsive\": true}\n",
       "                    ).then(function(){\n",
       "                            \n",
       "var gd = document.getElementById('cf64e48c-168c-46f9-bcc7-acdc9425415d');\n",
       "var x = new MutationObserver(function (mutations, observer) {{\n",
       "        var display = window.getComputedStyle(gd).display;\n",
       "        if (!display || display === 'none') {{\n",
       "            console.log([gd, 'removed!']);\n",
       "            Plotly.purge(gd);\n",
       "            observer.disconnect();\n",
       "        }}\n",
       "}});\n",
       "\n",
       "// Listen for the removal of the full notebook cells\n",
       "var notebookContainer = gd.closest('#notebook-container');\n",
       "if (notebookContainer) {{\n",
       "    x.observe(notebookContainer, {childList: true});\n",
       "}}\n",
       "\n",
       "// Listen for the clearing of the current output cell\n",
       "var outputEl = gd.closest('.output');\n",
       "if (outputEl) {{\n",
       "    x.observe(outputEl, {childList: true});\n",
       "}}\n",
       "\n",
       "                        })\n",
       "                };\n",
       "                });\n",
       "            </script>\n",
       "        </div>"
      ]
     },
     "metadata": {},
     "output_type": "display_data"
    }
   ],
   "source": [
    "df.iplot(kind=\"scatter\",x=\"State\",y=\"Recovered\",mode='markers+lines',title=\"Recovered\",xTitle=\"State\",yTitle=\"Recovered\",colors='blue',size=0)"
   ]
  },
  {
   "cell_type": "markdown",
   "metadata": {},
   "source": [
    "# Deaths as per State"
   ]
  },
  {
   "cell_type": "code",
   "execution_count": 20,
   "metadata": {},
   "outputs": [
    {
     "data": {
      "application/vnd.plotly.v1+json": {
       "config": {
        "linkText": "Export to plot.ly",
        "plotlyServerURL": "https://plot.ly",
        "showLink": true
       },
       "data": [
        {
         "line": {
          "color": "rgba(55, 128, 191, 1.0)",
          "dash": "solid",
          "shape": "linear",
          "width": 1.3
         },
         "marker": {
          "size": 0,
          "symbol": "circle"
         },
         "mode": "markers+lines",
         "name": "Deaths",
         "text": "",
         "type": "scatter",
         "x": [
          "Total",
          "Maharashtra",
          "Gujarat",
          "Tamil Nadu",
          "Delhi",
          "Rajasthan",
          "Madhya Pradesh",
          "Uttar Pradesh",
          "Andhra Pradesh",
          "Punjab",
          "West Bengal",
          "Telangana",
          "Jammu and Kashmir",
          "Karnataka",
          "Haryana",
          "Bihar",
          "Kerala",
          "Odisha",
          "Chandigarh",
          "Jharkhand",
          "Tripura",
          "Uttarakhand",
          "Chhattisgarh",
          "Assam",
          "Himachal Pradesh",
          "Ladakh",
          "Andaman and Nicobar Islands",
          "Meghalaya",
          "Puducherry",
          "Goa",
          "Manipur",
          "Mizoram",
          "Arunachal Pradesh",
          "Dadra and Nagar Haveli and Daman and Diu",
          "Nagaland",
          "Daman and Diu",
          "Lakshadweep",
          "Sikkim"
         ],
         "y": [
          1985,
          731,
          449,
          40,
          68,
          103,
          200,
          66,
          41,
          29,
          160,
          29,
          9,
          30,
          8,
          5,
          4,
          2,
          1,
          3,
          0,
          1,
          0,
          2,
          3,
          0,
          0,
          1,
          0,
          0,
          0,
          0,
          0,
          0,
          0,
          0,
          0,
          0
         ]
        }
       ],
       "layout": {
        "legend": {
         "bgcolor": "#F5F6F9",
         "font": {
          "color": "#4D5663"
         }
        },
        "paper_bgcolor": "#F5F6F9",
        "plot_bgcolor": "#F5F6F9",
        "template": {
         "data": {
          "bar": [
           {
            "error_x": {
             "color": "#2a3f5f"
            },
            "error_y": {
             "color": "#2a3f5f"
            },
            "marker": {
             "line": {
              "color": "#E5ECF6",
              "width": 0.5
             }
            },
            "type": "bar"
           }
          ],
          "barpolar": [
           {
            "marker": {
             "line": {
              "color": "#E5ECF6",
              "width": 0.5
             }
            },
            "type": "barpolar"
           }
          ],
          "carpet": [
           {
            "aaxis": {
             "endlinecolor": "#2a3f5f",
             "gridcolor": "white",
             "linecolor": "white",
             "minorgridcolor": "white",
             "startlinecolor": "#2a3f5f"
            },
            "baxis": {
             "endlinecolor": "#2a3f5f",
             "gridcolor": "white",
             "linecolor": "white",
             "minorgridcolor": "white",
             "startlinecolor": "#2a3f5f"
            },
            "type": "carpet"
           }
          ],
          "choropleth": [
           {
            "colorbar": {
             "outlinewidth": 0,
             "ticks": ""
            },
            "type": "choropleth"
           }
          ],
          "contour": [
           {
            "colorbar": {
             "outlinewidth": 0,
             "ticks": ""
            },
            "colorscale": [
             [
              0,
              "#0d0887"
             ],
             [
              0.1111111111111111,
              "#46039f"
             ],
             [
              0.2222222222222222,
              "#7201a8"
             ],
             [
              0.3333333333333333,
              "#9c179e"
             ],
             [
              0.4444444444444444,
              "#bd3786"
             ],
             [
              0.5555555555555556,
              "#d8576b"
             ],
             [
              0.6666666666666666,
              "#ed7953"
             ],
             [
              0.7777777777777778,
              "#fb9f3a"
             ],
             [
              0.8888888888888888,
              "#fdca26"
             ],
             [
              1,
              "#f0f921"
             ]
            ],
            "type": "contour"
           }
          ],
          "contourcarpet": [
           {
            "colorbar": {
             "outlinewidth": 0,
             "ticks": ""
            },
            "type": "contourcarpet"
           }
          ],
          "heatmap": [
           {
            "colorbar": {
             "outlinewidth": 0,
             "ticks": ""
            },
            "colorscale": [
             [
              0,
              "#0d0887"
             ],
             [
              0.1111111111111111,
              "#46039f"
             ],
             [
              0.2222222222222222,
              "#7201a8"
             ],
             [
              0.3333333333333333,
              "#9c179e"
             ],
             [
              0.4444444444444444,
              "#bd3786"
             ],
             [
              0.5555555555555556,
              "#d8576b"
             ],
             [
              0.6666666666666666,
              "#ed7953"
             ],
             [
              0.7777777777777778,
              "#fb9f3a"
             ],
             [
              0.8888888888888888,
              "#fdca26"
             ],
             [
              1,
              "#f0f921"
             ]
            ],
            "type": "heatmap"
           }
          ],
          "heatmapgl": [
           {
            "colorbar": {
             "outlinewidth": 0,
             "ticks": ""
            },
            "colorscale": [
             [
              0,
              "#0d0887"
             ],
             [
              0.1111111111111111,
              "#46039f"
             ],
             [
              0.2222222222222222,
              "#7201a8"
             ],
             [
              0.3333333333333333,
              "#9c179e"
             ],
             [
              0.4444444444444444,
              "#bd3786"
             ],
             [
              0.5555555555555556,
              "#d8576b"
             ],
             [
              0.6666666666666666,
              "#ed7953"
             ],
             [
              0.7777777777777778,
              "#fb9f3a"
             ],
             [
              0.8888888888888888,
              "#fdca26"
             ],
             [
              1,
              "#f0f921"
             ]
            ],
            "type": "heatmapgl"
           }
          ],
          "histogram": [
           {
            "marker": {
             "colorbar": {
              "outlinewidth": 0,
              "ticks": ""
             }
            },
            "type": "histogram"
           }
          ],
          "histogram2d": [
           {
            "colorbar": {
             "outlinewidth": 0,
             "ticks": ""
            },
            "colorscale": [
             [
              0,
              "#0d0887"
             ],
             [
              0.1111111111111111,
              "#46039f"
             ],
             [
              0.2222222222222222,
              "#7201a8"
             ],
             [
              0.3333333333333333,
              "#9c179e"
             ],
             [
              0.4444444444444444,
              "#bd3786"
             ],
             [
              0.5555555555555556,
              "#d8576b"
             ],
             [
              0.6666666666666666,
              "#ed7953"
             ],
             [
              0.7777777777777778,
              "#fb9f3a"
             ],
             [
              0.8888888888888888,
              "#fdca26"
             ],
             [
              1,
              "#f0f921"
             ]
            ],
            "type": "histogram2d"
           }
          ],
          "histogram2dcontour": [
           {
            "colorbar": {
             "outlinewidth": 0,
             "ticks": ""
            },
            "colorscale": [
             [
              0,
              "#0d0887"
             ],
             [
              0.1111111111111111,
              "#46039f"
             ],
             [
              0.2222222222222222,
              "#7201a8"
             ],
             [
              0.3333333333333333,
              "#9c179e"
             ],
             [
              0.4444444444444444,
              "#bd3786"
             ],
             [
              0.5555555555555556,
              "#d8576b"
             ],
             [
              0.6666666666666666,
              "#ed7953"
             ],
             [
              0.7777777777777778,
              "#fb9f3a"
             ],
             [
              0.8888888888888888,
              "#fdca26"
             ],
             [
              1,
              "#f0f921"
             ]
            ],
            "type": "histogram2dcontour"
           }
          ],
          "mesh3d": [
           {
            "colorbar": {
             "outlinewidth": 0,
             "ticks": ""
            },
            "type": "mesh3d"
           }
          ],
          "parcoords": [
           {
            "line": {
             "colorbar": {
              "outlinewidth": 0,
              "ticks": ""
             }
            },
            "type": "parcoords"
           }
          ],
          "pie": [
           {
            "automargin": true,
            "type": "pie"
           }
          ],
          "scatter": [
           {
            "marker": {
             "colorbar": {
              "outlinewidth": 0,
              "ticks": ""
             }
            },
            "type": "scatter"
           }
          ],
          "scatter3d": [
           {
            "line": {
             "colorbar": {
              "outlinewidth": 0,
              "ticks": ""
             }
            },
            "marker": {
             "colorbar": {
              "outlinewidth": 0,
              "ticks": ""
             }
            },
            "type": "scatter3d"
           }
          ],
          "scattercarpet": [
           {
            "marker": {
             "colorbar": {
              "outlinewidth": 0,
              "ticks": ""
             }
            },
            "type": "scattercarpet"
           }
          ],
          "scattergeo": [
           {
            "marker": {
             "colorbar": {
              "outlinewidth": 0,
              "ticks": ""
             }
            },
            "type": "scattergeo"
           }
          ],
          "scattergl": [
           {
            "marker": {
             "colorbar": {
              "outlinewidth": 0,
              "ticks": ""
             }
            },
            "type": "scattergl"
           }
          ],
          "scattermapbox": [
           {
            "marker": {
             "colorbar": {
              "outlinewidth": 0,
              "ticks": ""
             }
            },
            "type": "scattermapbox"
           }
          ],
          "scatterpolar": [
           {
            "marker": {
             "colorbar": {
              "outlinewidth": 0,
              "ticks": ""
             }
            },
            "type": "scatterpolar"
           }
          ],
          "scatterpolargl": [
           {
            "marker": {
             "colorbar": {
              "outlinewidth": 0,
              "ticks": ""
             }
            },
            "type": "scatterpolargl"
           }
          ],
          "scatterternary": [
           {
            "marker": {
             "colorbar": {
              "outlinewidth": 0,
              "ticks": ""
             }
            },
            "type": "scatterternary"
           }
          ],
          "surface": [
           {
            "colorbar": {
             "outlinewidth": 0,
             "ticks": ""
            },
            "colorscale": [
             [
              0,
              "#0d0887"
             ],
             [
              0.1111111111111111,
              "#46039f"
             ],
             [
              0.2222222222222222,
              "#7201a8"
             ],
             [
              0.3333333333333333,
              "#9c179e"
             ],
             [
              0.4444444444444444,
              "#bd3786"
             ],
             [
              0.5555555555555556,
              "#d8576b"
             ],
             [
              0.6666666666666666,
              "#ed7953"
             ],
             [
              0.7777777777777778,
              "#fb9f3a"
             ],
             [
              0.8888888888888888,
              "#fdca26"
             ],
             [
              1,
              "#f0f921"
             ]
            ],
            "type": "surface"
           }
          ],
          "table": [
           {
            "cells": {
             "fill": {
              "color": "#EBF0F8"
             },
             "line": {
              "color": "white"
             }
            },
            "header": {
             "fill": {
              "color": "#C8D4E3"
             },
             "line": {
              "color": "white"
             }
            },
            "type": "table"
           }
          ]
         },
         "layout": {
          "annotationdefaults": {
           "arrowcolor": "#2a3f5f",
           "arrowhead": 0,
           "arrowwidth": 1
          },
          "coloraxis": {
           "colorbar": {
            "outlinewidth": 0,
            "ticks": ""
           }
          },
          "colorscale": {
           "diverging": [
            [
             0,
             "#8e0152"
            ],
            [
             0.1,
             "#c51b7d"
            ],
            [
             0.2,
             "#de77ae"
            ],
            [
             0.3,
             "#f1b6da"
            ],
            [
             0.4,
             "#fde0ef"
            ],
            [
             0.5,
             "#f7f7f7"
            ],
            [
             0.6,
             "#e6f5d0"
            ],
            [
             0.7,
             "#b8e186"
            ],
            [
             0.8,
             "#7fbc41"
            ],
            [
             0.9,
             "#4d9221"
            ],
            [
             1,
             "#276419"
            ]
           ],
           "sequential": [
            [
             0,
             "#0d0887"
            ],
            [
             0.1111111111111111,
             "#46039f"
            ],
            [
             0.2222222222222222,
             "#7201a8"
            ],
            [
             0.3333333333333333,
             "#9c179e"
            ],
            [
             0.4444444444444444,
             "#bd3786"
            ],
            [
             0.5555555555555556,
             "#d8576b"
            ],
            [
             0.6666666666666666,
             "#ed7953"
            ],
            [
             0.7777777777777778,
             "#fb9f3a"
            ],
            [
             0.8888888888888888,
             "#fdca26"
            ],
            [
             1,
             "#f0f921"
            ]
           ],
           "sequentialminus": [
            [
             0,
             "#0d0887"
            ],
            [
             0.1111111111111111,
             "#46039f"
            ],
            [
             0.2222222222222222,
             "#7201a8"
            ],
            [
             0.3333333333333333,
             "#9c179e"
            ],
            [
             0.4444444444444444,
             "#bd3786"
            ],
            [
             0.5555555555555556,
             "#d8576b"
            ],
            [
             0.6666666666666666,
             "#ed7953"
            ],
            [
             0.7777777777777778,
             "#fb9f3a"
            ],
            [
             0.8888888888888888,
             "#fdca26"
            ],
            [
             1,
             "#f0f921"
            ]
           ]
          },
          "colorway": [
           "#636efa",
           "#EF553B",
           "#00cc96",
           "#ab63fa",
           "#FFA15A",
           "#19d3f3",
           "#FF6692",
           "#B6E880",
           "#FF97FF",
           "#FECB52"
          ],
          "font": {
           "color": "#2a3f5f"
          },
          "geo": {
           "bgcolor": "white",
           "lakecolor": "white",
           "landcolor": "#E5ECF6",
           "showlakes": true,
           "showland": true,
           "subunitcolor": "white"
          },
          "hoverlabel": {
           "align": "left"
          },
          "hovermode": "closest",
          "mapbox": {
           "style": "light"
          },
          "paper_bgcolor": "white",
          "plot_bgcolor": "#E5ECF6",
          "polar": {
           "angularaxis": {
            "gridcolor": "white",
            "linecolor": "white",
            "ticks": ""
           },
           "bgcolor": "#E5ECF6",
           "radialaxis": {
            "gridcolor": "white",
            "linecolor": "white",
            "ticks": ""
           }
          },
          "scene": {
           "xaxis": {
            "backgroundcolor": "#E5ECF6",
            "gridcolor": "white",
            "gridwidth": 2,
            "linecolor": "white",
            "showbackground": true,
            "ticks": "",
            "zerolinecolor": "white"
           },
           "yaxis": {
            "backgroundcolor": "#E5ECF6",
            "gridcolor": "white",
            "gridwidth": 2,
            "linecolor": "white",
            "showbackground": true,
            "ticks": "",
            "zerolinecolor": "white"
           },
           "zaxis": {
            "backgroundcolor": "#E5ECF6",
            "gridcolor": "white",
            "gridwidth": 2,
            "linecolor": "white",
            "showbackground": true,
            "ticks": "",
            "zerolinecolor": "white"
           }
          },
          "shapedefaults": {
           "line": {
            "color": "#2a3f5f"
           }
          },
          "ternary": {
           "aaxis": {
            "gridcolor": "white",
            "linecolor": "white",
            "ticks": ""
           },
           "baxis": {
            "gridcolor": "white",
            "linecolor": "white",
            "ticks": ""
           },
           "bgcolor": "#E5ECF6",
           "caxis": {
            "gridcolor": "white",
            "linecolor": "white",
            "ticks": ""
           }
          },
          "title": {
           "x": 0.05
          },
          "xaxis": {
           "automargin": true,
           "gridcolor": "white",
           "linecolor": "white",
           "ticks": "",
           "title": {
            "standoff": 15
           },
           "zerolinecolor": "white",
           "zerolinewidth": 2
          },
          "yaxis": {
           "automargin": true,
           "gridcolor": "white",
           "linecolor": "white",
           "ticks": "",
           "title": {
            "standoff": 15
           },
           "zerolinecolor": "white",
           "zerolinewidth": 2
          }
         }
        },
        "title": {
         "font": {
          "color": "#4D5663"
         },
         "text": "Deaths"
        },
        "xaxis": {
         "gridcolor": "#E1E5ED",
         "showgrid": true,
         "tickfont": {
          "color": "#4D5663"
         },
         "title": {
          "font": {
           "color": "#4D5663"
          },
          "text": "State"
         },
         "zerolinecolor": "#E1E5ED"
        },
        "yaxis": {
         "gridcolor": "#E1E5ED",
         "showgrid": true,
         "tickfont": {
          "color": "#4D5663"
         },
         "title": {
          "font": {
           "color": "#4D5663"
          },
          "text": "Deaths"
         },
         "zerolinecolor": "#E1E5ED"
        }
       }
      },
      "text/html": [
       "<div>\n",
       "        \n",
       "        \n",
       "            <div id=\"5e2f4788-35d8-478a-bf04-83837880e47b\" class=\"plotly-graph-div\" style=\"height:525px; width:100%;\"></div>\n",
       "            <script type=\"text/javascript\">\n",
       "                require([\"plotly\"], function(Plotly) {\n",
       "                    window.PLOTLYENV=window.PLOTLYENV || {};\n",
       "                    window.PLOTLYENV.BASE_URL='https://plot.ly';\n",
       "                    \n",
       "                if (document.getElementById(\"5e2f4788-35d8-478a-bf04-83837880e47b\")) {\n",
       "                    Plotly.newPlot(\n",
       "                        '5e2f4788-35d8-478a-bf04-83837880e47b',\n",
       "                        [{\"line\": {\"color\": \"rgba(55, 128, 191, 1.0)\", \"dash\": \"solid\", \"shape\": \"linear\", \"width\": 1.3}, \"marker\": {\"size\": 0, \"symbol\": \"circle\"}, \"mode\": \"markers+lines\", \"name\": \"Deaths\", \"text\": \"\", \"type\": \"scatter\", \"x\": [\"Total\", \"Maharashtra\", \"Gujarat\", \"Tamil Nadu\", \"Delhi\", \"Rajasthan\", \"Madhya Pradesh\", \"Uttar Pradesh\", \"Andhra Pradesh\", \"Punjab\", \"West Bengal\", \"Telangana\", \"Jammu and Kashmir\", \"Karnataka\", \"Haryana\", \"Bihar\", \"Kerala\", \"Odisha\", \"Chandigarh\", \"Jharkhand\", \"Tripura\", \"Uttarakhand\", \"Chhattisgarh\", \"Assam\", \"Himachal Pradesh\", \"Ladakh\", \"Andaman and Nicobar Islands\", \"Meghalaya\", \"Puducherry\", \"Goa\", \"Manipur\", \"Mizoram\", \"Arunachal Pradesh\", \"Dadra and Nagar Haveli and Daman and Diu\", \"Nagaland\", \"Daman and Diu\", \"Lakshadweep\", \"Sikkim\"], \"y\": [1985, 731, 449, 40, 68, 103, 200, 66, 41, 29, 160, 29, 9, 30, 8, 5, 4, 2, 1, 3, 0, 1, 0, 2, 3, 0, 0, 1, 0, 0, 0, 0, 0, 0, 0, 0, 0, 0]}],\n",
       "                        {\"legend\": {\"bgcolor\": \"#F5F6F9\", \"font\": {\"color\": \"#4D5663\"}}, \"paper_bgcolor\": \"#F5F6F9\", \"plot_bgcolor\": \"#F5F6F9\", \"template\": {\"data\": {\"bar\": [{\"error_x\": {\"color\": \"#2a3f5f\"}, \"error_y\": {\"color\": \"#2a3f5f\"}, \"marker\": {\"line\": {\"color\": \"#E5ECF6\", \"width\": 0.5}}, \"type\": \"bar\"}], \"barpolar\": [{\"marker\": {\"line\": {\"color\": \"#E5ECF6\", \"width\": 0.5}}, \"type\": \"barpolar\"}], \"carpet\": [{\"aaxis\": {\"endlinecolor\": \"#2a3f5f\", \"gridcolor\": \"white\", \"linecolor\": \"white\", \"minorgridcolor\": \"white\", \"startlinecolor\": \"#2a3f5f\"}, \"baxis\": {\"endlinecolor\": \"#2a3f5f\", \"gridcolor\": \"white\", \"linecolor\": \"white\", \"minorgridcolor\": \"white\", \"startlinecolor\": \"#2a3f5f\"}, \"type\": \"carpet\"}], \"choropleth\": [{\"colorbar\": {\"outlinewidth\": 0, \"ticks\": \"\"}, \"type\": \"choropleth\"}], \"contour\": [{\"colorbar\": {\"outlinewidth\": 0, \"ticks\": \"\"}, \"colorscale\": [[0.0, \"#0d0887\"], [0.1111111111111111, \"#46039f\"], [0.2222222222222222, \"#7201a8\"], [0.3333333333333333, \"#9c179e\"], [0.4444444444444444, \"#bd3786\"], [0.5555555555555556, \"#d8576b\"], [0.6666666666666666, \"#ed7953\"], [0.7777777777777778, \"#fb9f3a\"], [0.8888888888888888, \"#fdca26\"], [1.0, \"#f0f921\"]], \"type\": \"contour\"}], \"contourcarpet\": [{\"colorbar\": {\"outlinewidth\": 0, \"ticks\": \"\"}, \"type\": \"contourcarpet\"}], \"heatmap\": [{\"colorbar\": {\"outlinewidth\": 0, \"ticks\": \"\"}, \"colorscale\": [[0.0, \"#0d0887\"], [0.1111111111111111, \"#46039f\"], [0.2222222222222222, \"#7201a8\"], [0.3333333333333333, \"#9c179e\"], [0.4444444444444444, \"#bd3786\"], [0.5555555555555556, \"#d8576b\"], [0.6666666666666666, \"#ed7953\"], [0.7777777777777778, \"#fb9f3a\"], [0.8888888888888888, \"#fdca26\"], [1.0, \"#f0f921\"]], \"type\": \"heatmap\"}], \"heatmapgl\": [{\"colorbar\": {\"outlinewidth\": 0, \"ticks\": \"\"}, \"colorscale\": [[0.0, \"#0d0887\"], [0.1111111111111111, \"#46039f\"], [0.2222222222222222, \"#7201a8\"], [0.3333333333333333, \"#9c179e\"], [0.4444444444444444, \"#bd3786\"], [0.5555555555555556, \"#d8576b\"], [0.6666666666666666, \"#ed7953\"], [0.7777777777777778, \"#fb9f3a\"], [0.8888888888888888, \"#fdca26\"], [1.0, \"#f0f921\"]], \"type\": \"heatmapgl\"}], \"histogram\": [{\"marker\": {\"colorbar\": {\"outlinewidth\": 0, \"ticks\": \"\"}}, \"type\": \"histogram\"}], \"histogram2d\": [{\"colorbar\": {\"outlinewidth\": 0, \"ticks\": \"\"}, \"colorscale\": [[0.0, \"#0d0887\"], [0.1111111111111111, \"#46039f\"], [0.2222222222222222, \"#7201a8\"], [0.3333333333333333, \"#9c179e\"], [0.4444444444444444, \"#bd3786\"], [0.5555555555555556, \"#d8576b\"], [0.6666666666666666, \"#ed7953\"], [0.7777777777777778, \"#fb9f3a\"], [0.8888888888888888, \"#fdca26\"], [1.0, \"#f0f921\"]], \"type\": \"histogram2d\"}], \"histogram2dcontour\": [{\"colorbar\": {\"outlinewidth\": 0, \"ticks\": \"\"}, \"colorscale\": [[0.0, \"#0d0887\"], [0.1111111111111111, \"#46039f\"], [0.2222222222222222, \"#7201a8\"], [0.3333333333333333, \"#9c179e\"], [0.4444444444444444, \"#bd3786\"], [0.5555555555555556, \"#d8576b\"], [0.6666666666666666, \"#ed7953\"], [0.7777777777777778, \"#fb9f3a\"], [0.8888888888888888, \"#fdca26\"], [1.0, \"#f0f921\"]], \"type\": \"histogram2dcontour\"}], \"mesh3d\": [{\"colorbar\": {\"outlinewidth\": 0, \"ticks\": \"\"}, \"type\": \"mesh3d\"}], \"parcoords\": [{\"line\": {\"colorbar\": {\"outlinewidth\": 0, \"ticks\": \"\"}}, \"type\": \"parcoords\"}], \"pie\": [{\"automargin\": true, \"type\": \"pie\"}], \"scatter\": [{\"marker\": {\"colorbar\": {\"outlinewidth\": 0, \"ticks\": \"\"}}, \"type\": \"scatter\"}], \"scatter3d\": [{\"line\": {\"colorbar\": {\"outlinewidth\": 0, \"ticks\": \"\"}}, \"marker\": {\"colorbar\": {\"outlinewidth\": 0, \"ticks\": \"\"}}, \"type\": \"scatter3d\"}], \"scattercarpet\": [{\"marker\": {\"colorbar\": {\"outlinewidth\": 0, \"ticks\": \"\"}}, \"type\": \"scattercarpet\"}], \"scattergeo\": [{\"marker\": {\"colorbar\": {\"outlinewidth\": 0, \"ticks\": \"\"}}, \"type\": \"scattergeo\"}], \"scattergl\": [{\"marker\": {\"colorbar\": {\"outlinewidth\": 0, \"ticks\": \"\"}}, \"type\": \"scattergl\"}], \"scattermapbox\": [{\"marker\": {\"colorbar\": {\"outlinewidth\": 0, \"ticks\": \"\"}}, \"type\": \"scattermapbox\"}], \"scatterpolar\": [{\"marker\": {\"colorbar\": {\"outlinewidth\": 0, \"ticks\": \"\"}}, \"type\": \"scatterpolar\"}], \"scatterpolargl\": [{\"marker\": {\"colorbar\": {\"outlinewidth\": 0, \"ticks\": \"\"}}, \"type\": \"scatterpolargl\"}], \"scatterternary\": [{\"marker\": {\"colorbar\": {\"outlinewidth\": 0, \"ticks\": \"\"}}, \"type\": \"scatterternary\"}], \"surface\": [{\"colorbar\": {\"outlinewidth\": 0, \"ticks\": \"\"}, \"colorscale\": [[0.0, \"#0d0887\"], [0.1111111111111111, \"#46039f\"], [0.2222222222222222, \"#7201a8\"], [0.3333333333333333, \"#9c179e\"], [0.4444444444444444, \"#bd3786\"], [0.5555555555555556, \"#d8576b\"], [0.6666666666666666, \"#ed7953\"], [0.7777777777777778, \"#fb9f3a\"], [0.8888888888888888, \"#fdca26\"], [1.0, \"#f0f921\"]], \"type\": \"surface\"}], \"table\": [{\"cells\": {\"fill\": {\"color\": \"#EBF0F8\"}, \"line\": {\"color\": \"white\"}}, \"header\": {\"fill\": {\"color\": \"#C8D4E3\"}, \"line\": {\"color\": \"white\"}}, \"type\": \"table\"}]}, \"layout\": {\"annotationdefaults\": {\"arrowcolor\": \"#2a3f5f\", \"arrowhead\": 0, \"arrowwidth\": 1}, \"coloraxis\": {\"colorbar\": {\"outlinewidth\": 0, \"ticks\": \"\"}}, \"colorscale\": {\"diverging\": [[0, \"#8e0152\"], [0.1, \"#c51b7d\"], [0.2, \"#de77ae\"], [0.3, \"#f1b6da\"], [0.4, \"#fde0ef\"], [0.5, \"#f7f7f7\"], [0.6, \"#e6f5d0\"], [0.7, \"#b8e186\"], [0.8, \"#7fbc41\"], [0.9, \"#4d9221\"], [1, \"#276419\"]], \"sequential\": [[0.0, \"#0d0887\"], [0.1111111111111111, \"#46039f\"], [0.2222222222222222, \"#7201a8\"], [0.3333333333333333, \"#9c179e\"], [0.4444444444444444, \"#bd3786\"], [0.5555555555555556, \"#d8576b\"], [0.6666666666666666, \"#ed7953\"], [0.7777777777777778, \"#fb9f3a\"], [0.8888888888888888, \"#fdca26\"], [1.0, \"#f0f921\"]], \"sequentialminus\": [[0.0, \"#0d0887\"], [0.1111111111111111, \"#46039f\"], [0.2222222222222222, \"#7201a8\"], [0.3333333333333333, \"#9c179e\"], [0.4444444444444444, \"#bd3786\"], [0.5555555555555556, \"#d8576b\"], [0.6666666666666666, \"#ed7953\"], [0.7777777777777778, \"#fb9f3a\"], [0.8888888888888888, \"#fdca26\"], [1.0, \"#f0f921\"]]}, \"colorway\": [\"#636efa\", \"#EF553B\", \"#00cc96\", \"#ab63fa\", \"#FFA15A\", \"#19d3f3\", \"#FF6692\", \"#B6E880\", \"#FF97FF\", \"#FECB52\"], \"font\": {\"color\": \"#2a3f5f\"}, \"geo\": {\"bgcolor\": \"white\", \"lakecolor\": \"white\", \"landcolor\": \"#E5ECF6\", \"showlakes\": true, \"showland\": true, \"subunitcolor\": \"white\"}, \"hoverlabel\": {\"align\": \"left\"}, \"hovermode\": \"closest\", \"mapbox\": {\"style\": \"light\"}, \"paper_bgcolor\": \"white\", \"plot_bgcolor\": \"#E5ECF6\", \"polar\": {\"angularaxis\": {\"gridcolor\": \"white\", \"linecolor\": \"white\", \"ticks\": \"\"}, \"bgcolor\": \"#E5ECF6\", \"radialaxis\": {\"gridcolor\": \"white\", \"linecolor\": \"white\", \"ticks\": \"\"}}, \"scene\": {\"xaxis\": {\"backgroundcolor\": \"#E5ECF6\", \"gridcolor\": \"white\", \"gridwidth\": 2, \"linecolor\": \"white\", \"showbackground\": true, \"ticks\": \"\", \"zerolinecolor\": \"white\"}, \"yaxis\": {\"backgroundcolor\": \"#E5ECF6\", \"gridcolor\": \"white\", \"gridwidth\": 2, \"linecolor\": \"white\", \"showbackground\": true, \"ticks\": \"\", \"zerolinecolor\": \"white\"}, \"zaxis\": {\"backgroundcolor\": \"#E5ECF6\", \"gridcolor\": \"white\", \"gridwidth\": 2, \"linecolor\": \"white\", \"showbackground\": true, \"ticks\": \"\", \"zerolinecolor\": \"white\"}}, \"shapedefaults\": {\"line\": {\"color\": \"#2a3f5f\"}}, \"ternary\": {\"aaxis\": {\"gridcolor\": \"white\", \"linecolor\": \"white\", \"ticks\": \"\"}, \"baxis\": {\"gridcolor\": \"white\", \"linecolor\": \"white\", \"ticks\": \"\"}, \"bgcolor\": \"#E5ECF6\", \"caxis\": {\"gridcolor\": \"white\", \"linecolor\": \"white\", \"ticks\": \"\"}}, \"title\": {\"x\": 0.05}, \"xaxis\": {\"automargin\": true, \"gridcolor\": \"white\", \"linecolor\": \"white\", \"ticks\": \"\", \"title\": {\"standoff\": 15}, \"zerolinecolor\": \"white\", \"zerolinewidth\": 2}, \"yaxis\": {\"automargin\": true, \"gridcolor\": \"white\", \"linecolor\": \"white\", \"ticks\": \"\", \"title\": {\"standoff\": 15}, \"zerolinecolor\": \"white\", \"zerolinewidth\": 2}}}, \"title\": {\"font\": {\"color\": \"#4D5663\"}, \"text\": \"Deaths\"}, \"xaxis\": {\"gridcolor\": \"#E1E5ED\", \"showgrid\": true, \"tickfont\": {\"color\": \"#4D5663\"}, \"title\": {\"font\": {\"color\": \"#4D5663\"}, \"text\": \"State\"}, \"zerolinecolor\": \"#E1E5ED\"}, \"yaxis\": {\"gridcolor\": \"#E1E5ED\", \"showgrid\": true, \"tickfont\": {\"color\": \"#4D5663\"}, \"title\": {\"font\": {\"color\": \"#4D5663\"}, \"text\": \"Deaths\"}, \"zerolinecolor\": \"#E1E5ED\"}},\n",
       "                        {\"showLink\": true, \"linkText\": \"Export to plot.ly\", \"plotlyServerURL\": \"https://plot.ly\", \"responsive\": true}\n",
       "                    ).then(function(){\n",
       "                            \n",
       "var gd = document.getElementById('5e2f4788-35d8-478a-bf04-83837880e47b');\n",
       "var x = new MutationObserver(function (mutations, observer) {{\n",
       "        var display = window.getComputedStyle(gd).display;\n",
       "        if (!display || display === 'none') {{\n",
       "            console.log([gd, 'removed!']);\n",
       "            Plotly.purge(gd);\n",
       "            observer.disconnect();\n",
       "        }}\n",
       "}});\n",
       "\n",
       "// Listen for the removal of the full notebook cells\n",
       "var notebookContainer = gd.closest('#notebook-container');\n",
       "if (notebookContainer) {{\n",
       "    x.observe(notebookContainer, {childList: true});\n",
       "}}\n",
       "\n",
       "// Listen for the clearing of the current output cell\n",
       "var outputEl = gd.closest('.output');\n",
       "if (outputEl) {{\n",
       "    x.observe(outputEl, {childList: true});\n",
       "}}\n",
       "\n",
       "                        })\n",
       "                };\n",
       "                });\n",
       "            </script>\n",
       "        </div>"
      ]
     },
     "metadata": {},
     "output_type": "display_data"
    }
   ],
   "source": [
    "df.iplot(kind=\"scatter\",x=\"State\",y=\"Deaths\",mode='markers+lines',title=\"Deaths\",xTitle=\"State\",yTitle=\"Deaths\",colors='blue',size=0)"
   ]
  },
  {
   "cell_type": "markdown",
   "metadata": {},
   "source": [
    "---"
   ]
  },
  {
   "cell_type": "markdown",
   "metadata": {},
   "source": [
    "# Data from 30 January till Date"
   ]
  },
  {
   "cell_type": "code",
   "execution_count": null,
   "metadata": {},
   "outputs": [],
   "source": [
    "df_data=pd.read_csv(\"https://api.covid19india.org/csv/latest/case_time_series.csv\")\n",
    "##df_data"
   ]
  },
  {
   "cell_type": "markdown",
   "metadata": {},
   "source": [
    "# Total Confirmed,Recovered,Deceased Date Wise"
   ]
  },
  {
   "cell_type": "code",
   "execution_count": null,
   "metadata": {},
   "outputs": [],
   "source": [
    "df_data.iplot(kind=\"scatter\",x=\"Date\",y=[\"Total Confirmed\",\"Total Recovered\",\"Total Deceased\"],mode='markers+lines',xTitle=\"Date\",yTitle=\"Total Confirmed,Recovered and Deceased\",colors=['blue','red','green'],size=0)"
   ]
  },
  {
   "cell_type": "markdown",
   "metadata": {},
   "source": [
    "# Daily Confirmed,Recovered,Deceased "
   ]
  },
  {
   "cell_type": "code",
   "execution_count": null,
   "metadata": {},
   "outputs": [],
   "source": [
    "df_data.iplot(kind=\"scatter\",x=\"Date\",y=[\"Daily Confirmed\",\"Daily Recovered\",\"Daily Deceased\"],mode='markers+lines',title=\"Daily\",xTitle=\"Date\",yTitle=\"Confirmed,Recovered,Deceased \",colors=['blue','red','green'],size=0)"
   ]
  },
  {
   "cell_type": "code",
   "execution_count": null,
   "metadata": {},
   "outputs": [],
   "source": [
    "from IPython.display import HTML\n",
    "\n",
    "HTML('''<script>\n",
    "code_show=true; \n",
    "function code_toggle() {\n",
    " if (code_show){\n",
    " $('div.input').hide();\n",
    " } else {\n",
    " $('div.input').show();\n",
    " }\n",
    " code_show = !code_show\n",
    "} \n",
    "$( document ).ready(code_toggle);\n",
    "</script>\n",
    "<form action=\"javascript:code_toggle()\"><input type=\"submit\" value=\"Click here to toggle on/off the raw code.\"></form>''')"
   ]
  },
  {
   "cell_type": "code",
   "execution_count": null,
   "metadata": {},
   "outputs": [],
   "source": []
  }
 ],
 "metadata": {
  "hide_input": false,
  "kernelspec": {
   "display_name": "Python 3",
   "language": "python",
   "name": "python3"
  },
  "language_info": {
   "codemirror_mode": {
    "name": "ipython",
    "version": 3
   },
   "file_extension": ".py",
   "mimetype": "text/x-python",
   "name": "python",
   "nbconvert_exporter": "python",
   "pygments_lexer": "ipython3",
   "version": "3.7.6"
  }
 },
 "nbformat": 4,
 "nbformat_minor": 4
}
